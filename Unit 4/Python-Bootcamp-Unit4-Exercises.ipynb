{
 "cells": [
  {
   "cell_type": "markdown",
   "metadata": {},
   "source": [
    "## **Python Bootcamp - Unit 4 Exercises**\n",
    "---\n",
    "**Author:** David Dobolyi\n",
    "\n",
    "**Contents**\n",
    "- [Exercise 1](#Exercise-1)\n",
    "- [Exercise 2](#Exercise-2)\n",
    "- [Exercise 3](#Exercise-3)\n",
    "- [Exercise 4](#Exercise-4)\n",
    "- [Exercise 5](#Exercise-5)\n",
    "- [Exercise 6](#Exercise-6)\n",
    "- [Exercise 7](#Exercise-7)\n",
    "- [Exercise 8](#Exercise-8)\n",
    "- [Exercise 9](#Exercise-9)\n",
    "- [Exercise 10](#Exercise-10)\n",
    "- [Exercise 11](#Exercise-11)\n",
    "- [Exercise 12](#Exercise-12)\n",
    "- [Exercise 13](#Exercise-13)"
   ]
  },
  {
   "cell_type": "markdown",
   "metadata": {},
   "source": [
    "---\n",
    "### Exercise 1\n",
    "\n",
    "Modify the second line of the code cell below to multiply exNum by 2 without referring to the variable by name twice (i.e., in the second line of code, `exNum` should only appear once, rather than twice as it initially does). *Hint:* you need to use *augmented assignment*."
   ]
  },
  {
   "cell_type": "code",
   "execution_count": 1,
   "metadata": {},
   "outputs": [
    {
     "data": {
      "text/plain": [
       "500"
      ]
     },
     "execution_count": 1,
     "metadata": {},
     "output_type": "execute_result"
    }
   ],
   "source": [
    "exNum = 250\n",
    "exNum = exNum * 2\n",
    "exNum"
   ]
  },
  {
   "cell_type": "markdown",
   "metadata": {},
   "source": [
    "---\n",
    "### Exercise 2\n",
    "\n",
    "Create the following lists and use the display function to show their contents:\n",
    "\n",
    "1. **exVec1** containing the following numbers: 3, 10, -5, 4, 8\n",
    "2. **exVec2** containing the following numbers: 'A', 10, 'B', 20, 'C', 30\n",
    "3. **exVec3** containing a sequence from -3 to 9 by steps of 2 using the **range** function\n",
    "\n",
    "*Hint*: for creating the third array, be sure to use the *list constructor* to convert the output of the range function to a list so that you can see the underlying values. You may also need to carefully consider how you set the *stop* argument to ensure you get the right result."
   ]
  },
  {
   "cell_type": "markdown",
   "metadata": {},
   "source": [
    "---\n",
    "### Exercise 3\n",
    "\n",
    "Using exVec1, show:\n",
    "\n",
    "1. the length of the list: 5\n",
    "2. the first element of exVec1: 3\n",
    "3. the third element of exVec1: -5\n",
    "4. the second to last element of exVec1 using a negative index: 4\n",
    "\n",
    "*Hint*: make certain your solutions show the values noted above!"
   ]
  },
  {
   "cell_type": "markdown",
   "metadata": {},
   "source": [
    "---\n",
    "### Exercise 4\n",
    "\n",
    "Now use list *slices* to show:\n",
    "\n",
    "1. the 2nd through 4th elements of exVec1: 10, -5, 4\n",
    "2. the first three elements of exVec2: 'A', 10, 'B'\n",
    "3. the last three elements of exVec3: 5, 7, 9\n",
    "\n",
    "*Hint*: once again, make certain your solutions show the values noted above!"
   ]
  },
  {
   "cell_type": "markdown",
   "metadata": {},
   "source": [
    "---\n",
    "### Exercise 5\n",
    "\n",
    "Join together lists exVec1 and exVec2 and show the result."
   ]
  },
  {
   "cell_type": "markdown",
   "metadata": {},
   "source": [
    "---\n",
    "### Exercise 6\n",
    "\n",
    "Reverse the order of exVec3 using a list *method* (e.g., `exVec3._____()`, where `_____` will need to be filled in with the name of the suitable method) and show the result."
   ]
  },
  {
   "cell_type": "markdown",
   "metadata": {},
   "source": [
    "---\n",
    "### Exercise 7\n",
    "\n",
    "Run the code cell you created to solve [Exercise 6](#Exercise-6) above several times and pay attention to how the output changes with each run. Insert a markdown cell below to explain what is going on.\n",
    "\n",
    "*Hint*: see the help for the list method you used in [Exercise 6](#Exercise-6) via `help(list)`."
   ]
  },
  {
   "cell_type": "markdown",
   "metadata": {
    "tags": []
   },
   "source": [
    "---\n",
    "### Exercise 8\n",
    "In a code cell below, create a modified version of your solution from [Exercise 6](#Exercise-6) that incorporates the list *copy* method so that the result no longer changes with each run."
   ]
  },
  {
   "cell_type": "markdown",
   "metadata": {},
   "source": [
    "---\n",
    "### Exercise 9\n",
    "Use a *stride* to achieve the same effect as your solution to [Exercise 8](#Exercise-8) above without the need for employing a copy."
   ]
  },
  {
   "cell_type": "markdown",
   "metadata": {},
   "source": [
    "---\n",
    "### Exercise 10\n",
    "Run the code cell below to create a list, tuple, and set of the same items named exList, exTuple, and exSet, respectively."
   ]
  },
  {
   "cell_type": "code",
   "execution_count": 2,
   "metadata": {},
   "outputs": [],
   "source": [
    "exList = ['E', 'B', 'A', 'D', 'E']\n",
    "exTuple = ('E', 'B', 'A', 'D', 'E')\n",
    "exSet = {'E', 'B', 'A', 'D', 'E'}"
   ]
  },
  {
   "cell_type": "markdown",
   "metadata": {},
   "source": [
    "Using these three variables, answer the following questions using a markdown cell:\n",
    "\n",
    "1. Which of the three are immutable, meaning their values are not meant to change once established?\n",
    "2. Which can be indexed (i.e., using square brackets)?\n",
    "3. Which ones may contain duplicates?\n",
    "4. Which ones are unordered?\n",
    "\n",
    "*Hint*: try displaying each of the variables and/or indexing them to help answer the questions above."
   ]
  },
  {
   "cell_type": "markdown",
   "metadata": {},
   "source": [
    "---\n",
    "### Exercise 11\n",
    "What sequence operator could you use to check if any of the variables from [Exercise 10](#Exercise-10) contain the letter C? Use a code cell below to answer this question via an example:"
   ]
  },
  {
   "cell_type": "markdown",
   "metadata": {},
   "source": [
    "---\n",
    "### Exercise 12\n",
    "Create a nested dictionary called petDB that stores the Name, Age, and Type of the following four pets:\n",
    "\n",
    "- Pet1: Fuzzums, 3, Cat\n",
    "- Pet2: Skippy, 7, Dog\n",
    "- Pet3: Mr. Whiskers, 10, Cat\n",
    "- Pet4: Loki, 2, Dog"
   ]
  },
  {
   "cell_type": "markdown",
   "metadata": {},
   "source": [
    "---\n",
    "### Exercise 13\n",
    "Use dictionary keys to access the data in petDB and show the Age of Pet4 (i.e., 2).\n",
    "\n",
    "*Hint*: you can chain together multiple keys via multiple square brackets to access data situated deeper within a nested dict."
   ]
  }
 ],
 "metadata": {
  "kernelspec": {
   "display_name": "Python 3 (ipykernel)",
   "language": "python",
   "name": "python3"
  },
  "language_info": {
   "codemirror_mode": {
    "name": "ipython",
    "version": 3
   },
   "file_extension": ".py",
   "mimetype": "text/x-python",
   "name": "python",
   "nbconvert_exporter": "python",
   "pygments_lexer": "ipython3",
   "version": "3.9.7"
  }
 },
 "nbformat": 4,
 "nbformat_minor": 4
}
