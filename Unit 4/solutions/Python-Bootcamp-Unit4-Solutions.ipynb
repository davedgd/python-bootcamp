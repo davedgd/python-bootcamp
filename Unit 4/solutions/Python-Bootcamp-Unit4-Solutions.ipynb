{
 "cells": [
  {
   "cell_type": "markdown",
   "metadata": {},
   "source": [
    "## **Python Bootcamp - Unit 4 Solutions**\n",
    "---\n",
    "**Author:** David Dobolyi\n",
    "\n",
    "**Contents**\n",
    "- [Exercise 1](#Exercise-1)\n",
    "- [Exercise 2](#Exercise-2)\n",
    "- [Exercise 3](#Exercise-3)\n",
    "- [Exercise 4](#Exercise-4)\n",
    "- [Exercise 5](#Exercise-5)\n",
    "- [Exercise 6](#Exercise-6)\n",
    "- [Exercise 7](#Exercise-7)\n",
    "- [Exercise 8](#Exercise-8)\n",
    "- [Exercise 9](#Exercise-9)\n",
    "- [Exercise 10](#Exercise-10)\n",
    "- [Exercise 11](#Exercise-11)\n",
    "- [Exercise 12](#Exercise-12)\n",
    "- [Exercise 13](#Exercise-13)"
   ]
  },
  {
   "cell_type": "markdown",
   "metadata": {},
   "source": [
    "---\n",
    "### Exercise 1\n",
    "\n",
    "Modify the second line of the code cell below to multiply exNum by 2 without referring to the variable by name twice (i.e., in the second line of code, `exNum` should only appear once, rather than twice as it initially does). *Hint:* you need to use *augmented assignment*."
   ]
  },
  {
   "cell_type": "code",
   "execution_count": 1,
   "metadata": {},
   "outputs": [
    {
     "data": {
      "text/plain": [
       "500"
      ]
     },
     "execution_count": 1,
     "metadata": {},
     "output_type": "execute_result"
    }
   ],
   "source": [
    "exNum = 250\n",
    "exNum *= 2\n",
    "exNum"
   ]
  },
  {
   "cell_type": "markdown",
   "metadata": {},
   "source": [
    "---\n",
    "### Exercise 2\n",
    "\n",
    "Create the following lists and use the display function to show their contents:\n",
    "\n",
    "1. **exVec1** containing the following numbers: 3, 10, -5, 4, 8\n",
    "2. **exVec2** containing the following numbers: 'A', 10, 'B', 20, 'C', 30\n",
    "3. **exVec3** containing a sequence from -3 to 9 by steps of 2 using the **range** function\n",
    "\n",
    "*Hint*: for creating the third array, be sure to use the *list constructor* to convert the output of the range function to a list so that you can see the underlying values. You may also need to carefully consider how you set the *stop* argument to ensure you get the right result."
   ]
  },
  {
   "cell_type": "code",
   "execution_count": 2,
   "metadata": {},
   "outputs": [
    {
     "data": {
      "text/plain": [
       "[3, 10, -5, 4, 8]"
      ]
     },
     "metadata": {},
     "output_type": "display_data"
    },
    {
     "data": {
      "text/plain": [
       "['A', 10, 'B', 20, 'C', 30]"
      ]
     },
     "metadata": {},
     "output_type": "display_data"
    },
    {
     "data": {
      "text/plain": [
       "[-3, -1, 1, 3, 5, 7, 9]"
      ]
     },
     "metadata": {},
     "output_type": "display_data"
    }
   ],
   "source": [
    "exVec1 = [3, 10, -5, 4, 8]\n",
    "exVec2 = ['A', 10, 'B', 20, 'C', 30]\n",
    "exVec3 = list(range(-3, 9 + 1, 2))\n",
    "\n",
    "display(exVec1, exVec2, exVec3) # check the results (at once)"
   ]
  },
  {
   "cell_type": "markdown",
   "metadata": {},
   "source": [
    "---\n",
    "### Exercise 3\n",
    "\n",
    "Using exVec1, show:\n",
    "\n",
    "1. the length of the list: 5\n",
    "2. the first element of exVec1: 3\n",
    "3. the third element of exVec1: -5\n",
    "4. the second to last element of exVec1 using a negative index: 4\n",
    "\n",
    "*Hint*: make certain your solutions show the values noted above!"
   ]
  },
  {
   "cell_type": "code",
   "execution_count": 3,
   "metadata": {},
   "outputs": [
    {
     "data": {
      "text/plain": [
       "5"
      ]
     },
     "execution_count": 3,
     "metadata": {},
     "output_type": "execute_result"
    }
   ],
   "source": [
    "len(exVec1)"
   ]
  },
  {
   "cell_type": "code",
   "execution_count": 4,
   "metadata": {},
   "outputs": [
    {
     "data": {
      "text/plain": [
       "3"
      ]
     },
     "execution_count": 4,
     "metadata": {},
     "output_type": "execute_result"
    }
   ],
   "source": [
    "exVec1[0]"
   ]
  },
  {
   "cell_type": "code",
   "execution_count": 5,
   "metadata": {},
   "outputs": [
    {
     "data": {
      "text/plain": [
       "-5"
      ]
     },
     "execution_count": 5,
     "metadata": {},
     "output_type": "execute_result"
    }
   ],
   "source": [
    "exVec1[2]"
   ]
  },
  {
   "cell_type": "code",
   "execution_count": 6,
   "metadata": {},
   "outputs": [
    {
     "data": {
      "text/plain": [
       "4"
      ]
     },
     "execution_count": 6,
     "metadata": {},
     "output_type": "execute_result"
    }
   ],
   "source": [
    "exVec1[-2]"
   ]
  },
  {
   "cell_type": "markdown",
   "metadata": {},
   "source": [
    "---\n",
    "### Exercise 4\n",
    "\n",
    "Now use list *slices* to show:\n",
    "\n",
    "1. the 2nd through 4th elements of exVec1: 10, -5, 4\n",
    "2. the first three elements of exVec2: 'A', 10, 'B'\n",
    "3. the last three elements of exVec3: 5, 7, 9\n",
    "\n",
    "*Hint*: once again, make certain your solutions show the values noted above!"
   ]
  },
  {
   "cell_type": "code",
   "execution_count": 7,
   "metadata": {},
   "outputs": [
    {
     "data": {
      "text/plain": [
       "[10, -5, 4]"
      ]
     },
     "execution_count": 7,
     "metadata": {},
     "output_type": "execute_result"
    }
   ],
   "source": [
    "exVec1[1:4]"
   ]
  },
  {
   "cell_type": "code",
   "execution_count": 8,
   "metadata": {},
   "outputs": [
    {
     "data": {
      "text/plain": [
       "['A', 10, 'B']"
      ]
     },
     "execution_count": 8,
     "metadata": {},
     "output_type": "execute_result"
    }
   ],
   "source": [
    "exVec2[:3]"
   ]
  },
  {
   "cell_type": "code",
   "execution_count": 9,
   "metadata": {},
   "outputs": [
    {
     "data": {
      "text/plain": [
       "[5, 7, 9]"
      ]
     },
     "execution_count": 9,
     "metadata": {},
     "output_type": "execute_result"
    }
   ],
   "source": [
    "exVec3[-3:]"
   ]
  },
  {
   "cell_type": "markdown",
   "metadata": {},
   "source": [
    "---\n",
    "### Exercise 5\n",
    "\n",
    "Join together lists exVec1 and exVec2 and show the result."
   ]
  },
  {
   "cell_type": "code",
   "execution_count": 10,
   "metadata": {},
   "outputs": [
    {
     "data": {
      "text/plain": [
       "[3, 10, -5, 4, 8, 'A', 10, 'B', 20, 'C', 30]"
      ]
     },
     "execution_count": 10,
     "metadata": {},
     "output_type": "execute_result"
    }
   ],
   "source": [
    "exVec1 + exVec2"
   ]
  },
  {
   "cell_type": "markdown",
   "metadata": {},
   "source": [
    "---\n",
    "### Exercise 6\n",
    "\n",
    "Reverse the order of exVec3 using a list *method* (e.g., `exVec3._____()`, where `_____` will need to be filled in with the name of the suitable method) and show the result."
   ]
  },
  {
   "cell_type": "code",
   "execution_count": 11,
   "metadata": {},
   "outputs": [
    {
     "data": {
      "text/plain": [
       "[9, 7, 5, 3, 1, -1, -3]"
      ]
     },
     "execution_count": 11,
     "metadata": {},
     "output_type": "execute_result"
    }
   ],
   "source": [
    "exVec3.reverse()\n",
    "exVec3"
   ]
  },
  {
   "cell_type": "markdown",
   "metadata": {},
   "source": [
    "---\n",
    "### Exercise 7\n",
    "\n",
    "Run the code cell you created to solve [Exercise 6](#Exercise-6) above several times and pay attention to how the output changes with each run. Insert a markdown cell below to explain what is going on.\n",
    "\n",
    "*Hint*: see the help for the list method you used in [Exercise 6](#Exercise-6) via `help(list)`."
   ]
  },
  {
   "cell_type": "markdown",
   "metadata": {},
   "source": [
    "**Answer:** The reverse method is reversing the order of exVec3 in place, meaning that it permanently reverses the order each time the code is run (e.g., from original -> reverse -> original, and so on)."
   ]
  },
  {
   "cell_type": "markdown",
   "metadata": {
    "tags": []
   },
   "source": [
    "---\n",
    "### Exercise 8\n",
    "In a code cell below, create a modified version of your solution from [Exercise 6](#Exercise-6) that incorporates the list *copy* method so that the result no longer changes with each run."
   ]
  },
  {
   "cell_type": "code",
   "execution_count": 12,
   "metadata": {},
   "outputs": [
    {
     "data": {
      "text/plain": [
       "[-3, -1, 1, 3, 5, 7, 9]"
      ]
     },
     "execution_count": 12,
     "metadata": {},
     "output_type": "execute_result"
    }
   ],
   "source": [
    "exVec3Copy = exVec3.copy()\n",
    "exVec3Copy.reverse()\n",
    "exVec3Copy"
   ]
  },
  {
   "cell_type": "markdown",
   "metadata": {},
   "source": [
    "---\n",
    "### Exercise 9\n",
    "Use a *stride* to achieve the same effect as your solution to [Exercise 8](#Exercise-8) above without the need for employing a copy."
   ]
  },
  {
   "cell_type": "code",
   "execution_count": 13,
   "metadata": {},
   "outputs": [
    {
     "data": {
      "text/plain": [
       "[-3, -1, 1, 3, 5, 7, 9]"
      ]
     },
     "execution_count": 13,
     "metadata": {},
     "output_type": "execute_result"
    }
   ],
   "source": [
    "exVec3[::-1]"
   ]
  },
  {
   "cell_type": "markdown",
   "metadata": {},
   "source": [
    "---\n",
    "### Exercise 10\n",
    "Run the code cell below to create a list, tuple, and set of the same items named exList, exTuple, and exSet, respectively."
   ]
  },
  {
   "cell_type": "code",
   "execution_count": 14,
   "metadata": {},
   "outputs": [],
   "source": [
    "exList = ['E', 'B', 'A', 'D', 'E']\n",
    "exTuple = ('E', 'B', 'A', 'D', 'E')\n",
    "exSet = {'E', 'B', 'A', 'D', 'E'}"
   ]
  },
  {
   "cell_type": "markdown",
   "metadata": {},
   "source": [
    "Using these three variables, answer the following questions using a markdown cell:\n",
    "\n",
    "1. Which of the three are immutable, meaning their values are not meant to change once established?\n",
    "2. Which can be indexed (i.e., using square brackets)?\n",
    "3. Which ones may contain duplicates?\n",
    "4. Which ones are unordered?\n",
    "\n",
    "*Hint*: try displaying each of the variables and/or indexing them to help answer the questions above."
   ]
  },
  {
   "cell_type": "markdown",
   "metadata": {},
   "source": [
    "**Answers**\n",
    "\n",
    "1. exTuple is immutable\n",
    "2. exList and exTuple are indexable\n",
    "3. exList and exTuple allow duplicates\n",
    "4. exSet is unordered"
   ]
  },
  {
   "cell_type": "markdown",
   "metadata": {},
   "source": [
    "---\n",
    "### Exercise 11\n",
    "What sequence operator could you use to check if any of the variables from [Exercise 10](#Exercise-10) contain the letter C? Use a code cell below to answer this question via an example:"
   ]
  },
  {
   "cell_type": "code",
   "execution_count": 15,
   "metadata": {},
   "outputs": [
    {
     "data": {
      "text/plain": [
       "False"
      ]
     },
     "metadata": {},
     "output_type": "display_data"
    },
    {
     "data": {
      "text/plain": [
       "False"
      ]
     },
     "metadata": {},
     "output_type": "display_data"
    },
    {
     "data": {
      "text/plain": [
       "False"
      ]
     },
     "metadata": {},
     "output_type": "display_data"
    }
   ],
   "source": [
    "display('C' in exList, 'C' in exTuple, 'C' in exSet)"
   ]
  },
  {
   "cell_type": "markdown",
   "metadata": {},
   "source": [
    "---\n",
    "### Exercise 12\n",
    "Create a nested dictionary called petDB that stores the Name, Age, and Type of the following four pets:\n",
    "\n",
    "- Pet1: Fuzzums, 3, Cat\n",
    "- Pet2: Skippy, 7, Dog\n",
    "- Pet3: Mr. Whiskers, 10, Cat\n",
    "- Pet4: Loki, 2, Dog"
   ]
  },
  {
   "cell_type": "code",
   "execution_count": 16,
   "metadata": {},
   "outputs": [
    {
     "data": {
      "text/plain": [
       "{'Pet1': {'Name': 'Fuzzums', 'Age': 3, 'Type': 'Cat'},\n",
       " 'Pet2': {'Name': 'Skippy', 'Age': 7, 'Type': 'Dog'},\n",
       " 'Pet3': {'Name': 'Mr. Whiskers', 'Age': 10, 'Type': 'Cat'},\n",
       " 'Pet4': {'Name': 'Loki', 'Age': 2, 'Type': 'Dog'}}"
      ]
     },
     "execution_count": 16,
     "metadata": {},
     "output_type": "execute_result"
    }
   ],
   "source": [
    "petDB = {'Pet1': {'Name': 'Fuzzums', 'Age': 3, 'Type': 'Cat'},\n",
    "         'Pet2': {'Name': 'Skippy', 'Age': 7, 'Type': 'Dog'},\n",
    "         'Pet3': {'Name': 'Mr. Whiskers', 'Age': 10, 'Type': 'Cat'},\n",
    "         'Pet4': {'Name': 'Loki', 'Age': 2, 'Type': 'Dog'}}\n",
    "\n",
    "petDB"
   ]
  },
  {
   "cell_type": "markdown",
   "metadata": {},
   "source": [
    "---\n",
    "### Exercise 13\n",
    "Use dictionary keys to access the data in petDB and show the Age of Pet4 (i.e., 2).\n",
    "\n",
    "*Hint*: you can chain together multiple keys via multiple square brackets to access data situated deeper within a nested dict."
   ]
  },
  {
   "cell_type": "code",
   "execution_count": 17,
   "metadata": {},
   "outputs": [
    {
     "data": {
      "text/plain": [
       "2"
      ]
     },
     "execution_count": 17,
     "metadata": {},
     "output_type": "execute_result"
    }
   ],
   "source": [
    "petDB['Pet4']['Age']"
   ]
  }
 ],
 "metadata": {
  "kernelspec": {
   "display_name": "Python 3 (ipykernel)",
   "language": "python",
   "name": "python3"
  },
  "language_info": {
   "codemirror_mode": {
    "name": "ipython",
    "version": 3
   },
   "file_extension": ".py",
   "mimetype": "text/x-python",
   "name": "python",
   "nbconvert_exporter": "python",
   "pygments_lexer": "ipython3",
   "version": "3.9.7"
  }
 },
 "nbformat": 4,
 "nbformat_minor": 4
}
