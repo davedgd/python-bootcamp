{
 "cells": [
  {
   "cell_type": "markdown",
   "metadata": {},
   "source": [
    "## **Python Bootcamp - Unit 5**\n",
    "---\n",
    "**Author:** David Dobolyi\n",
    "\n",
    "**Key Concepts**\n",
    "- [Importable Data Structures](#Importable-Data-Structures)\n",
    "    - [NumPy Arrays](#NumPy-Arrays)\n",
    "        - [Accessing Array Elements](#Accessing-Array-Elements)\n",
    "        - [Updating Array Elements](#Updating-Array-Elements)\n",
    "        - [Adding Array Elements](#Adding-Array-Elements)\n",
    "        - [Deleting Array Elements](#Deleting-Array-Elements)\n",
    "        - [Joining Arrays](#Joining-Arrays)\n",
    "        - [Other Array Methods](#Other-Array-Methods)\n",
    "        - [Multidimensional Arrays](#Multidimensional-Arrays)\n",
    "    - [pandas DataFrames](#pandas-DataFrames)\n",
    "        - [Reading and Viewing Data](#Reading-and-Viewing-Data)\n",
    "        - [Setting Data Types](#Setting-Data-Types)\n",
    "        - [Accessing DataFrame Elements](#Accessing-DataFrame-Elements)\n",
    "        - [Bitwise Operators and Querying](#Bitwise-Operators-and-Querying)\n",
    "        - [Updating DataFrame Elements](#Updating-DataFrame-Elements)\n",
    "        - [Adding DataFrame Elements](#Adding-DataFrame-Elements)\n",
    "        - [Deleting DataFrame Elements](#Deleting-DataFrame-Elements)\n",
    "        - [Renaming Indexes](#Renaming-Indexes)\n",
    "        - [Joining DataFrames](#Joining-DataFrames)\n",
    "        - [Grouping and Aggregate Functions](#Grouping-and-Aggregate-Functions)\n",
    "        - [Writing Data](#Writing-Data)\n",
    "        - [Other DataFrame Methods](#Other-DataFrame-Methods)\n",
    "    - [pandas Series](#pandas-Series)"
   ]
  },
  {
   "cell_type": "markdown",
   "metadata": {},
   "source": [
    "---\n",
    "### Importable Data Structures\n",
    "\n",
    "In addition to built-in data structures such as *lists*, Python supports importing a variety of useful external data structures. As mentioned in the previous unit, two essential examples of these used in data science include:\n",
    "\n",
    "- [numpy.array](https://numpy.org/devdocs/reference/generated/numpy.array.html)\n",
    "- [pandas.DataFrame](https://pandas.pydata.org/pandas-docs/stable/reference/api/pandas.DataFrame.html)\n",
    "\n",
    "These two data structures will be covered in this unit, along with a brief introduction to a relevant structure, [pandas.Series](https://pandas.pydata.org/pandas-docs/stable/reference/api/pandas.Series.html)."
   ]
  },
  {
   "cell_type": "markdown",
   "metadata": {},
   "source": [
    "#### NumPy Arrays\n",
    "\n",
    "When working with data, it is extremely common to store data into *NumPy arrays*, which are very similar conceptually to Python's built-in *lists*. There are a few key advantages of using NumPy arrays however, including:\n",
    "\n",
    "- Lower memory utilization\n",
    "- Better performance\n",
    "- Additional convienent methods and features related to mathematical operations\n",
    "\n",
    "An overview of the advantages of NumPy arrays is available on the [official site](https://numpy.org/devdocs/user/whatisnumpy.html). Moreover, the [user guide](https://numpy.org/devdocs/user/index.html) and [reference manual](https://numpy.org/devdocs/reference/index.html) provide an excellent resource for utilizing all of NumPy's functionality.\n",
    "\n",
    "In this bootcamp, we will cover some of the core features via examples similar to how we covered lists in the previous unit. The primary focus will be on the *ndarray* class, otherwise referred to as a *numpy.array*, which is a ***homogenous*** multidimensional array. The homogenous distinction is important, since as we will see in the following section, NumPy arrays may only contain data of a single data type, similar to arrays in R (see this list of supported [data types](https://numpy.org/devdocs/user/basics.types.html) for additional details).\n",
    "\n",
    "Before we create our first NumPy array, note that we'll need to import (and possibly install) the NumPy package (see Unit 2 for help):"
   ]
  },
  {
   "cell_type": "code",
   "execution_count": 1,
   "metadata": {},
   "outputs": [],
   "source": [
    "import numpy as np"
   ]
  },
  {
   "cell_type": "markdown",
   "metadata": {},
   "source": [
    "The code above will import the NumPy package with the alias `np` to condense our code.\n",
    "\n",
    "Moving on to creating an array, the NumPy user guide covers the [basics](https://numpy.org/devdocs/user/basics.creation.html) in detail, but we will do a simple example together.\n",
    "\n",
    "While NumPy arrays can be created intrinsically, they are more commonly either created when reading in data or converting from existing data structures. For example, suppose we had the following list object containing numbers:"
   ]
  },
  {
   "cell_type": "code",
   "execution_count": 2,
   "metadata": {},
   "outputs": [
    {
     "data": {
      "text/plain": [
       "[5, 3, 2, 5, 6]"
      ]
     },
     "execution_count": 2,
     "metadata": {},
     "output_type": "execute_result"
    }
   ],
   "source": [
    "[5, 3, 2, 5, 6]"
   ]
  },
  {
   "cell_type": "markdown",
   "metadata": {},
   "source": [
    "Currently, these data are obviously in `list` form:"
   ]
  },
  {
   "cell_type": "code",
   "execution_count": 3,
   "metadata": {},
   "outputs": [
    {
     "data": {
      "text/plain": [
       "list"
      ]
     },
     "execution_count": 3,
     "metadata": {},
     "output_type": "execute_result"
    }
   ],
   "source": [
    "type([5, 3, 2, 5, 6])"
   ]
  },
  {
   "cell_type": "markdown",
   "metadata": {},
   "source": [
    "To transition these to a NumPy array, we could write the following code:"
   ]
  },
  {
   "cell_type": "code",
   "execution_count": 4,
   "metadata": {},
   "outputs": [
    {
     "data": {
      "text/plain": [
       "array([5, 3, 2, 5, 6])"
      ]
     },
     "execution_count": 4,
     "metadata": {},
     "output_type": "execute_result"
    }
   ],
   "source": [
    "np.array([5, 3, 2, 5, 6])"
   ]
  },
  {
   "cell_type": "markdown",
   "metadata": {},
   "source": [
    "Notice how the result makes it explicit that we are now working with the data in `numpy.ndarray` form:"
   ]
  },
  {
   "cell_type": "code",
   "execution_count": 5,
   "metadata": {},
   "outputs": [
    {
     "data": {
      "text/plain": [
       "numpy.ndarray"
      ]
     },
     "execution_count": 5,
     "metadata": {},
     "output_type": "execute_result"
    }
   ],
   "source": [
    "type(np.array([5, 3, 2, 5, 6]))"
   ]
  },
  {
   "cell_type": "markdown",
   "metadata": {},
   "source": [
    "This output shows we have our data in the desired NumPy array format. Note that we could also have conducted the same set of operations above using a named variable:"
   ]
  },
  {
   "cell_type": "code",
   "execution_count": 6,
   "metadata": {},
   "outputs": [
    {
     "data": {
      "text/plain": [
       "array([5, 3, 2, 5, 6])"
      ]
     },
     "metadata": {},
     "output_type": "display_data"
    },
    {
     "data": {
      "text/plain": [
       "numpy.ndarray"
      ]
     },
     "metadata": {},
     "output_type": "display_data"
    }
   ],
   "source": [
    "myList = [5, 3, 2, 5, 6]\n",
    "myArray = np.array(myList)\n",
    "display(myArray, type(myArray))"
   ]
  },
  {
   "cell_type": "markdown",
   "metadata": {},
   "source": [
    "Regardless of how we created or stored it, our NumPy array is automatically set to a valid data type for the data we provided as shown via the *dtype* method:"
   ]
  },
  {
   "cell_type": "code",
   "execution_count": 7,
   "metadata": {},
   "outputs": [
    {
     "data": {
      "text/plain": [
       "dtype('int64')"
      ]
     },
     "execution_count": 7,
     "metadata": {},
     "output_type": "execute_result"
    }
   ],
   "source": [
    "myArray.dtype"
   ]
  },
  {
   "cell_type": "markdown",
   "metadata": {},
   "source": [
    "In this case, because all the data in the array contained integers, the dtype (i.e., data type) is automatically set to either `int32` or `int64` depending upon the operating system. For a full list of data type options, consult the NumPy documentation (e.g., [data types](https://numpy.org/devdocs/user/basics.types.html), which was linked earlier). By using specific data types that have constraints on the data they can hold, NumPy can be useful for making your analyses more efficient (e.g., for small integers such as the ones in this example, `int8` would have potentially been more efficient than the default, although these distinctions are technical and outside the scope of this bootcamp).\n",
    "\n",
    "Be sure to always consider the data type as you work with your NumPy arrays, as discussed in a previous unit:"
   ]
  },
  {
   "cell_type": "code",
   "execution_count": 8,
   "metadata": {},
   "outputs": [
    {
     "data": {
      "text/plain": [
       "array([4.5, 6.5, 4.5, 5.5])"
      ]
     },
     "metadata": {},
     "output_type": "display_data"
    },
    {
     "data": {
      "text/plain": [
       "dtype('float64')"
      ]
     },
     "metadata": {},
     "output_type": "display_data"
    }
   ],
   "source": [
    "myFloatArray = np.array([4.5, 6.5, 4.5, 5.5])\n",
    "display(myFloatArray, myFloatArray.dtype)"
   ]
  },
  {
   "cell_type": "code",
   "execution_count": 9,
   "metadata": {},
   "outputs": [
    {
     "data": {
      "text/plain": [
       "array(['cat', 'dog', 'fish', 'hamster'], dtype='<U7')"
      ]
     },
     "metadata": {},
     "output_type": "display_data"
    },
    {
     "data": {
      "text/plain": [
       "dtype('<U7')"
      ]
     },
     "metadata": {},
     "output_type": "display_data"
    }
   ],
   "source": [
    "myStrArray = np.array(['cat', 'dog', 'fish', 'hamster'])\n",
    "display(myStrArray, myStrArray.dtype)"
   ]
  },
  {
   "cell_type": "markdown",
   "metadata": {},
   "source": [
    "Various additional methods are available for NumPy arrays to better understand the properties of the data you are working with. For instance:"
   ]
  },
  {
   "cell_type": "code",
   "execution_count": 10,
   "metadata": {},
   "outputs": [
    {
     "data": {
      "text/plain": [
       "1"
      ]
     },
     "metadata": {},
     "output_type": "display_data"
    },
    {
     "data": {
      "text/plain": [
       "5"
      ]
     },
     "metadata": {},
     "output_type": "display_data"
    },
    {
     "data": {
      "text/plain": [
       "(5,)"
      ]
     },
     "metadata": {},
     "output_type": "display_data"
    }
   ],
   "source": [
    "display(myArray.ndim, myArray.size, myArray.shape)"
   ]
  },
  {
   "cell_type": "markdown",
   "metadata": {},
   "source": [
    "This output shows the number of dimensions of the array, the size of the array, and the shape of the array, respectively. Note that the shape is essentially providing the same information as the former two outputs in condensed form."
   ]
  },
  {
   "cell_type": "markdown",
   "metadata": {},
   "source": [
    "##### **Accessing Array Elements**\n",
    "\n",
    "Conveniently, NumPy arrays work similarly to lists and tuples in terms of how data are accessed. For example, to pull out a specific value, simply provide the relevant index:"
   ]
  },
  {
   "cell_type": "code",
   "execution_count": 11,
   "metadata": {},
   "outputs": [
    {
     "data": {
      "text/plain": [
       "3"
      ]
     },
     "execution_count": 11,
     "metadata": {},
     "output_type": "execute_result"
    }
   ],
   "source": [
    "myArray = np.array([5, 3, 2, 5, 6])\n",
    "\n",
    "myArray[1]"
   ]
  },
  {
   "cell_type": "markdown",
   "metadata": {},
   "source": [
    "Or use a negative index to pull out a value in reverse:"
   ]
  },
  {
   "cell_type": "code",
   "execution_count": 12,
   "metadata": {},
   "outputs": [
    {
     "data": {
      "text/plain": [
       "5"
      ]
     },
     "execution_count": 12,
     "metadata": {},
     "output_type": "execute_result"
    }
   ],
   "source": [
    "myArray[-2] # return the 2nd to last value"
   ]
  },
  {
   "cell_type": "markdown",
   "metadata": {},
   "source": [
    "You can also use slicing to fetch multiple elements at once:"
   ]
  },
  {
   "cell_type": "code",
   "execution_count": 13,
   "metadata": {},
   "outputs": [
    {
     "data": {
      "text/plain": [
       "array([5, 3, 2])"
      ]
     },
     "execution_count": 13,
     "metadata": {},
     "output_type": "execute_result"
    }
   ],
   "source": [
    "myArray[:3] # return the first 3 values"
   ]
  },
  {
   "cell_type": "markdown",
   "metadata": {},
   "source": [
    "One major advantage of arrays however is that you can use an list (or array) of values to return multiple values at once within the bracket, which is something that lists/tuples do not support:"
   ]
  },
  {
   "cell_type": "code",
   "execution_count": 14,
   "metadata": {},
   "outputs": [
    {
     "data": {
      "text/plain": [
       "array([5, 2, 6])"
      ]
     },
     "execution_count": 14,
     "metadata": {},
     "output_type": "execute_result"
    }
   ],
   "source": [
    "myArray[[0, 2, 4]] # return the 1st, 3rd, and 5th value using a list index, i.e., [0, 2, 4]"
   ]
  },
  {
   "cell_type": "markdown",
   "metadata": {},
   "source": [
    "Boolean lists can also be used as a valid index as long as the number of Boolean values is identical to the length of the array itself:"
   ]
  },
  {
   "cell_type": "code",
   "execution_count": 15,
   "metadata": {},
   "outputs": [
    {
     "data": {
      "text/plain": [
       "array([5, 2, 6])"
      ]
     },
     "execution_count": 15,
     "metadata": {},
     "output_type": "execute_result"
    }
   ],
   "source": [
    "myArray[[True, False, True, False, True]] # same result as the above"
   ]
  },
  {
   "cell_type": "markdown",
   "metadata": {},
   "source": [
    "Note in the example above how values in the position of a `True` are returned whereas `False` are not. This type of Boolean indexing or *mask index* can be useful for return values that correspond to a test; for instance:"
   ]
  },
  {
   "cell_type": "code",
   "execution_count": 16,
   "metadata": {},
   "outputs": [
    {
     "data": {
      "text/plain": [
       "array([5, 5, 6])"
      ]
     },
     "execution_count": 16,
     "metadata": {},
     "output_type": "execute_result"
    }
   ],
   "source": [
    "myArray[myArray > 3]"
   ]
  },
  {
   "cell_type": "markdown",
   "metadata": {},
   "source": [
    "Notice how the code above returns only those values of myArray that are greater than the specificied condition (i.e., > 3).\n",
    "\n",
    "Collectively, these examples cover the key basics of accessing data within arrays. For further information, consult the relevant documentation on [indexing](https://numpy.org/devdocs/user/basics.indexing.html)."
   ]
  },
  {
   "cell_type": "markdown",
   "metadata": {},
   "source": [
    "##### **Updating Array Elements**\n",
    "\n",
    "Updating elements in an array works very similarly to how it does for lists and tuples. Simply reference location(s) via an index and assign new values:"
   ]
  },
  {
   "cell_type": "code",
   "execution_count": 17,
   "metadata": {},
   "outputs": [
    {
     "data": {
      "text/plain": [
       "array([  5,   3, 300,   5,   6])"
      ]
     },
     "execution_count": 17,
     "metadata": {},
     "output_type": "execute_result"
    }
   ],
   "source": [
    "myArray = np.array([5, 3, 2, 5, 6])\n",
    "\n",
    "myArray[2] = 300 # assign the 3rd value to 300\n",
    "\n",
    "myArray"
   ]
  },
  {
   "cell_type": "code",
   "execution_count": 18,
   "metadata": {},
   "outputs": [
    {
     "data": {
      "text/plain": [
       "array([100,   3, 300,   5, 500])"
      ]
     },
     "execution_count": 18,
     "metadata": {},
     "output_type": "execute_result"
    }
   ],
   "source": [
    "myArray[[0, 4]] = [100, 500] # assign the first and fifth values to 100 and 500 respectively\n",
    "\n",
    "myArray"
   ]
  },
  {
   "cell_type": "markdown",
   "metadata": {},
   "source": [
    "Note that any valid index can be used, including slices and masks. Moreover, it's possible to change multiple values to the same new value at once by providing only a single value on the right-hand side of the `=` (a *broadcastable* value):"
   ]
  },
  {
   "cell_type": "code",
   "execution_count": 19,
   "metadata": {},
   "outputs": [
    {
     "data": {
      "text/plain": [
       "array([100,  -5,  -5,   5, 500])"
      ]
     },
     "execution_count": 19,
     "metadata": {},
     "output_type": "execute_result"
    }
   ],
   "source": [
    "myArray[1:3] = -5 # assign the 2nd through 3rd values -5\n",
    "\n",
    "myArray"
   ]
  },
  {
   "cell_type": "code",
   "execution_count": 20,
   "metadata": {},
   "outputs": [
    {
     "data": {
      "text/plain": [
       "array([ 5, -5, -5,  5,  5])"
      ]
     },
     "execution_count": 20,
     "metadata": {},
     "output_type": "execute_result"
    }
   ],
   "source": [
    "myArray[myArray > 0] = 5 # assign values greater than 0 the value of 5\n",
    "myArray"
   ]
  },
  {
   "cell_type": "markdown",
   "metadata": {},
   "source": [
    "[Broadcasting](https://docs.scipy.org/doc/numpy/user/basics.broadcasting.html) is a powerful feature that provides functionality similar to R. By providing compatible values of the right *shape*, it's possible to make updates more programmatic. For instance:"
   ]
  },
  {
   "cell_type": "code",
   "execution_count": 21,
   "metadata": {},
   "outputs": [
    {
     "data": {
      "text/plain": [
       "array([15, 13, 12, 15, 16])"
      ]
     },
     "execution_count": 21,
     "metadata": {},
     "output_type": "execute_result"
    }
   ],
   "source": [
    "myArray = np.array([5, 3, 2, 5, 6])\n",
    "\n",
    "myArray += 10 # in other words, myArray = myArray + 10\n",
    "\n",
    "myArray"
   ]
  },
  {
   "cell_type": "markdown",
   "metadata": {},
   "source": [
    "Using this functionality, it's also possible to add two arrays of the same length:"
   ]
  },
  {
   "cell_type": "code",
   "execution_count": 22,
   "metadata": {},
   "outputs": [
    {
     "data": {
      "text/plain": [
       "array([ 6,  5,  5,  9, 11])"
      ]
     },
     "execution_count": 22,
     "metadata": {},
     "output_type": "execute_result"
    }
   ],
   "source": [
    "myArrayA = np.array([5, 3, 2, 5, 6])\n",
    "myArrayB = np.array([1, 2, 3, 4, 5])\n",
    "\n",
    "myArrayA + myArrayB"
   ]
  },
  {
   "cell_type": "markdown",
   "metadata": {},
   "source": [
    "##### **Adding Array Elements**\n",
    "\n",
    "To add an element to a NumPy array, you can use the *append* function, which in the case of arrays supports adding multiple values:"
   ]
  },
  {
   "cell_type": "code",
   "execution_count": 23,
   "metadata": {},
   "outputs": [
    {
     "data": {
      "text/plain": [
       "array([ 5,  3,  2,  5,  6, 10, 20, 30])"
      ]
     },
     "execution_count": 23,
     "metadata": {},
     "output_type": "execute_result"
    }
   ],
   "source": [
    "myArray = np.array([5, 3, 2, 5, 6])\n",
    "\n",
    "np.append(myArray, [10, 20, 30])"
   ]
  },
  {
   "cell_type": "markdown",
   "metadata": {},
   "source": [
    "To insert a value in a specific position use the *insert* function:"
   ]
  },
  {
   "cell_type": "code",
   "execution_count": 24,
   "metadata": {},
   "outputs": [
    {
     "data": {
      "text/plain": [
       "array([  5, -10, -20, -30,   3,   2,   5,   6])"
      ]
     },
     "execution_count": 24,
     "metadata": {},
     "output_type": "execute_result"
    }
   ],
   "source": [
    "np.insert(myArray, 1, [-10, -20, -30])"
   ]
  },
  {
   "cell_type": "markdown",
   "metadata": {},
   "source": [
    "Note that neither appending nor inserting is performed in-place, so to actually add the desired elements, you would need to perform assignment:"
   ]
  },
  {
   "cell_type": "code",
   "execution_count": 25,
   "metadata": {},
   "outputs": [
    {
     "data": {
      "text/plain": [
       "array([  5, -10, -20, -30,   3,   2,   5,   6])"
      ]
     },
     "execution_count": 25,
     "metadata": {},
     "output_type": "execute_result"
    }
   ],
   "source": [
    "myArray = np.insert(myArray, 1, [-10, -20, -30])\n",
    "\n",
    "myArray"
   ]
  },
  {
   "cell_type": "markdown",
   "metadata": {},
   "source": [
    "Finally, note that you can insert multiple values in a list of index locations at once (relative to the original array's index locations):"
   ]
  },
  {
   "cell_type": "code",
   "execution_count": 26,
   "metadata": {},
   "outputs": [
    {
     "data": {
      "text/plain": [
       "array([  5, -10, -10, -20, -20, -30,   3, -30,   2,   5,   6])"
      ]
     },
     "execution_count": 26,
     "metadata": {},
     "output_type": "execute_result"
    }
   ],
   "source": [
    "np.insert(myArray, [1, 3, 5], [-10, -20, -30])"
   ]
  },
  {
   "cell_type": "markdown",
   "metadata": {},
   "source": [
    "##### **Deleting Array Elements**\n",
    "\n",
    "To delete and array element, use the aptly-named *delete* function:"
   ]
  },
  {
   "cell_type": "code",
   "execution_count": 27,
   "metadata": {},
   "outputs": [
    {
     "data": {
      "text/plain": [
       "array([5, 2, 5, 6])"
      ]
     },
     "execution_count": 27,
     "metadata": {},
     "output_type": "execute_result"
    }
   ],
   "source": [
    "myArray = np.array([5, 3, 2, 5, 6])\n",
    "\n",
    "myArray = np.delete(myArray, 1) # remove 2nd element\n",
    "myArray"
   ]
  },
  {
   "cell_type": "markdown",
   "metadata": {},
   "source": [
    "To delete multiple elements at once, use any valid indexing method that involves multiple values; for instance:"
   ]
  },
  {
   "cell_type": "code",
   "execution_count": 28,
   "metadata": {},
   "outputs": [
    {
     "data": {
      "text/plain": [
       "array([3, 2, 5])"
      ]
     },
     "execution_count": 28,
     "metadata": {},
     "output_type": "execute_result"
    }
   ],
   "source": [
    "myArray = np.array([5, 3, 2, 5, 6])\n",
    "\n",
    "myArray = np.delete(myArray, [0, 4]) # remove the 1st and 5th elements\n",
    "myArray"
   ]
  },
  {
   "cell_type": "markdown",
   "metadata": {},
   "source": [
    "##### **Joining Arrays**\n",
    "\n",
    "To combine two or more arrays, you use the *concatenate* function (and note, since multiple arrays can be added, the `+` approach that works for lists does not apply to arrays):"
   ]
  },
  {
   "cell_type": "code",
   "execution_count": 29,
   "metadata": {},
   "outputs": [
    {
     "data": {
      "text/plain": [
       "array([5, 3, 2, 5, 6, 1, 2, 3, 4, 5])"
      ]
     },
     "execution_count": 29,
     "metadata": {},
     "output_type": "execute_result"
    }
   ],
   "source": [
    "myArrayA = np.array([5, 3, 2, 5, 6])\n",
    "myArrayB = np.array([1, 2, 3, 4, 5])\n",
    "\n",
    "myCombinedArray = np.concatenate([myArrayA, myArrayB])\n",
    "myCombinedArray"
   ]
  },
  {
   "cell_type": "markdown",
   "metadata": {},
   "source": [
    "Alternatively, you if you are working with only two arrays, you could also have used the *append* approach from earlier:"
   ]
  },
  {
   "cell_type": "code",
   "execution_count": 30,
   "metadata": {},
   "outputs": [
    {
     "data": {
      "text/plain": [
       "array([5, 3, 2, 5, 6, 1, 2, 3, 4, 5])"
      ]
     },
     "execution_count": 30,
     "metadata": {},
     "output_type": "execute_result"
    }
   ],
   "source": [
    "myCombinedArray = np.append(myArrayA, myArrayB)\n",
    "myCombinedArray"
   ]
  },
  {
   "cell_type": "markdown",
   "metadata": {},
   "source": [
    "##### **Other Array Methods**\n",
    "\n",
    "NumPy supports a wide range of additional functionality. For a complete list, see the [reference manual](https://docs.scipy.org/doc/numpy/reference/index.html).\n",
    "\n",
    "Moreover, note that many methods for working with data sequences will also apply to arrays. For instance, the same approach for getting the length of a list applies to an array:"
   ]
  },
  {
   "cell_type": "code",
   "execution_count": 31,
   "metadata": {},
   "outputs": [
    {
     "data": {
      "text/plain": [
       "5"
      ]
     },
     "execution_count": 31,
     "metadata": {},
     "output_type": "execute_result"
    }
   ],
   "source": [
    "# len (return the length of the array)\n",
    "myArray = np.array([5, 3, 2, 5, 6])\n",
    "len(myArray)"
   ]
  },
  {
   "cell_type": "markdown",
   "metadata": {},
   "source": [
    "Arrays can also be sorted in a similar fashion to lists:"
   ]
  },
  {
   "cell_type": "code",
   "execution_count": 32,
   "metadata": {},
   "outputs": [
    {
     "data": {
      "text/plain": [
       "array([2, 3, 5, 5, 6])"
      ]
     },
     "execution_count": 32,
     "metadata": {},
     "output_type": "execute_result"
    }
   ],
   "source": [
    "# sort (sort the list)\n",
    "myArray = np.array([5, 3, 2, 5, 6])\n",
    "myArray.sort()\n",
    "myArray"
   ]
  },
  {
   "cell_type": "markdown",
   "metadata": {},
   "source": [
    "Finally, additional NumPy functions are available for a variety of common use cases. For example, to quickly determine which values within an array satisfy a condition (e.g., to create a new variable), use *where*:"
   ]
  },
  {
   "cell_type": "code",
   "execution_count": 33,
   "metadata": {},
   "outputs": [
    {
     "data": {
      "text/plain": [
       "array([ True, False, False,  True,  True])"
      ]
     },
     "execution_count": 33,
     "metadata": {},
     "output_type": "execute_result"
    }
   ],
   "source": [
    "myArray = np.array([5, 3, 2, 5, 6])\n",
    "np.where(myArray >= 4, True, False) # where myArray >= 4 True, otherwise False"
   ]
  },
  {
   "cell_type": "code",
   "execution_count": 34,
   "metadata": {},
   "outputs": [
    {
     "data": {
      "text/plain": [
       "array([5, 0, 0, 5, 6])"
      ]
     },
     "execution_count": 34,
     "metadata": {},
     "output_type": "execute_result"
    }
   ],
   "source": [
    "myArray = np.array([5, 3, 2, 5, 6])\n",
    "np.where(myArray >= 4, myArray, 0) # where myArray >= 4 keep the existing value, otherwise substitute 0"
   ]
  },
  {
   "cell_type": "markdown",
   "metadata": {},
   "source": [
    "We can also use *where* to find the indicies that satisfy a condition:"
   ]
  },
  {
   "cell_type": "code",
   "execution_count": 35,
   "metadata": {},
   "outputs": [
    {
     "data": {
      "text/plain": [
       "(array([0, 3, 4]),)"
      ]
     },
     "execution_count": 35,
     "metadata": {},
     "output_type": "execute_result"
    }
   ],
   "source": [
    "myArray = np.array([5, 3, 2, 5, 6])\n",
    "np.where(myArray >= 4) # return the indicies where where myArray >= 4"
   ]
  },
  {
   "cell_type": "markdown",
   "metadata": {},
   "source": [
    "Again, consult the reference manual for additional approaches for working with arrays."
   ]
  },
  {
   "cell_type": "markdown",
   "metadata": {},
   "source": [
    "##### **Multidimensional Arrays**\n",
    "\n",
    "While not a focus for this bootcamp, arrays can be multidimensional. For example, consider the following 2 x 3 array:"
   ]
  },
  {
   "cell_type": "code",
   "execution_count": 36,
   "metadata": {},
   "outputs": [
    {
     "data": {
      "text/plain": [
       "array([[1, 2, 3],\n",
       "       [2, 5, 6]])"
      ]
     },
     "execution_count": 36,
     "metadata": {},
     "output_type": "execute_result"
    }
   ],
   "source": [
    "myMultidimensionalArray = np.array([[1, 2, 3], [2, 5, 6]])\n",
    "myMultidimensionalArray"
   ]
  },
  {
   "cell_type": "markdown",
   "metadata": {},
   "source": [
    "The methods discussed earlier when introducing arrays provide relevant information regarding our multidimensional array (i.e., in terms of dimensions, size, and shape):"
   ]
  },
  {
   "cell_type": "code",
   "execution_count": 37,
   "metadata": {},
   "outputs": [
    {
     "data": {
      "text/plain": [
       "2"
      ]
     },
     "metadata": {},
     "output_type": "display_data"
    },
    {
     "data": {
      "text/plain": [
       "6"
      ]
     },
     "metadata": {},
     "output_type": "display_data"
    },
    {
     "data": {
      "text/plain": [
       "(2, 3)"
      ]
     },
     "metadata": {},
     "output_type": "display_data"
    }
   ],
   "source": [
    "display(myMultidimensionalArray.ndim, myMultidimensionalArray.size, myMultidimensionalArray.shape)"
   ]
  },
  {
   "cell_type": "markdown",
   "metadata": {},
   "source": [
    "Multidimensional arrays can be indexed using row, column syntax within square brackets:"
   ]
  },
  {
   "cell_type": "code",
   "execution_count": 38,
   "metadata": {},
   "outputs": [
    {
     "data": {
      "text/plain": [
       "5"
      ]
     },
     "execution_count": 38,
     "metadata": {},
     "output_type": "execute_result"
    }
   ],
   "source": [
    "myMultidimensionalArray[1, 1] # second row, second value"
   ]
  },
  {
   "cell_type": "markdown",
   "metadata": {},
   "source": [
    "Various methods allow for manipulating such arrays in useful ways. For instance, to transpose our array, we could do the following:"
   ]
  },
  {
   "cell_type": "code",
   "execution_count": 39,
   "metadata": {},
   "outputs": [
    {
     "data": {
      "text/plain": [
       "array([[1, 2],\n",
       "       [2, 5],\n",
       "       [3, 6]])"
      ]
     },
     "execution_count": 39,
     "metadata": {},
     "output_type": "execute_result"
    }
   ],
   "source": [
    "np.transpose(myMultidimensionalArray)"
   ]
  },
  {
   "cell_type": "markdown",
   "metadata": {},
   "source": [
    "For additional information on multidimensional arrays, consult the [reference](https://numpy.org/devdocs/reference/arrays.ndarray.html)."
   ]
  },
  {
   "cell_type": "markdown",
   "metadata": {},
   "source": [
    "#### pandas DataFrames\n",
    "\n",
    "The [pandas](https://pandas.pydata.org/) package is invaluable for working with *rectangular* data (i.e., data with rows and columns, also known as *tabular*). The package itself is versatile, offering a flexibile data structure (pandas.DataFrame) as well as methods and functions for data reading, data manipulation, and analysis.\n",
    "\n",
    "The pandas website includes valuable resources for learning how to use the package, include a [getting started](https://pandas.pydata.org/docs/getting_started/index.html) guide, which includes an abbreviated, [10-minute introduction](https://pandas.pydata.org/pandas-docs/stable/user_guide/10min.html) as well as a full [user guide](https://pandas.pydata.org/docs/user_guide/index.html) and [reference manual](https://pandas.pydata.org/docs/reference/index.html) for advanced users.\n",
    "\n",
    "This bootcamp will focus on the core fundamentals necessary to work with pandas. Before we get started, be sure the pandas package installed and imported (or see Unit 2 for help on this):"
   ]
  },
  {
   "cell_type": "code",
   "execution_count": 40,
   "metadata": {},
   "outputs": [],
   "source": [
    "import pandas as pd"
   ]
  },
  {
   "cell_type": "markdown",
   "metadata": {},
   "source": [
    "##### **Reading and Viewing Data**\n",
    "\n",
    "Although it's possible to define a pandas DataFrame object via code directly (e.g., see [these examples](https://pandas.pydata.org/pandas-docs/stable/user_guide/dsintro.html#dataframe)), in data science it's more common to generate them by reading in external data files. For example, suppose you have a comma-separate value (CSV) file named \"ExampleData.csv\" stored in a subfolder named \"data\" relative to this Jupyter notebook (**note:** for a review of how paths work -- including relative files and folders -- see Unit 4 of my [***R Bootcamp***](https://github.com/davedgd/r-bootcamp); this information will eventually be duplicated here as well, but for now, note the following magic keywords:\n",
    "\n",
    "- `%pwd`: print the working directory for a notebook (similar to getwd in R)\n",
    "- `%cd`: change the working directory for a notebook (similar to setwd in R); note that the working directory you specify after the command does not need to be in quotes (e.g., `%cd ~/Downloads`), but if quotes are used, be sure to use double quotes (e.g., `%cd \"~/Downloads\"`) on Windows\n",
    "- `%ls`: list the files in the notebook's current working directory (similar to list.files in R)\n",
    "\n",
    "To read those data in, you could do the following:"
   ]
  },
  {
   "cell_type": "code",
   "execution_count": 41,
   "metadata": {},
   "outputs": [],
   "source": [
    "myDF = pd.read_csv('data/ExampleData.csv')"
   ]
  },
  {
   "cell_type": "markdown",
   "metadata": {},
   "source": [
    "In the code above, the read function *read_csv* takes a path argument that specifies the file we want to read in (i.e., `ExampleData.csv`) along with its relative location (i.e., in the folder `data`). Pandas natively supports reading from several common formats including:\n",
    "\n",
    "- [read_csv](https://pandas.pydata.org/pandas-docs/stable/reference/api/pandas.read_csv.html): CSV (comma-separated values)\n",
    "- [read_excel](https://pandas.pydata.org/pandas-docs/stable/reference/api/pandas.read_excel.html#pandas.read_excel): XLS, XLSX (Microsoft Excel); note that you'll need to install openpyxl to work\n",
    "- [read_spss](https://pandas.pydata.org/pandas-docs/stable/reference/api/pandas.read_spss.html#pandas.read_spss): SAV (IBM SPSS)\n",
    "\n",
    "For a full list of supported formats, see the [input/output documentation](https://pandas.pydata.org/pandas-docs/stable/reference/io.html).\n",
    "\n",
    "Most of these functions will return the data in the form of a *DataFrame*. We can verify this using code as always:"
   ]
  },
  {
   "cell_type": "code",
   "execution_count": 42,
   "metadata": {},
   "outputs": [
    {
     "data": {
      "text/plain": [
       "pandas.core.frame.DataFrame"
      ]
     },
     "execution_count": 42,
     "metadata": {},
     "output_type": "execute_result"
    }
   ],
   "source": [
    "type(myDF)"
   ]
  },
  {
   "cell_type": "markdown",
   "metadata": {},
   "source": [
    "To see the data in full, simply call it back (although note this may not be the best idea for very large data sets); note that missing data will be shown as `NaN` (see the NumPy reference for more details on [missing data](https://numpy.org/devdocs/reference/constants.html#numpy.NaN)):"
   ]
  },
  {
   "cell_type": "code",
   "execution_count": 43,
   "metadata": {},
   "outputs": [
    {
     "data": {
      "text/html": [
       "<div>\n",
       "<style scoped>\n",
       "    .dataframe tbody tr th:only-of-type {\n",
       "        vertical-align: middle;\n",
       "    }\n",
       "\n",
       "    .dataframe tbody tr th {\n",
       "        vertical-align: top;\n",
       "    }\n",
       "\n",
       "    .dataframe thead th {\n",
       "        text-align: right;\n",
       "    }\n",
       "</style>\n",
       "<table border=\"1\" class=\"dataframe\">\n",
       "  <thead>\n",
       "    <tr style=\"text-align: right;\">\n",
       "      <th></th>\n",
       "      <th>id</th>\n",
       "      <th>first_name</th>\n",
       "      <th>last_name</th>\n",
       "      <th>job_title</th>\n",
       "      <th>email</th>\n",
       "      <th>age</th>\n",
       "      <th>num_children</th>\n",
       "      <th>shirt_size</th>\n",
       "      <th>annual_salary</th>\n",
       "      <th>pay_type</th>\n",
       "      <th>satisfaction_score</th>\n",
       "    </tr>\n",
       "  </thead>\n",
       "  <tbody>\n",
       "    <tr>\n",
       "      <th>0</th>\n",
       "      <td>1001</td>\n",
       "      <td>Cobbie</td>\n",
       "      <td>Whinray</td>\n",
       "      <td>Account Executive</td>\n",
       "      <td>cwhinray0@icq.com</td>\n",
       "      <td>63</td>\n",
       "      <td>1</td>\n",
       "      <td>M</td>\n",
       "      <td>31124.56</td>\n",
       "      <td>FullTime</td>\n",
       "      <td>5.0</td>\n",
       "    </tr>\n",
       "    <tr>\n",
       "      <th>1</th>\n",
       "      <td>1002</td>\n",
       "      <td>Milton</td>\n",
       "      <td>McPhaden</td>\n",
       "      <td>Recruiter</td>\n",
       "      <td>mmcphaden1@marriott.com</td>\n",
       "      <td>20</td>\n",
       "      <td>2</td>\n",
       "      <td>L</td>\n",
       "      <td>65875.74</td>\n",
       "      <td>FullTime</td>\n",
       "      <td>3.0</td>\n",
       "    </tr>\n",
       "    <tr>\n",
       "      <th>2</th>\n",
       "      <td>1003</td>\n",
       "      <td>Coralyn</td>\n",
       "      <td>Haselhurst</td>\n",
       "      <td>Account Coordinator</td>\n",
       "      <td>chaselhurst2@icio.us</td>\n",
       "      <td>41</td>\n",
       "      <td>2</td>\n",
       "      <td>3XL</td>\n",
       "      <td>25548.53</td>\n",
       "      <td>FullTime</td>\n",
       "      <td>4.0</td>\n",
       "    </tr>\n",
       "    <tr>\n",
       "      <th>3</th>\n",
       "      <td>1004</td>\n",
       "      <td>Morten</td>\n",
       "      <td>Samples</td>\n",
       "      <td>Account Representative IV</td>\n",
       "      <td>msamples3@toplist.cz</td>\n",
       "      <td>43</td>\n",
       "      <td>1</td>\n",
       "      <td>S</td>\n",
       "      <td>51447.79</td>\n",
       "      <td>PartTime</td>\n",
       "      <td>5.0</td>\n",
       "    </tr>\n",
       "    <tr>\n",
       "      <th>4</th>\n",
       "      <td>1005</td>\n",
       "      <td>Norman</td>\n",
       "      <td>Munnis</td>\n",
       "      <td>Desktop Support Technician</td>\n",
       "      <td>nmunnis4@cargocollective.com</td>\n",
       "      <td>41</td>\n",
       "      <td>0</td>\n",
       "      <td>L</td>\n",
       "      <td>54961.71</td>\n",
       "      <td>PartTime</td>\n",
       "      <td>5.0</td>\n",
       "    </tr>\n",
       "    <tr>\n",
       "      <th>5</th>\n",
       "      <td>1006</td>\n",
       "      <td>Cora</td>\n",
       "      <td>Barbary</td>\n",
       "      <td>Research Associate</td>\n",
       "      <td>cbarbary5@china.com.cn</td>\n",
       "      <td>61</td>\n",
       "      <td>1</td>\n",
       "      <td>XL</td>\n",
       "      <td>31398.06</td>\n",
       "      <td>PartTime</td>\n",
       "      <td>5.0</td>\n",
       "    </tr>\n",
       "    <tr>\n",
       "      <th>6</th>\n",
       "      <td>1007</td>\n",
       "      <td>Stevie</td>\n",
       "      <td>O'Shirine</td>\n",
       "      <td>VP Accounting</td>\n",
       "      <td>soshirine6@foxnews.com</td>\n",
       "      <td>55</td>\n",
       "      <td>0</td>\n",
       "      <td>XS</td>\n",
       "      <td>65814.42</td>\n",
       "      <td>FullTime</td>\n",
       "      <td>3.0</td>\n",
       "    </tr>\n",
       "    <tr>\n",
       "      <th>7</th>\n",
       "      <td>1008</td>\n",
       "      <td>Kynthia</td>\n",
       "      <td>Blaxley</td>\n",
       "      <td>Computer Systems Analyst IV</td>\n",
       "      <td>kblaxley7@goo.ne.jp</td>\n",
       "      <td>63</td>\n",
       "      <td>2</td>\n",
       "      <td>S</td>\n",
       "      <td>65262.16</td>\n",
       "      <td>PartTime</td>\n",
       "      <td>NaN</td>\n",
       "    </tr>\n",
       "    <tr>\n",
       "      <th>8</th>\n",
       "      <td>1009</td>\n",
       "      <td>Harmony</td>\n",
       "      <td>Kaysor</td>\n",
       "      <td>Chemical Engineer</td>\n",
       "      <td>NaN</td>\n",
       "      <td>58</td>\n",
       "      <td>3</td>\n",
       "      <td>M</td>\n",
       "      <td>41974.19</td>\n",
       "      <td>PartTime</td>\n",
       "      <td>3.0</td>\n",
       "    </tr>\n",
       "    <tr>\n",
       "      <th>9</th>\n",
       "      <td>1010</td>\n",
       "      <td>Levi</td>\n",
       "      <td>Elward</td>\n",
       "      <td>Staff Accountant II</td>\n",
       "      <td>lelward9@sitemeter.com</td>\n",
       "      <td>50</td>\n",
       "      <td>1</td>\n",
       "      <td>2XL</td>\n",
       "      <td>66769.71</td>\n",
       "      <td>FullTime</td>\n",
       "      <td>4.0</td>\n",
       "    </tr>\n",
       "    <tr>\n",
       "      <th>10</th>\n",
       "      <td>1011</td>\n",
       "      <td>Hobard</td>\n",
       "      <td>Seyers</td>\n",
       "      <td>Executive Secretary</td>\n",
       "      <td>hseyersa@mlb.com</td>\n",
       "      <td>49</td>\n",
       "      <td>1</td>\n",
       "      <td>2XL</td>\n",
       "      <td>37632.39</td>\n",
       "      <td>PartTime</td>\n",
       "      <td>2.0</td>\n",
       "    </tr>\n",
       "    <tr>\n",
       "      <th>11</th>\n",
       "      <td>1012</td>\n",
       "      <td>Roselle</td>\n",
       "      <td>Rideout</td>\n",
       "      <td>Paralegal</td>\n",
       "      <td>rrideoutb@bravesites.com</td>\n",
       "      <td>58</td>\n",
       "      <td>2</td>\n",
       "      <td>2XL</td>\n",
       "      <td>90149.96</td>\n",
       "      <td>FullTime</td>\n",
       "      <td>1.0</td>\n",
       "    </tr>\n",
       "    <tr>\n",
       "      <th>12</th>\n",
       "      <td>1013</td>\n",
       "      <td>Brigitta</td>\n",
       "      <td>Ganny</td>\n",
       "      <td>Structural Engineer</td>\n",
       "      <td>bgannyc@oakley.com</td>\n",
       "      <td>65</td>\n",
       "      <td>1</td>\n",
       "      <td>3XL</td>\n",
       "      <td>25491.98</td>\n",
       "      <td>FullTime</td>\n",
       "      <td>1.0</td>\n",
       "    </tr>\n",
       "    <tr>\n",
       "      <th>13</th>\n",
       "      <td>1014</td>\n",
       "      <td>Wilma</td>\n",
       "      <td>Yeo</td>\n",
       "      <td>Sales Associate</td>\n",
       "      <td>wyeod@techcrunch.com</td>\n",
       "      <td>30</td>\n",
       "      <td>0</td>\n",
       "      <td>3XL</td>\n",
       "      <td>27012.52</td>\n",
       "      <td>PartTime</td>\n",
       "      <td>4.0</td>\n",
       "    </tr>\n",
       "    <tr>\n",
       "      <th>14</th>\n",
       "      <td>1015</td>\n",
       "      <td>Vlad</td>\n",
       "      <td>Parlett</td>\n",
       "      <td>Sales Representative</td>\n",
       "      <td>vparlette@t.co</td>\n",
       "      <td>39</td>\n",
       "      <td>0</td>\n",
       "      <td>3XL</td>\n",
       "      <td>24171.09</td>\n",
       "      <td>FullTime</td>\n",
       "      <td>3.0</td>\n",
       "    </tr>\n",
       "    <tr>\n",
       "      <th>15</th>\n",
       "      <td>1016</td>\n",
       "      <td>Bernie</td>\n",
       "      <td>Senechell</td>\n",
       "      <td>Senior Editor</td>\n",
       "      <td>bsenechellf@walmart.com</td>\n",
       "      <td>64</td>\n",
       "      <td>0</td>\n",
       "      <td>2XL</td>\n",
       "      <td>60180.50</td>\n",
       "      <td>NaN</td>\n",
       "      <td>5.0</td>\n",
       "    </tr>\n",
       "    <tr>\n",
       "      <th>16</th>\n",
       "      <td>1017</td>\n",
       "      <td>Marline</td>\n",
       "      <td>Goodee</td>\n",
       "      <td>Programmer Analyst IV</td>\n",
       "      <td>mgoodeeg@blogtalkradio.com</td>\n",
       "      <td>24</td>\n",
       "      <td>2</td>\n",
       "      <td>L</td>\n",
       "      <td>61362.33</td>\n",
       "      <td>FullTime</td>\n",
       "      <td>1.0</td>\n",
       "    </tr>\n",
       "    <tr>\n",
       "      <th>17</th>\n",
       "      <td>1018</td>\n",
       "      <td>Josselyn</td>\n",
       "      <td>Lumbley</td>\n",
       "      <td>Research Assistant III</td>\n",
       "      <td>NaN</td>\n",
       "      <td>50</td>\n",
       "      <td>0</td>\n",
       "      <td>XL</td>\n",
       "      <td>76692.87</td>\n",
       "      <td>PartTime</td>\n",
       "      <td>5.0</td>\n",
       "    </tr>\n",
       "    <tr>\n",
       "      <th>18</th>\n",
       "      <td>1019</td>\n",
       "      <td>Mandie</td>\n",
       "      <td>Donan</td>\n",
       "      <td>Research Assistant IV</td>\n",
       "      <td>mdonani@nytimes.com</td>\n",
       "      <td>31</td>\n",
       "      <td>0</td>\n",
       "      <td>M</td>\n",
       "      <td>64495.01</td>\n",
       "      <td>PartTime</td>\n",
       "      <td>4.0</td>\n",
       "    </tr>\n",
       "    <tr>\n",
       "      <th>19</th>\n",
       "      <td>1020</td>\n",
       "      <td>Kassandra</td>\n",
       "      <td>Openshaw</td>\n",
       "      <td>Director of Sales</td>\n",
       "      <td>NaN</td>\n",
       "      <td>24</td>\n",
       "      <td>1</td>\n",
       "      <td>2XL</td>\n",
       "      <td>56248.84</td>\n",
       "      <td>FullTime</td>\n",
       "      <td>3.0</td>\n",
       "    </tr>\n",
       "    <tr>\n",
       "      <th>20</th>\n",
       "      <td>1021</td>\n",
       "      <td>Beryl</td>\n",
       "      <td>Shalloe</td>\n",
       "      <td>Health Coach I</td>\n",
       "      <td>bshalloek@twitter.com</td>\n",
       "      <td>60</td>\n",
       "      <td>3</td>\n",
       "      <td>XL</td>\n",
       "      <td>22387.88</td>\n",
       "      <td>PartTime</td>\n",
       "      <td>4.0</td>\n",
       "    </tr>\n",
       "    <tr>\n",
       "      <th>21</th>\n",
       "      <td>1022</td>\n",
       "      <td>Terra</td>\n",
       "      <td>Gilliatt</td>\n",
       "      <td>Health Coach II</td>\n",
       "      <td>tgilliattl@businessweek.com</td>\n",
       "      <td>35</td>\n",
       "      <td>0</td>\n",
       "      <td>S</td>\n",
       "      <td>40816.42</td>\n",
       "      <td>FullTime</td>\n",
       "      <td>2.0</td>\n",
       "    </tr>\n",
       "    <tr>\n",
       "      <th>22</th>\n",
       "      <td>1023</td>\n",
       "      <td>Carrol</td>\n",
       "      <td>Pochon</td>\n",
       "      <td>Professor</td>\n",
       "      <td>cpochonm@google.it</td>\n",
       "      <td>20</td>\n",
       "      <td>2</td>\n",
       "      <td>2XL</td>\n",
       "      <td>59710.47</td>\n",
       "      <td>PartTime</td>\n",
       "      <td>1.0</td>\n",
       "    </tr>\n",
       "    <tr>\n",
       "      <th>23</th>\n",
       "      <td>1024</td>\n",
       "      <td>Harmony</td>\n",
       "      <td>Powley</td>\n",
       "      <td>Legal Assistant</td>\n",
       "      <td>NaN</td>\n",
       "      <td>18</td>\n",
       "      <td>3</td>\n",
       "      <td>S</td>\n",
       "      <td>21668.06</td>\n",
       "      <td>FullTime</td>\n",
       "      <td>3.0</td>\n",
       "    </tr>\n",
       "    <tr>\n",
       "      <th>24</th>\n",
       "      <td>1025</td>\n",
       "      <td>Seana</td>\n",
       "      <td>Haskins</td>\n",
       "      <td>Environmental Tech</td>\n",
       "      <td>shaskinso@drupal.org</td>\n",
       "      <td>43</td>\n",
       "      <td>1</td>\n",
       "      <td>XS</td>\n",
       "      <td>39609.89</td>\n",
       "      <td>FullTime</td>\n",
       "      <td>4.0</td>\n",
       "    </tr>\n",
       "    <tr>\n",
       "      <th>25</th>\n",
       "      <td>1026</td>\n",
       "      <td>Pearce</td>\n",
       "      <td>Ygoe</td>\n",
       "      <td>Cost Accountant</td>\n",
       "      <td>pygoep@webnode.com</td>\n",
       "      <td>34</td>\n",
       "      <td>1</td>\n",
       "      <td>L</td>\n",
       "      <td>45988.08</td>\n",
       "      <td>PartTime</td>\n",
       "      <td>5.0</td>\n",
       "    </tr>\n",
       "    <tr>\n",
       "      <th>26</th>\n",
       "      <td>1027</td>\n",
       "      <td>Dmitri</td>\n",
       "      <td>Mattisson</td>\n",
       "      <td>Administrative Officer</td>\n",
       "      <td>dmattissonq@nyu.edu</td>\n",
       "      <td>49</td>\n",
       "      <td>3</td>\n",
       "      <td>M</td>\n",
       "      <td>35535.96</td>\n",
       "      <td>PartTime</td>\n",
       "      <td>4.0</td>\n",
       "    </tr>\n",
       "    <tr>\n",
       "      <th>27</th>\n",
       "      <td>1028</td>\n",
       "      <td>Ashton</td>\n",
       "      <td>Beaby</td>\n",
       "      <td>Developer I</td>\n",
       "      <td>abeabyr@imdb.com</td>\n",
       "      <td>23</td>\n",
       "      <td>0</td>\n",
       "      <td>XL</td>\n",
       "      <td>83948.68</td>\n",
       "      <td>FullTime</td>\n",
       "      <td>2.0</td>\n",
       "    </tr>\n",
       "    <tr>\n",
       "      <th>28</th>\n",
       "      <td>1029</td>\n",
       "      <td>Allan</td>\n",
       "      <td>Stoffersen</td>\n",
       "      <td>Nurse</td>\n",
       "      <td>astoffersens@amazon.de</td>\n",
       "      <td>39</td>\n",
       "      <td>2</td>\n",
       "      <td>XS</td>\n",
       "      <td>47142.61</td>\n",
       "      <td>PartTime</td>\n",
       "      <td>NaN</td>\n",
       "    </tr>\n",
       "    <tr>\n",
       "      <th>29</th>\n",
       "      <td>1030</td>\n",
       "      <td>Stepha</td>\n",
       "      <td>Forth</td>\n",
       "      <td>Automation Specialist I</td>\n",
       "      <td>sfortht@thetimes.co.uk</td>\n",
       "      <td>63</td>\n",
       "      <td>0</td>\n",
       "      <td>S</td>\n",
       "      <td>78520.42</td>\n",
       "      <td>FullTime</td>\n",
       "      <td>2.0</td>\n",
       "    </tr>\n",
       "    <tr>\n",
       "      <th>30</th>\n",
       "      <td>1031</td>\n",
       "      <td>Theobald</td>\n",
       "      <td>Crosbie</td>\n",
       "      <td>Project Manager</td>\n",
       "      <td>tcrosbieu@shinystat.com</td>\n",
       "      <td>40</td>\n",
       "      <td>3</td>\n",
       "      <td>3XL</td>\n",
       "      <td>81379.92</td>\n",
       "      <td>FullTime</td>\n",
       "      <td>3.0</td>\n",
       "    </tr>\n",
       "    <tr>\n",
       "      <th>31</th>\n",
       "      <td>1032</td>\n",
       "      <td>Wash</td>\n",
       "      <td>Mechem</td>\n",
       "      <td>Operator</td>\n",
       "      <td>wmechemv@techcrunch.com</td>\n",
       "      <td>23</td>\n",
       "      <td>1</td>\n",
       "      <td>L</td>\n",
       "      <td>91838.16</td>\n",
       "      <td>FullTime</td>\n",
       "      <td>2.0</td>\n",
       "    </tr>\n",
       "    <tr>\n",
       "      <th>32</th>\n",
       "      <td>1033</td>\n",
       "      <td>Scarlett</td>\n",
       "      <td>Laval</td>\n",
       "      <td>Human Resources Assistant II</td>\n",
       "      <td>slavalw@bandcamp.com</td>\n",
       "      <td>63</td>\n",
       "      <td>3</td>\n",
       "      <td>XS</td>\n",
       "      <td>84602.89</td>\n",
       "      <td>PartTime</td>\n",
       "      <td>4.0</td>\n",
       "    </tr>\n",
       "    <tr>\n",
       "      <th>33</th>\n",
       "      <td>1034</td>\n",
       "      <td>Garwin</td>\n",
       "      <td>Farnish</td>\n",
       "      <td>Human Resources Assistant IV</td>\n",
       "      <td>gfarnishx@wufoo.com</td>\n",
       "      <td>53</td>\n",
       "      <td>0</td>\n",
       "      <td>L</td>\n",
       "      <td>83878.78</td>\n",
       "      <td>PartTime</td>\n",
       "      <td>5.0</td>\n",
       "    </tr>\n",
       "    <tr>\n",
       "      <th>34</th>\n",
       "      <td>1035</td>\n",
       "      <td>Donna</td>\n",
       "      <td>Stollen</td>\n",
       "      <td>Media Manager IV</td>\n",
       "      <td>dstolleny@creativecommons.org</td>\n",
       "      <td>56</td>\n",
       "      <td>2</td>\n",
       "      <td>M</td>\n",
       "      <td>61861.03</td>\n",
       "      <td>FullTime</td>\n",
       "      <td>1.0</td>\n",
       "    </tr>\n",
       "    <tr>\n",
       "      <th>35</th>\n",
       "      <td>1036</td>\n",
       "      <td>Aldous</td>\n",
       "      <td>Derill</td>\n",
       "      <td>Assistant Media Planner</td>\n",
       "      <td>aderillz@wired.com</td>\n",
       "      <td>36</td>\n",
       "      <td>0</td>\n",
       "      <td>M</td>\n",
       "      <td>52298.58</td>\n",
       "      <td>PartTime</td>\n",
       "      <td>3.0</td>\n",
       "    </tr>\n",
       "    <tr>\n",
       "      <th>36</th>\n",
       "      <td>1037</td>\n",
       "      <td>Karola</td>\n",
       "      <td>Hadland</td>\n",
       "      <td>General Manager</td>\n",
       "      <td>khadland10@php.net</td>\n",
       "      <td>28</td>\n",
       "      <td>0</td>\n",
       "      <td>L</td>\n",
       "      <td>88994.74</td>\n",
       "      <td>FullTime</td>\n",
       "      <td>4.0</td>\n",
       "    </tr>\n",
       "    <tr>\n",
       "      <th>37</th>\n",
       "      <td>1038</td>\n",
       "      <td>Paulie</td>\n",
       "      <td>Lunge</td>\n",
       "      <td>Senior Developer</td>\n",
       "      <td>plunge11@qq.com</td>\n",
       "      <td>36</td>\n",
       "      <td>2</td>\n",
       "      <td>L</td>\n",
       "      <td>20496.78</td>\n",
       "      <td>PartTime</td>\n",
       "      <td>5.0</td>\n",
       "    </tr>\n",
       "    <tr>\n",
       "      <th>38</th>\n",
       "      <td>1039</td>\n",
       "      <td>Emmalee</td>\n",
       "      <td>Ferris</td>\n",
       "      <td>Geological Engineer</td>\n",
       "      <td>eferris12@google.it</td>\n",
       "      <td>57</td>\n",
       "      <td>3</td>\n",
       "      <td>XS</td>\n",
       "      <td>57157.43</td>\n",
       "      <td>PartTime</td>\n",
       "      <td>NaN</td>\n",
       "    </tr>\n",
       "    <tr>\n",
       "      <th>39</th>\n",
       "      <td>1040</td>\n",
       "      <td>Analise</td>\n",
       "      <td>Prichard</td>\n",
       "      <td>Junior Executive</td>\n",
       "      <td>aprichard13@wufoo.com</td>\n",
       "      <td>24</td>\n",
       "      <td>3</td>\n",
       "      <td>XL</td>\n",
       "      <td>49072.96</td>\n",
       "      <td>NaN</td>\n",
       "      <td>3.0</td>\n",
       "    </tr>\n",
       "    <tr>\n",
       "      <th>40</th>\n",
       "      <td>1041</td>\n",
       "      <td>Jeana</td>\n",
       "      <td>Mixer</td>\n",
       "      <td>GIS Technical Architect</td>\n",
       "      <td>jmixer14@csmonitor.com</td>\n",
       "      <td>53</td>\n",
       "      <td>3</td>\n",
       "      <td>S</td>\n",
       "      <td>22700.51</td>\n",
       "      <td>PartTime</td>\n",
       "      <td>1.0</td>\n",
       "    </tr>\n",
       "    <tr>\n",
       "      <th>41</th>\n",
       "      <td>1042</td>\n",
       "      <td>Miner</td>\n",
       "      <td>Pascho</td>\n",
       "      <td>Registered Nurse</td>\n",
       "      <td>mpascho15@reddit.com</td>\n",
       "      <td>40</td>\n",
       "      <td>0</td>\n",
       "      <td>M</td>\n",
       "      <td>42017.65</td>\n",
       "      <td>PartTime</td>\n",
       "      <td>1.0</td>\n",
       "    </tr>\n",
       "    <tr>\n",
       "      <th>42</th>\n",
       "      <td>1043</td>\n",
       "      <td>Sherlocke</td>\n",
       "      <td>Lammert</td>\n",
       "      <td>Financial Analyst</td>\n",
       "      <td>slammert16@rambler.ru</td>\n",
       "      <td>23</td>\n",
       "      <td>1</td>\n",
       "      <td>2XL</td>\n",
       "      <td>74965.35</td>\n",
       "      <td>PartTime</td>\n",
       "      <td>3.0</td>\n",
       "    </tr>\n",
       "    <tr>\n",
       "      <th>43</th>\n",
       "      <td>1044</td>\n",
       "      <td>Harriett</td>\n",
       "      <td>German</td>\n",
       "      <td>Research Associate</td>\n",
       "      <td>hgerman17@ibm.com</td>\n",
       "      <td>19</td>\n",
       "      <td>3</td>\n",
       "      <td>XS</td>\n",
       "      <td>52513.35</td>\n",
       "      <td>PartTime</td>\n",
       "      <td>5.0</td>\n",
       "    </tr>\n",
       "    <tr>\n",
       "      <th>44</th>\n",
       "      <td>1045</td>\n",
       "      <td>Nessa</td>\n",
       "      <td>McGaugey</td>\n",
       "      <td>Clinical Specialist</td>\n",
       "      <td>nmcgaugey18@salon.com</td>\n",
       "      <td>37</td>\n",
       "      <td>3</td>\n",
       "      <td>XL</td>\n",
       "      <td>49928.91</td>\n",
       "      <td>PartTime</td>\n",
       "      <td>3.0</td>\n",
       "    </tr>\n",
       "    <tr>\n",
       "      <th>45</th>\n",
       "      <td>1046</td>\n",
       "      <td>Pammy</td>\n",
       "      <td>Berndsen</td>\n",
       "      <td>Cost Accountant</td>\n",
       "      <td>pberndsen19@vistaprint.com</td>\n",
       "      <td>44</td>\n",
       "      <td>2</td>\n",
       "      <td>XS</td>\n",
       "      <td>38783.31</td>\n",
       "      <td>FullTime</td>\n",
       "      <td>3.0</td>\n",
       "    </tr>\n",
       "    <tr>\n",
       "      <th>46</th>\n",
       "      <td>1047</td>\n",
       "      <td>Tyne</td>\n",
       "      <td>Ostick</td>\n",
       "      <td>Assistant Media Planner</td>\n",
       "      <td>tostick1a@hibu.com</td>\n",
       "      <td>51</td>\n",
       "      <td>3</td>\n",
       "      <td>L</td>\n",
       "      <td>27754.88</td>\n",
       "      <td>PartTime</td>\n",
       "      <td>4.0</td>\n",
       "    </tr>\n",
       "    <tr>\n",
       "      <th>47</th>\n",
       "      <td>1048</td>\n",
       "      <td>Timmie</td>\n",
       "      <td>Roffey</td>\n",
       "      <td>Programmer I</td>\n",
       "      <td>troffey1b@hatena.ne.jp</td>\n",
       "      <td>20</td>\n",
       "      <td>1</td>\n",
       "      <td>M</td>\n",
       "      <td>86393.21</td>\n",
       "      <td>PartTime</td>\n",
       "      <td>5.0</td>\n",
       "    </tr>\n",
       "    <tr>\n",
       "      <th>48</th>\n",
       "      <td>1049</td>\n",
       "      <td>Shane</td>\n",
       "      <td>Lehon</td>\n",
       "      <td>Software Engineer IV</td>\n",
       "      <td>slehon1c@istockphoto.com</td>\n",
       "      <td>27</td>\n",
       "      <td>2</td>\n",
       "      <td>L</td>\n",
       "      <td>37648.58</td>\n",
       "      <td>PartTime</td>\n",
       "      <td>3.0</td>\n",
       "    </tr>\n",
       "    <tr>\n",
       "      <th>49</th>\n",
       "      <td>1050</td>\n",
       "      <td>Bert</td>\n",
       "      <td>Feasley</td>\n",
       "      <td>Nurse Practicioner</td>\n",
       "      <td>NaN</td>\n",
       "      <td>38</td>\n",
       "      <td>0</td>\n",
       "      <td>XL</td>\n",
       "      <td>21330.46</td>\n",
       "      <td>FullTime</td>\n",
       "      <td>2.0</td>\n",
       "    </tr>\n",
       "  </tbody>\n",
       "</table>\n",
       "</div>"
      ],
      "text/plain": [
       "      id first_name   last_name                     job_title  \\\n",
       "0   1001     Cobbie     Whinray             Account Executive   \n",
       "1   1002     Milton    McPhaden                     Recruiter   \n",
       "2   1003    Coralyn  Haselhurst           Account Coordinator   \n",
       "3   1004     Morten     Samples     Account Representative IV   \n",
       "4   1005     Norman      Munnis    Desktop Support Technician   \n",
       "5   1006       Cora     Barbary            Research Associate   \n",
       "6   1007     Stevie   O'Shirine                 VP Accounting   \n",
       "7   1008    Kynthia     Blaxley   Computer Systems Analyst IV   \n",
       "8   1009    Harmony      Kaysor             Chemical Engineer   \n",
       "9   1010       Levi      Elward           Staff Accountant II   \n",
       "10  1011     Hobard      Seyers           Executive Secretary   \n",
       "11  1012    Roselle     Rideout                     Paralegal   \n",
       "12  1013   Brigitta       Ganny           Structural Engineer   \n",
       "13  1014      Wilma         Yeo               Sales Associate   \n",
       "14  1015       Vlad     Parlett          Sales Representative   \n",
       "15  1016     Bernie   Senechell                 Senior Editor   \n",
       "16  1017    Marline      Goodee         Programmer Analyst IV   \n",
       "17  1018   Josselyn     Lumbley        Research Assistant III   \n",
       "18  1019     Mandie       Donan         Research Assistant IV   \n",
       "19  1020  Kassandra    Openshaw             Director of Sales   \n",
       "20  1021      Beryl     Shalloe                Health Coach I   \n",
       "21  1022      Terra    Gilliatt               Health Coach II   \n",
       "22  1023     Carrol      Pochon                     Professor   \n",
       "23  1024    Harmony      Powley               Legal Assistant   \n",
       "24  1025      Seana     Haskins            Environmental Tech   \n",
       "25  1026     Pearce        Ygoe               Cost Accountant   \n",
       "26  1027     Dmitri   Mattisson        Administrative Officer   \n",
       "27  1028     Ashton       Beaby                   Developer I   \n",
       "28  1029      Allan  Stoffersen                         Nurse   \n",
       "29  1030     Stepha       Forth       Automation Specialist I   \n",
       "30  1031   Theobald     Crosbie               Project Manager   \n",
       "31  1032       Wash      Mechem                      Operator   \n",
       "32  1033   Scarlett       Laval  Human Resources Assistant II   \n",
       "33  1034     Garwin     Farnish  Human Resources Assistant IV   \n",
       "34  1035      Donna     Stollen              Media Manager IV   \n",
       "35  1036     Aldous      Derill       Assistant Media Planner   \n",
       "36  1037     Karola     Hadland               General Manager   \n",
       "37  1038     Paulie       Lunge              Senior Developer   \n",
       "38  1039    Emmalee      Ferris           Geological Engineer   \n",
       "39  1040    Analise    Prichard              Junior Executive   \n",
       "40  1041      Jeana       Mixer       GIS Technical Architect   \n",
       "41  1042      Miner      Pascho              Registered Nurse   \n",
       "42  1043  Sherlocke     Lammert             Financial Analyst   \n",
       "43  1044   Harriett      German            Research Associate   \n",
       "44  1045      Nessa    McGaugey           Clinical Specialist   \n",
       "45  1046      Pammy    Berndsen               Cost Accountant   \n",
       "46  1047       Tyne      Ostick       Assistant Media Planner   \n",
       "47  1048     Timmie      Roffey                  Programmer I   \n",
       "48  1049      Shane       Lehon          Software Engineer IV   \n",
       "49  1050       Bert     Feasley            Nurse Practicioner   \n",
       "\n",
       "                            email  age  num_children shirt_size  \\\n",
       "0               cwhinray0@icq.com   63             1          M   \n",
       "1         mmcphaden1@marriott.com   20             2          L   \n",
       "2            chaselhurst2@icio.us   41             2        3XL   \n",
       "3            msamples3@toplist.cz   43             1          S   \n",
       "4    nmunnis4@cargocollective.com   41             0          L   \n",
       "5          cbarbary5@china.com.cn   61             1         XL   \n",
       "6          soshirine6@foxnews.com   55             0         XS   \n",
       "7             kblaxley7@goo.ne.jp   63             2          S   \n",
       "8                             NaN   58             3          M   \n",
       "9          lelward9@sitemeter.com   50             1        2XL   \n",
       "10               hseyersa@mlb.com   49             1        2XL   \n",
       "11       rrideoutb@bravesites.com   58             2        2XL   \n",
       "12             bgannyc@oakley.com   65             1        3XL   \n",
       "13           wyeod@techcrunch.com   30             0        3XL   \n",
       "14                 vparlette@t.co   39             0        3XL   \n",
       "15        bsenechellf@walmart.com   64             0        2XL   \n",
       "16     mgoodeeg@blogtalkradio.com   24             2          L   \n",
       "17                            NaN   50             0         XL   \n",
       "18            mdonani@nytimes.com   31             0          M   \n",
       "19                            NaN   24             1        2XL   \n",
       "20          bshalloek@twitter.com   60             3         XL   \n",
       "21    tgilliattl@businessweek.com   35             0          S   \n",
       "22             cpochonm@google.it   20             2        2XL   \n",
       "23                            NaN   18             3          S   \n",
       "24           shaskinso@drupal.org   43             1         XS   \n",
       "25             pygoep@webnode.com   34             1          L   \n",
       "26            dmattissonq@nyu.edu   49             3          M   \n",
       "27               abeabyr@imdb.com   23             0         XL   \n",
       "28         astoffersens@amazon.de   39             2         XS   \n",
       "29         sfortht@thetimes.co.uk   63             0          S   \n",
       "30        tcrosbieu@shinystat.com   40             3        3XL   \n",
       "31        wmechemv@techcrunch.com   23             1          L   \n",
       "32           slavalw@bandcamp.com   63             3         XS   \n",
       "33            gfarnishx@wufoo.com   53             0          L   \n",
       "34  dstolleny@creativecommons.org   56             2          M   \n",
       "35             aderillz@wired.com   36             0          M   \n",
       "36             khadland10@php.net   28             0          L   \n",
       "37                plunge11@qq.com   36             2          L   \n",
       "38            eferris12@google.it   57             3         XS   \n",
       "39          aprichard13@wufoo.com   24             3         XL   \n",
       "40         jmixer14@csmonitor.com   53             3          S   \n",
       "41           mpascho15@reddit.com   40             0          M   \n",
       "42          slammert16@rambler.ru   23             1        2XL   \n",
       "43              hgerman17@ibm.com   19             3         XS   \n",
       "44          nmcgaugey18@salon.com   37             3         XL   \n",
       "45     pberndsen19@vistaprint.com   44             2         XS   \n",
       "46             tostick1a@hibu.com   51             3          L   \n",
       "47         troffey1b@hatena.ne.jp   20             1          M   \n",
       "48       slehon1c@istockphoto.com   27             2          L   \n",
       "49                            NaN   38             0         XL   \n",
       "\n",
       "    annual_salary  pay_type  satisfaction_score  \n",
       "0        31124.56  FullTime                 5.0  \n",
       "1        65875.74  FullTime                 3.0  \n",
       "2        25548.53  FullTime                 4.0  \n",
       "3        51447.79  PartTime                 5.0  \n",
       "4        54961.71  PartTime                 5.0  \n",
       "5        31398.06  PartTime                 5.0  \n",
       "6        65814.42  FullTime                 3.0  \n",
       "7        65262.16  PartTime                 NaN  \n",
       "8        41974.19  PartTime                 3.0  \n",
       "9        66769.71  FullTime                 4.0  \n",
       "10       37632.39  PartTime                 2.0  \n",
       "11       90149.96  FullTime                 1.0  \n",
       "12       25491.98  FullTime                 1.0  \n",
       "13       27012.52  PartTime                 4.0  \n",
       "14       24171.09  FullTime                 3.0  \n",
       "15       60180.50       NaN                 5.0  \n",
       "16       61362.33  FullTime                 1.0  \n",
       "17       76692.87  PartTime                 5.0  \n",
       "18       64495.01  PartTime                 4.0  \n",
       "19       56248.84  FullTime                 3.0  \n",
       "20       22387.88  PartTime                 4.0  \n",
       "21       40816.42  FullTime                 2.0  \n",
       "22       59710.47  PartTime                 1.0  \n",
       "23       21668.06  FullTime                 3.0  \n",
       "24       39609.89  FullTime                 4.0  \n",
       "25       45988.08  PartTime                 5.0  \n",
       "26       35535.96  PartTime                 4.0  \n",
       "27       83948.68  FullTime                 2.0  \n",
       "28       47142.61  PartTime                 NaN  \n",
       "29       78520.42  FullTime                 2.0  \n",
       "30       81379.92  FullTime                 3.0  \n",
       "31       91838.16  FullTime                 2.0  \n",
       "32       84602.89  PartTime                 4.0  \n",
       "33       83878.78  PartTime                 5.0  \n",
       "34       61861.03  FullTime                 1.0  \n",
       "35       52298.58  PartTime                 3.0  \n",
       "36       88994.74  FullTime                 4.0  \n",
       "37       20496.78  PartTime                 5.0  \n",
       "38       57157.43  PartTime                 NaN  \n",
       "39       49072.96       NaN                 3.0  \n",
       "40       22700.51  PartTime                 1.0  \n",
       "41       42017.65  PartTime                 1.0  \n",
       "42       74965.35  PartTime                 3.0  \n",
       "43       52513.35  PartTime                 5.0  \n",
       "44       49928.91  PartTime                 3.0  \n",
       "45       38783.31  FullTime                 3.0  \n",
       "46       27754.88  PartTime                 4.0  \n",
       "47       86393.21  PartTime                 5.0  \n",
       "48       37648.58  PartTime                 3.0  \n",
       "49       21330.46  FullTime                 2.0  "
      ]
     },
     "execution_count": 43,
     "metadata": {},
     "output_type": "execute_result"
    }
   ],
   "source": [
    "myDF"
   ]
  },
  {
   "cell_type": "markdown",
   "metadata": {},
   "source": [
    "A better alternative to simply calling up the data would be to call up only a few rows to inspect the contents via the *head* or *tail* methods:"
   ]
  },
  {
   "cell_type": "code",
   "execution_count": 44,
   "metadata": {},
   "outputs": [
    {
     "data": {
      "text/html": [
       "<div>\n",
       "<style scoped>\n",
       "    .dataframe tbody tr th:only-of-type {\n",
       "        vertical-align: middle;\n",
       "    }\n",
       "\n",
       "    .dataframe tbody tr th {\n",
       "        vertical-align: top;\n",
       "    }\n",
       "\n",
       "    .dataframe thead th {\n",
       "        text-align: right;\n",
       "    }\n",
       "</style>\n",
       "<table border=\"1\" class=\"dataframe\">\n",
       "  <thead>\n",
       "    <tr style=\"text-align: right;\">\n",
       "      <th></th>\n",
       "      <th>id</th>\n",
       "      <th>first_name</th>\n",
       "      <th>last_name</th>\n",
       "      <th>job_title</th>\n",
       "      <th>email</th>\n",
       "      <th>age</th>\n",
       "      <th>num_children</th>\n",
       "      <th>shirt_size</th>\n",
       "      <th>annual_salary</th>\n",
       "      <th>pay_type</th>\n",
       "      <th>satisfaction_score</th>\n",
       "    </tr>\n",
       "  </thead>\n",
       "  <tbody>\n",
       "    <tr>\n",
       "      <th>0</th>\n",
       "      <td>1001</td>\n",
       "      <td>Cobbie</td>\n",
       "      <td>Whinray</td>\n",
       "      <td>Account Executive</td>\n",
       "      <td>cwhinray0@icq.com</td>\n",
       "      <td>63</td>\n",
       "      <td>1</td>\n",
       "      <td>M</td>\n",
       "      <td>31124.56</td>\n",
       "      <td>FullTime</td>\n",
       "      <td>5.0</td>\n",
       "    </tr>\n",
       "    <tr>\n",
       "      <th>1</th>\n",
       "      <td>1002</td>\n",
       "      <td>Milton</td>\n",
       "      <td>McPhaden</td>\n",
       "      <td>Recruiter</td>\n",
       "      <td>mmcphaden1@marriott.com</td>\n",
       "      <td>20</td>\n",
       "      <td>2</td>\n",
       "      <td>L</td>\n",
       "      <td>65875.74</td>\n",
       "      <td>FullTime</td>\n",
       "      <td>3.0</td>\n",
       "    </tr>\n",
       "    <tr>\n",
       "      <th>2</th>\n",
       "      <td>1003</td>\n",
       "      <td>Coralyn</td>\n",
       "      <td>Haselhurst</td>\n",
       "      <td>Account Coordinator</td>\n",
       "      <td>chaselhurst2@icio.us</td>\n",
       "      <td>41</td>\n",
       "      <td>2</td>\n",
       "      <td>3XL</td>\n",
       "      <td>25548.53</td>\n",
       "      <td>FullTime</td>\n",
       "      <td>4.0</td>\n",
       "    </tr>\n",
       "    <tr>\n",
       "      <th>3</th>\n",
       "      <td>1004</td>\n",
       "      <td>Morten</td>\n",
       "      <td>Samples</td>\n",
       "      <td>Account Representative IV</td>\n",
       "      <td>msamples3@toplist.cz</td>\n",
       "      <td>43</td>\n",
       "      <td>1</td>\n",
       "      <td>S</td>\n",
       "      <td>51447.79</td>\n",
       "      <td>PartTime</td>\n",
       "      <td>5.0</td>\n",
       "    </tr>\n",
       "    <tr>\n",
       "      <th>4</th>\n",
       "      <td>1005</td>\n",
       "      <td>Norman</td>\n",
       "      <td>Munnis</td>\n",
       "      <td>Desktop Support Technician</td>\n",
       "      <td>nmunnis4@cargocollective.com</td>\n",
       "      <td>41</td>\n",
       "      <td>0</td>\n",
       "      <td>L</td>\n",
       "      <td>54961.71</td>\n",
       "      <td>PartTime</td>\n",
       "      <td>5.0</td>\n",
       "    </tr>\n",
       "  </tbody>\n",
       "</table>\n",
       "</div>"
      ],
      "text/plain": [
       "     id first_name   last_name                   job_title  \\\n",
       "0  1001     Cobbie     Whinray           Account Executive   \n",
       "1  1002     Milton    McPhaden                   Recruiter   \n",
       "2  1003    Coralyn  Haselhurst         Account Coordinator   \n",
       "3  1004     Morten     Samples   Account Representative IV   \n",
       "4  1005     Norman      Munnis  Desktop Support Technician   \n",
       "\n",
       "                          email  age  num_children shirt_size  annual_salary  \\\n",
       "0             cwhinray0@icq.com   63             1          M       31124.56   \n",
       "1       mmcphaden1@marriott.com   20             2          L       65875.74   \n",
       "2          chaselhurst2@icio.us   41             2        3XL       25548.53   \n",
       "3          msamples3@toplist.cz   43             1          S       51447.79   \n",
       "4  nmunnis4@cargocollective.com   41             0          L       54961.71   \n",
       "\n",
       "   pay_type  satisfaction_score  \n",
       "0  FullTime                 5.0  \n",
       "1  FullTime                 3.0  \n",
       "2  FullTime                 4.0  \n",
       "3  PartTime                 5.0  \n",
       "4  PartTime                 5.0  "
      ]
     },
     "execution_count": 44,
     "metadata": {},
     "output_type": "execute_result"
    }
   ],
   "source": [
    "myDF.head() # see the first 5 rows (default)"
   ]
  },
  {
   "cell_type": "code",
   "execution_count": 45,
   "metadata": {},
   "outputs": [
    {
     "data": {
      "text/html": [
       "<div>\n",
       "<style scoped>\n",
       "    .dataframe tbody tr th:only-of-type {\n",
       "        vertical-align: middle;\n",
       "    }\n",
       "\n",
       "    .dataframe tbody tr th {\n",
       "        vertical-align: top;\n",
       "    }\n",
       "\n",
       "    .dataframe thead th {\n",
       "        text-align: right;\n",
       "    }\n",
       "</style>\n",
       "<table border=\"1\" class=\"dataframe\">\n",
       "  <thead>\n",
       "    <tr style=\"text-align: right;\">\n",
       "      <th></th>\n",
       "      <th>id</th>\n",
       "      <th>first_name</th>\n",
       "      <th>last_name</th>\n",
       "      <th>job_title</th>\n",
       "      <th>email</th>\n",
       "      <th>age</th>\n",
       "      <th>num_children</th>\n",
       "      <th>shirt_size</th>\n",
       "      <th>annual_salary</th>\n",
       "      <th>pay_type</th>\n",
       "      <th>satisfaction_score</th>\n",
       "    </tr>\n",
       "  </thead>\n",
       "  <tbody>\n",
       "    <tr>\n",
       "      <th>48</th>\n",
       "      <td>1049</td>\n",
       "      <td>Shane</td>\n",
       "      <td>Lehon</td>\n",
       "      <td>Software Engineer IV</td>\n",
       "      <td>slehon1c@istockphoto.com</td>\n",
       "      <td>27</td>\n",
       "      <td>2</td>\n",
       "      <td>L</td>\n",
       "      <td>37648.58</td>\n",
       "      <td>PartTime</td>\n",
       "      <td>3.0</td>\n",
       "    </tr>\n",
       "    <tr>\n",
       "      <th>49</th>\n",
       "      <td>1050</td>\n",
       "      <td>Bert</td>\n",
       "      <td>Feasley</td>\n",
       "      <td>Nurse Practicioner</td>\n",
       "      <td>NaN</td>\n",
       "      <td>38</td>\n",
       "      <td>0</td>\n",
       "      <td>XL</td>\n",
       "      <td>21330.46</td>\n",
       "      <td>FullTime</td>\n",
       "      <td>2.0</td>\n",
       "    </tr>\n",
       "  </tbody>\n",
       "</table>\n",
       "</div>"
      ],
      "text/plain": [
       "      id first_name last_name             job_title                     email  \\\n",
       "48  1049      Shane     Lehon  Software Engineer IV  slehon1c@istockphoto.com   \n",
       "49  1050       Bert   Feasley    Nurse Practicioner                       NaN   \n",
       "\n",
       "    age  num_children shirt_size  annual_salary  pay_type  satisfaction_score  \n",
       "48   27             2          L       37648.58  PartTime                 3.0  \n",
       "49   38             0         XL       21330.46  FullTime                 2.0  "
      ]
     },
     "execution_count": 45,
     "metadata": {},
     "output_type": "execute_result"
    }
   ],
   "source": [
    "myDF.tail(2) # see the last 2 rows"
   ]
  },
  {
   "cell_type": "code",
   "execution_count": 46,
   "metadata": {},
   "outputs": [
    {
     "data": {
      "text/html": [
       "<div>\n",
       "<style scoped>\n",
       "    .dataframe tbody tr th:only-of-type {\n",
       "        vertical-align: middle;\n",
       "    }\n",
       "\n",
       "    .dataframe tbody tr th {\n",
       "        vertical-align: top;\n",
       "    }\n",
       "\n",
       "    .dataframe thead th {\n",
       "        text-align: right;\n",
       "    }\n",
       "</style>\n",
       "<table border=\"1\" class=\"dataframe\">\n",
       "  <thead>\n",
       "    <tr style=\"text-align: right;\">\n",
       "      <th></th>\n",
       "      <th>id</th>\n",
       "      <th>first_name</th>\n",
       "      <th>last_name</th>\n",
       "      <th>job_title</th>\n",
       "      <th>email</th>\n",
       "      <th>age</th>\n",
       "      <th>num_children</th>\n",
       "      <th>shirt_size</th>\n",
       "      <th>annual_salary</th>\n",
       "      <th>pay_type</th>\n",
       "      <th>satisfaction_score</th>\n",
       "    </tr>\n",
       "  </thead>\n",
       "  <tbody>\n",
       "    <tr>\n",
       "      <th>16</th>\n",
       "      <td>1017</td>\n",
       "      <td>Marline</td>\n",
       "      <td>Goodee</td>\n",
       "      <td>Programmer Analyst IV</td>\n",
       "      <td>mgoodeeg@blogtalkradio.com</td>\n",
       "      <td>24</td>\n",
       "      <td>2</td>\n",
       "      <td>L</td>\n",
       "      <td>61362.33</td>\n",
       "      <td>FullTime</td>\n",
       "      <td>1.0</td>\n",
       "    </tr>\n",
       "    <tr>\n",
       "      <th>39</th>\n",
       "      <td>1040</td>\n",
       "      <td>Analise</td>\n",
       "      <td>Prichard</td>\n",
       "      <td>Junior Executive</td>\n",
       "      <td>aprichard13@wufoo.com</td>\n",
       "      <td>24</td>\n",
       "      <td>3</td>\n",
       "      <td>XL</td>\n",
       "      <td>49072.96</td>\n",
       "      <td>NaN</td>\n",
       "      <td>3.0</td>\n",
       "    </tr>\n",
       "    <tr>\n",
       "      <th>36</th>\n",
       "      <td>1037</td>\n",
       "      <td>Karola</td>\n",
       "      <td>Hadland</td>\n",
       "      <td>General Manager</td>\n",
       "      <td>khadland10@php.net</td>\n",
       "      <td>28</td>\n",
       "      <td>0</td>\n",
       "      <td>L</td>\n",
       "      <td>88994.74</td>\n",
       "      <td>FullTime</td>\n",
       "      <td>4.0</td>\n",
       "    </tr>\n",
       "    <tr>\n",
       "      <th>48</th>\n",
       "      <td>1049</td>\n",
       "      <td>Shane</td>\n",
       "      <td>Lehon</td>\n",
       "      <td>Software Engineer IV</td>\n",
       "      <td>slehon1c@istockphoto.com</td>\n",
       "      <td>27</td>\n",
       "      <td>2</td>\n",
       "      <td>L</td>\n",
       "      <td>37648.58</td>\n",
       "      <td>PartTime</td>\n",
       "      <td>3.0</td>\n",
       "    </tr>\n",
       "    <tr>\n",
       "      <th>18</th>\n",
       "      <td>1019</td>\n",
       "      <td>Mandie</td>\n",
       "      <td>Donan</td>\n",
       "      <td>Research Assistant IV</td>\n",
       "      <td>mdonani@nytimes.com</td>\n",
       "      <td>31</td>\n",
       "      <td>0</td>\n",
       "      <td>M</td>\n",
       "      <td>64495.01</td>\n",
       "      <td>PartTime</td>\n",
       "      <td>4.0</td>\n",
       "    </tr>\n",
       "  </tbody>\n",
       "</table>\n",
       "</div>"
      ],
      "text/plain": [
       "      id first_name last_name              job_title  \\\n",
       "16  1017    Marline    Goodee  Programmer Analyst IV   \n",
       "39  1040    Analise  Prichard       Junior Executive   \n",
       "36  1037     Karola   Hadland        General Manager   \n",
       "48  1049      Shane     Lehon   Software Engineer IV   \n",
       "18  1019     Mandie     Donan  Research Assistant IV   \n",
       "\n",
       "                         email  age  num_children shirt_size  annual_salary  \\\n",
       "16  mgoodeeg@blogtalkradio.com   24             2          L       61362.33   \n",
       "39       aprichard13@wufoo.com   24             3         XL       49072.96   \n",
       "36          khadland10@php.net   28             0          L       88994.74   \n",
       "48    slehon1c@istockphoto.com   27             2          L       37648.58   \n",
       "18         mdonani@nytimes.com   31             0          M       64495.01   \n",
       "\n",
       "    pay_type  satisfaction_score  \n",
       "16  FullTime                 1.0  \n",
       "39       NaN                 3.0  \n",
       "36  FullTime                 4.0  \n",
       "48  PartTime                 3.0  \n",
       "18  PartTime                 4.0  "
      ]
     },
     "execution_count": 46,
     "metadata": {},
     "output_type": "execute_result"
    }
   ],
   "source": [
    "myDF.sample(5) # see 5 random rows"
   ]
  },
  {
   "cell_type": "markdown",
   "metadata": {},
   "source": [
    "Additional methods are available to help understand what the properties of the data you are working with, including:"
   ]
  },
  {
   "cell_type": "code",
   "execution_count": 47,
   "metadata": {},
   "outputs": [
    {
     "data": {
      "text/plain": [
       "Index(['id', 'first_name', 'last_name', 'job_title', 'email', 'age',\n",
       "       'num_children', 'shirt_size', 'annual_salary', 'pay_type',\n",
       "       'satisfaction_score'],\n",
       "      dtype='object')"
      ]
     },
     "execution_count": 47,
     "metadata": {},
     "output_type": "execute_result"
    }
   ],
   "source": [
    "myDF.columns # see the complete index of column names"
   ]
  },
  {
   "cell_type": "code",
   "execution_count": 48,
   "metadata": {},
   "outputs": [
    {
     "data": {
      "text/plain": [
       "RangeIndex(start=0, stop=50, step=1)"
      ]
     },
     "execution_count": 48,
     "metadata": {},
     "output_type": "execute_result"
    }
   ],
   "source": [
    "myDF.index  # see the row indicies"
   ]
  },
  {
   "cell_type": "code",
   "execution_count": 49,
   "metadata": {},
   "outputs": [
    {
     "data": {
      "text/plain": [
       "(50, 11)"
      ]
     },
     "execution_count": 49,
     "metadata": {},
     "output_type": "execute_result"
    }
   ],
   "source": [
    "myDF.shape # see the number of rows and columns as a tuple (for just rows or columns, use myDF.shape[0] or myDF.shape[1], respectively)"
   ]
  },
  {
   "cell_type": "code",
   "execution_count": 50,
   "metadata": {},
   "outputs": [
    {
     "data": {
      "text/plain": [
       "id                      int64\n",
       "first_name             object\n",
       "last_name              object\n",
       "job_title              object\n",
       "email                  object\n",
       "age                     int64\n",
       "num_children            int64\n",
       "shirt_size             object\n",
       "annual_salary         float64\n",
       "pay_type               object\n",
       "satisfaction_score    float64\n",
       "dtype: object"
      ]
     },
     "execution_count": 50,
     "metadata": {},
     "output_type": "execute_result"
    }
   ],
   "source": [
    "myDF.dtypes  # see the data types of each column (i.e., each column may only contain 1 data type, similar to NumPy arrays)"
   ]
  },
  {
   "cell_type": "markdown",
   "metadata": {},
   "source": [
    "Moreover, you can use the *describe* method to quickly see basic descriptives for all the numeric data (i.e., `int` and `float` types from the list above in this case):"
   ]
  },
  {
   "cell_type": "code",
   "execution_count": 51,
   "metadata": {},
   "outputs": [
    {
     "data": {
      "text/html": [
       "<div>\n",
       "<style scoped>\n",
       "    .dataframe tbody tr th:only-of-type {\n",
       "        vertical-align: middle;\n",
       "    }\n",
       "\n",
       "    .dataframe tbody tr th {\n",
       "        vertical-align: top;\n",
       "    }\n",
       "\n",
       "    .dataframe thead th {\n",
       "        text-align: right;\n",
       "    }\n",
       "</style>\n",
       "<table border=\"1\" class=\"dataframe\">\n",
       "  <thead>\n",
       "    <tr style=\"text-align: right;\">\n",
       "      <th></th>\n",
       "      <th>id</th>\n",
       "      <th>age</th>\n",
       "      <th>num_children</th>\n",
       "      <th>annual_salary</th>\n",
       "      <th>satisfaction_score</th>\n",
       "    </tr>\n",
       "  </thead>\n",
       "  <tbody>\n",
       "    <tr>\n",
       "      <th>count</th>\n",
       "      <td>50.00000</td>\n",
       "      <td>50.000000</td>\n",
       "      <td>50.000000</td>\n",
       "      <td>50.00000</td>\n",
       "      <td>47.000000</td>\n",
       "    </tr>\n",
       "    <tr>\n",
       "      <th>mean</th>\n",
       "      <td>1025.50000</td>\n",
       "      <td>41.620000</td>\n",
       "      <td>1.400000</td>\n",
       "      <td>52491.20620</td>\n",
       "      <td>3.255319</td>\n",
       "    </tr>\n",
       "    <tr>\n",
       "      <th>std</th>\n",
       "      <td>14.57738</td>\n",
       "      <td>14.752226</td>\n",
       "      <td>1.160577</td>\n",
       "      <td>21633.09159</td>\n",
       "      <td>1.358837</td>\n",
       "    </tr>\n",
       "    <tr>\n",
       "      <th>min</th>\n",
       "      <td>1001.00000</td>\n",
       "      <td>18.000000</td>\n",
       "      <td>0.000000</td>\n",
       "      <td>20496.78000</td>\n",
       "      <td>1.000000</td>\n",
       "    </tr>\n",
       "    <tr>\n",
       "      <th>25%</th>\n",
       "      <td>1013.25000</td>\n",
       "      <td>28.500000</td>\n",
       "      <td>0.000000</td>\n",
       "      <td>36060.06750</td>\n",
       "      <td>2.000000</td>\n",
       "    </tr>\n",
       "    <tr>\n",
       "      <th>50%</th>\n",
       "      <td>1025.50000</td>\n",
       "      <td>40.500000</td>\n",
       "      <td>1.000000</td>\n",
       "      <td>51873.18500</td>\n",
       "      <td>3.000000</td>\n",
       "    </tr>\n",
       "    <tr>\n",
       "      <th>75%</th>\n",
       "      <td>1037.75000</td>\n",
       "      <td>54.500000</td>\n",
       "      <td>2.000000</td>\n",
       "      <td>65860.41000</td>\n",
       "      <td>4.000000</td>\n",
       "    </tr>\n",
       "    <tr>\n",
       "      <th>max</th>\n",
       "      <td>1050.00000</td>\n",
       "      <td>65.000000</td>\n",
       "      <td>3.000000</td>\n",
       "      <td>91838.16000</td>\n",
       "      <td>5.000000</td>\n",
       "    </tr>\n",
       "  </tbody>\n",
       "</table>\n",
       "</div>"
      ],
      "text/plain": [
       "               id        age  num_children  annual_salary  satisfaction_score\n",
       "count    50.00000  50.000000     50.000000       50.00000           47.000000\n",
       "mean   1025.50000  41.620000      1.400000    52491.20620            3.255319\n",
       "std      14.57738  14.752226      1.160577    21633.09159            1.358837\n",
       "min    1001.00000  18.000000      0.000000    20496.78000            1.000000\n",
       "25%    1013.25000  28.500000      0.000000    36060.06750            2.000000\n",
       "50%    1025.50000  40.500000      1.000000    51873.18500            3.000000\n",
       "75%    1037.75000  54.500000      2.000000    65860.41000            4.000000\n",
       "max    1050.00000  65.000000      3.000000    91838.16000            5.000000"
      ]
     },
     "execution_count": 51,
     "metadata": {},
     "output_type": "execute_result"
    }
   ],
   "source": [
    "myDF.describe()"
   ]
  },
  {
   "cell_type": "markdown",
   "metadata": {},
   "source": [
    "Finally, in terms of organizing how you view the data, you can also sort using various methods including *sort_values*:"
   ]
  },
  {
   "cell_type": "code",
   "execution_count": 52,
   "metadata": {},
   "outputs": [
    {
     "data": {
      "text/html": [
       "<div>\n",
       "<style scoped>\n",
       "    .dataframe tbody tr th:only-of-type {\n",
       "        vertical-align: middle;\n",
       "    }\n",
       "\n",
       "    .dataframe tbody tr th {\n",
       "        vertical-align: top;\n",
       "    }\n",
       "\n",
       "    .dataframe thead th {\n",
       "        text-align: right;\n",
       "    }\n",
       "</style>\n",
       "<table border=\"1\" class=\"dataframe\">\n",
       "  <thead>\n",
       "    <tr style=\"text-align: right;\">\n",
       "      <th></th>\n",
       "      <th>id</th>\n",
       "      <th>first_name</th>\n",
       "      <th>last_name</th>\n",
       "      <th>job_title</th>\n",
       "      <th>email</th>\n",
       "      <th>age</th>\n",
       "      <th>num_children</th>\n",
       "      <th>shirt_size</th>\n",
       "      <th>annual_salary</th>\n",
       "      <th>pay_type</th>\n",
       "      <th>satisfaction_score</th>\n",
       "    </tr>\n",
       "  </thead>\n",
       "  <tbody>\n",
       "    <tr>\n",
       "      <th>0</th>\n",
       "      <td>1001</td>\n",
       "      <td>Cobbie</td>\n",
       "      <td>Whinray</td>\n",
       "      <td>Account Executive</td>\n",
       "      <td>cwhinray0@icq.com</td>\n",
       "      <td>63</td>\n",
       "      <td>1</td>\n",
       "      <td>M</td>\n",
       "      <td>31124.56</td>\n",
       "      <td>FullTime</td>\n",
       "      <td>5.0</td>\n",
       "    </tr>\n",
       "    <tr>\n",
       "      <th>3</th>\n",
       "      <td>1004</td>\n",
       "      <td>Morten</td>\n",
       "      <td>Samples</td>\n",
       "      <td>Account Representative IV</td>\n",
       "      <td>msamples3@toplist.cz</td>\n",
       "      <td>43</td>\n",
       "      <td>1</td>\n",
       "      <td>S</td>\n",
       "      <td>51447.79</td>\n",
       "      <td>PartTime</td>\n",
       "      <td>5.0</td>\n",
       "    </tr>\n",
       "    <tr>\n",
       "      <th>4</th>\n",
       "      <td>1005</td>\n",
       "      <td>Norman</td>\n",
       "      <td>Munnis</td>\n",
       "      <td>Desktop Support Technician</td>\n",
       "      <td>nmunnis4@cargocollective.com</td>\n",
       "      <td>41</td>\n",
       "      <td>0</td>\n",
       "      <td>L</td>\n",
       "      <td>54961.71</td>\n",
       "      <td>PartTime</td>\n",
       "      <td>5.0</td>\n",
       "    </tr>\n",
       "    <tr>\n",
       "      <th>5</th>\n",
       "      <td>1006</td>\n",
       "      <td>Cora</td>\n",
       "      <td>Barbary</td>\n",
       "      <td>Research Associate</td>\n",
       "      <td>cbarbary5@china.com.cn</td>\n",
       "      <td>61</td>\n",
       "      <td>1</td>\n",
       "      <td>XL</td>\n",
       "      <td>31398.06</td>\n",
       "      <td>PartTime</td>\n",
       "      <td>5.0</td>\n",
       "    </tr>\n",
       "    <tr>\n",
       "      <th>2</th>\n",
       "      <td>1003</td>\n",
       "      <td>Coralyn</td>\n",
       "      <td>Haselhurst</td>\n",
       "      <td>Account Coordinator</td>\n",
       "      <td>chaselhurst2@icio.us</td>\n",
       "      <td>41</td>\n",
       "      <td>2</td>\n",
       "      <td>3XL</td>\n",
       "      <td>25548.53</td>\n",
       "      <td>FullTime</td>\n",
       "      <td>4.0</td>\n",
       "    </tr>\n",
       "    <tr>\n",
       "      <th>9</th>\n",
       "      <td>1010</td>\n",
       "      <td>Levi</td>\n",
       "      <td>Elward</td>\n",
       "      <td>Staff Accountant II</td>\n",
       "      <td>lelward9@sitemeter.com</td>\n",
       "      <td>50</td>\n",
       "      <td>1</td>\n",
       "      <td>2XL</td>\n",
       "      <td>66769.71</td>\n",
       "      <td>FullTime</td>\n",
       "      <td>4.0</td>\n",
       "    </tr>\n",
       "    <tr>\n",
       "      <th>1</th>\n",
       "      <td>1002</td>\n",
       "      <td>Milton</td>\n",
       "      <td>McPhaden</td>\n",
       "      <td>Recruiter</td>\n",
       "      <td>mmcphaden1@marriott.com</td>\n",
       "      <td>20</td>\n",
       "      <td>2</td>\n",
       "      <td>L</td>\n",
       "      <td>65875.74</td>\n",
       "      <td>FullTime</td>\n",
       "      <td>3.0</td>\n",
       "    </tr>\n",
       "    <tr>\n",
       "      <th>6</th>\n",
       "      <td>1007</td>\n",
       "      <td>Stevie</td>\n",
       "      <td>O'Shirine</td>\n",
       "      <td>VP Accounting</td>\n",
       "      <td>soshirine6@foxnews.com</td>\n",
       "      <td>55</td>\n",
       "      <td>0</td>\n",
       "      <td>XS</td>\n",
       "      <td>65814.42</td>\n",
       "      <td>FullTime</td>\n",
       "      <td>3.0</td>\n",
       "    </tr>\n",
       "    <tr>\n",
       "      <th>8</th>\n",
       "      <td>1009</td>\n",
       "      <td>Harmony</td>\n",
       "      <td>Kaysor</td>\n",
       "      <td>Chemical Engineer</td>\n",
       "      <td>NaN</td>\n",
       "      <td>58</td>\n",
       "      <td>3</td>\n",
       "      <td>M</td>\n",
       "      <td>41974.19</td>\n",
       "      <td>PartTime</td>\n",
       "      <td>3.0</td>\n",
       "    </tr>\n",
       "    <tr>\n",
       "      <th>7</th>\n",
       "      <td>1008</td>\n",
       "      <td>Kynthia</td>\n",
       "      <td>Blaxley</td>\n",
       "      <td>Computer Systems Analyst IV</td>\n",
       "      <td>kblaxley7@goo.ne.jp</td>\n",
       "      <td>63</td>\n",
       "      <td>2</td>\n",
       "      <td>S</td>\n",
       "      <td>65262.16</td>\n",
       "      <td>PartTime</td>\n",
       "      <td>NaN</td>\n",
       "    </tr>\n",
       "  </tbody>\n",
       "</table>\n",
       "</div>"
      ],
      "text/plain": [
       "     id first_name   last_name                    job_title  \\\n",
       "0  1001     Cobbie     Whinray            Account Executive   \n",
       "3  1004     Morten     Samples    Account Representative IV   \n",
       "4  1005     Norman      Munnis   Desktop Support Technician   \n",
       "5  1006       Cora     Barbary           Research Associate   \n",
       "2  1003    Coralyn  Haselhurst          Account Coordinator   \n",
       "9  1010       Levi      Elward          Staff Accountant II   \n",
       "1  1002     Milton    McPhaden                    Recruiter   \n",
       "6  1007     Stevie   O'Shirine                VP Accounting   \n",
       "8  1009    Harmony      Kaysor            Chemical Engineer   \n",
       "7  1008    Kynthia     Blaxley  Computer Systems Analyst IV   \n",
       "\n",
       "                          email  age  num_children shirt_size  annual_salary  \\\n",
       "0             cwhinray0@icq.com   63             1          M       31124.56   \n",
       "3          msamples3@toplist.cz   43             1          S       51447.79   \n",
       "4  nmunnis4@cargocollective.com   41             0          L       54961.71   \n",
       "5        cbarbary5@china.com.cn   61             1         XL       31398.06   \n",
       "2          chaselhurst2@icio.us   41             2        3XL       25548.53   \n",
       "9        lelward9@sitemeter.com   50             1        2XL       66769.71   \n",
       "1       mmcphaden1@marriott.com   20             2          L       65875.74   \n",
       "6        soshirine6@foxnews.com   55             0         XS       65814.42   \n",
       "8                           NaN   58             3          M       41974.19   \n",
       "7           kblaxley7@goo.ne.jp   63             2          S       65262.16   \n",
       "\n",
       "   pay_type  satisfaction_score  \n",
       "0  FullTime                 5.0  \n",
       "3  PartTime                 5.0  \n",
       "4  PartTime                 5.0  \n",
       "5  PartTime                 5.0  \n",
       "2  FullTime                 4.0  \n",
       "9  FullTime                 4.0  \n",
       "1  FullTime                 3.0  \n",
       "6  FullTime                 3.0  \n",
       "8  PartTime                 3.0  \n",
       "7  PartTime                 NaN  "
      ]
     },
     "execution_count": 52,
     "metadata": {},
     "output_type": "execute_result"
    }
   ],
   "source": [
    "# show the first ten employees in the data and sort them by satisfaction_score in descending order (i.e., ascending = False)\n",
    "myDF.head(10).sort_values('satisfaction_score', ascending = False)"
   ]
  },
  {
   "cell_type": "markdown",
   "metadata": {},
   "source": [
    "Conveniently, note that methods can be combined into a single call. For example, to sort the data and only show the first 10 rows, we could couple the *sort_values* method with *head*:"
   ]
  },
  {
   "cell_type": "code",
   "execution_count": 53,
   "metadata": {},
   "outputs": [
    {
     "data": {
      "text/html": [
       "<div>\n",
       "<style scoped>\n",
       "    .dataframe tbody tr th:only-of-type {\n",
       "        vertical-align: middle;\n",
       "    }\n",
       "\n",
       "    .dataframe tbody tr th {\n",
       "        vertical-align: top;\n",
       "    }\n",
       "\n",
       "    .dataframe thead th {\n",
       "        text-align: right;\n",
       "    }\n",
       "</style>\n",
       "<table border=\"1\" class=\"dataframe\">\n",
       "  <thead>\n",
       "    <tr style=\"text-align: right;\">\n",
       "      <th></th>\n",
       "      <th>id</th>\n",
       "      <th>first_name</th>\n",
       "      <th>last_name</th>\n",
       "      <th>job_title</th>\n",
       "      <th>email</th>\n",
       "      <th>age</th>\n",
       "      <th>num_children</th>\n",
       "      <th>shirt_size</th>\n",
       "      <th>annual_salary</th>\n",
       "      <th>pay_type</th>\n",
       "      <th>satisfaction_score</th>\n",
       "    </tr>\n",
       "  </thead>\n",
       "  <tbody>\n",
       "    <tr>\n",
       "      <th>0</th>\n",
       "      <td>1001</td>\n",
       "      <td>Cobbie</td>\n",
       "      <td>Whinray</td>\n",
       "      <td>Account Executive</td>\n",
       "      <td>cwhinray0@icq.com</td>\n",
       "      <td>63</td>\n",
       "      <td>1</td>\n",
       "      <td>M</td>\n",
       "      <td>31124.56</td>\n",
       "      <td>FullTime</td>\n",
       "      <td>5.0</td>\n",
       "    </tr>\n",
       "    <tr>\n",
       "      <th>43</th>\n",
       "      <td>1044</td>\n",
       "      <td>Harriett</td>\n",
       "      <td>German</td>\n",
       "      <td>Research Associate</td>\n",
       "      <td>hgerman17@ibm.com</td>\n",
       "      <td>19</td>\n",
       "      <td>3</td>\n",
       "      <td>XS</td>\n",
       "      <td>52513.35</td>\n",
       "      <td>PartTime</td>\n",
       "      <td>5.0</td>\n",
       "    </tr>\n",
       "    <tr>\n",
       "      <th>15</th>\n",
       "      <td>1016</td>\n",
       "      <td>Bernie</td>\n",
       "      <td>Senechell</td>\n",
       "      <td>Senior Editor</td>\n",
       "      <td>bsenechellf@walmart.com</td>\n",
       "      <td>64</td>\n",
       "      <td>0</td>\n",
       "      <td>2XL</td>\n",
       "      <td>60180.50</td>\n",
       "      <td>NaN</td>\n",
       "      <td>5.0</td>\n",
       "    </tr>\n",
       "    <tr>\n",
       "      <th>25</th>\n",
       "      <td>1026</td>\n",
       "      <td>Pearce</td>\n",
       "      <td>Ygoe</td>\n",
       "      <td>Cost Accountant</td>\n",
       "      <td>pygoep@webnode.com</td>\n",
       "      <td>34</td>\n",
       "      <td>1</td>\n",
       "      <td>L</td>\n",
       "      <td>45988.08</td>\n",
       "      <td>PartTime</td>\n",
       "      <td>5.0</td>\n",
       "    </tr>\n",
       "    <tr>\n",
       "      <th>33</th>\n",
       "      <td>1034</td>\n",
       "      <td>Garwin</td>\n",
       "      <td>Farnish</td>\n",
       "      <td>Human Resources Assistant IV</td>\n",
       "      <td>gfarnishx@wufoo.com</td>\n",
       "      <td>53</td>\n",
       "      <td>0</td>\n",
       "      <td>L</td>\n",
       "      <td>83878.78</td>\n",
       "      <td>PartTime</td>\n",
       "      <td>5.0</td>\n",
       "    </tr>\n",
       "    <tr>\n",
       "      <th>37</th>\n",
       "      <td>1038</td>\n",
       "      <td>Paulie</td>\n",
       "      <td>Lunge</td>\n",
       "      <td>Senior Developer</td>\n",
       "      <td>plunge11@qq.com</td>\n",
       "      <td>36</td>\n",
       "      <td>2</td>\n",
       "      <td>L</td>\n",
       "      <td>20496.78</td>\n",
       "      <td>PartTime</td>\n",
       "      <td>5.0</td>\n",
       "    </tr>\n",
       "    <tr>\n",
       "      <th>5</th>\n",
       "      <td>1006</td>\n",
       "      <td>Cora</td>\n",
       "      <td>Barbary</td>\n",
       "      <td>Research Associate</td>\n",
       "      <td>cbarbary5@china.com.cn</td>\n",
       "      <td>61</td>\n",
       "      <td>1</td>\n",
       "      <td>XL</td>\n",
       "      <td>31398.06</td>\n",
       "      <td>PartTime</td>\n",
       "      <td>5.0</td>\n",
       "    </tr>\n",
       "    <tr>\n",
       "      <th>4</th>\n",
       "      <td>1005</td>\n",
       "      <td>Norman</td>\n",
       "      <td>Munnis</td>\n",
       "      <td>Desktop Support Technician</td>\n",
       "      <td>nmunnis4@cargocollective.com</td>\n",
       "      <td>41</td>\n",
       "      <td>0</td>\n",
       "      <td>L</td>\n",
       "      <td>54961.71</td>\n",
       "      <td>PartTime</td>\n",
       "      <td>5.0</td>\n",
       "    </tr>\n",
       "    <tr>\n",
       "      <th>3</th>\n",
       "      <td>1004</td>\n",
       "      <td>Morten</td>\n",
       "      <td>Samples</td>\n",
       "      <td>Account Representative IV</td>\n",
       "      <td>msamples3@toplist.cz</td>\n",
       "      <td>43</td>\n",
       "      <td>1</td>\n",
       "      <td>S</td>\n",
       "      <td>51447.79</td>\n",
       "      <td>PartTime</td>\n",
       "      <td>5.0</td>\n",
       "    </tr>\n",
       "    <tr>\n",
       "      <th>47</th>\n",
       "      <td>1048</td>\n",
       "      <td>Timmie</td>\n",
       "      <td>Roffey</td>\n",
       "      <td>Programmer I</td>\n",
       "      <td>troffey1b@hatena.ne.jp</td>\n",
       "      <td>20</td>\n",
       "      <td>1</td>\n",
       "      <td>M</td>\n",
       "      <td>86393.21</td>\n",
       "      <td>PartTime</td>\n",
       "      <td>5.0</td>\n",
       "    </tr>\n",
       "  </tbody>\n",
       "</table>\n",
       "</div>"
      ],
      "text/plain": [
       "      id first_name  last_name                     job_title  \\\n",
       "0   1001     Cobbie    Whinray             Account Executive   \n",
       "43  1044   Harriett     German            Research Associate   \n",
       "15  1016     Bernie  Senechell                 Senior Editor   \n",
       "25  1026     Pearce       Ygoe               Cost Accountant   \n",
       "33  1034     Garwin    Farnish  Human Resources Assistant IV   \n",
       "37  1038     Paulie      Lunge              Senior Developer   \n",
       "5   1006       Cora    Barbary            Research Associate   \n",
       "4   1005     Norman     Munnis    Desktop Support Technician   \n",
       "3   1004     Morten    Samples     Account Representative IV   \n",
       "47  1048     Timmie     Roffey                  Programmer I   \n",
       "\n",
       "                           email  age  num_children shirt_size  annual_salary  \\\n",
       "0              cwhinray0@icq.com   63             1          M       31124.56   \n",
       "43             hgerman17@ibm.com   19             3         XS       52513.35   \n",
       "15       bsenechellf@walmart.com   64             0        2XL       60180.50   \n",
       "25            pygoep@webnode.com   34             1          L       45988.08   \n",
       "33           gfarnishx@wufoo.com   53             0          L       83878.78   \n",
       "37               plunge11@qq.com   36             2          L       20496.78   \n",
       "5         cbarbary5@china.com.cn   61             1         XL       31398.06   \n",
       "4   nmunnis4@cargocollective.com   41             0          L       54961.71   \n",
       "3           msamples3@toplist.cz   43             1          S       51447.79   \n",
       "47        troffey1b@hatena.ne.jp   20             1          M       86393.21   \n",
       "\n",
       "    pay_type  satisfaction_score  \n",
       "0   FullTime                 5.0  \n",
       "43  PartTime                 5.0  \n",
       "15       NaN                 5.0  \n",
       "25  PartTime                 5.0  \n",
       "33  PartTime                 5.0  \n",
       "37  PartTime                 5.0  \n",
       "5   PartTime                 5.0  \n",
       "4   PartTime                 5.0  \n",
       "3   PartTime                 5.0  \n",
       "47  PartTime                 5.0  "
      ]
     },
     "execution_count": 53,
     "metadata": {},
     "output_type": "execute_result"
    }
   ],
   "source": [
    "# sort the values first, and then show the top 10\n",
    "myDF.sort_values('satisfaction_score', ascending = False).head(10)"
   ]
  },
  {
   "cell_type": "markdown",
   "metadata": {},
   "source": [
    "Be aware that the order you use for the various operations matters. For instance, in the two examples above, the result is very different in either case of:\n",
    "\n",
    "- pulling the top ten values and then sorting (i.e., the former example)\n",
    "- sorting and subsequently pulling the top 10 values (i.e., the latter example)"
   ]
  },
  {
   "cell_type": "markdown",
   "metadata": {},
   "source": [
    "##### **Setting Data Types**\n",
    "\n",
    "In the previous section, we showed that the *dtypes*  property can be used to see the data types of each column in the DataFrame:"
   ]
  },
  {
   "cell_type": "code",
   "execution_count": 54,
   "metadata": {},
   "outputs": [
    {
     "data": {
      "text/plain": [
       "id                      int64\n",
       "first_name             object\n",
       "last_name              object\n",
       "job_title              object\n",
       "email                  object\n",
       "age                     int64\n",
       "num_children            int64\n",
       "shirt_size             object\n",
       "annual_salary         float64\n",
       "pay_type               object\n",
       "satisfaction_score    float64\n",
       "dtype: object"
      ]
     },
     "execution_count": 54,
     "metadata": {},
     "output_type": "execute_result"
    }
   ],
   "source": [
    "myDF.dtypes"
   ]
  },
  {
   "cell_type": "markdown",
   "metadata": {},
   "source": [
    "Most of the data types that appear in this list are related to the primitive types discussed in a previous unit (e.g., `int` and `float`). That said, the actual data types in the list above are not exactly the same since the bulk of them come from [NumPy](https://numpy.org/doc/stable/user/basics.types.html), although some--such as [category](https://pandas.pydata.org/pandas-docs/stable/user_guide/categorical.html)--are specific to [pandas]([supported](https://pandas.pydata.org/pandas-docs/stable/user_guide/basics.html#dtypes)). Additionally, it is worth noting that `object` is a general data type that is used for `str` and various mixed data types in pandas.\n",
    "\n",
    "More importantly, when reading in the data, pandas will make an effort to set each column to a reasonable data type, but often you will need to change it. To accomplish this, we use the *astype* function. For example, to change the id column from an `int64` (or `int32`, depending upon your system default) to an `uint8` (since ages should never be negative and rarely take high values), we can do the following:"
   ]
  },
  {
   "cell_type": "code",
   "execution_count": 55,
   "metadata": {},
   "outputs": [
    {
     "data": {
      "text/plain": [
       "id                      int64\n",
       "first_name             object\n",
       "last_name              object\n",
       "job_title              object\n",
       "email                  object\n",
       "age                     uint8\n",
       "num_children            int64\n",
       "shirt_size             object\n",
       "annual_salary         float64\n",
       "pay_type               object\n",
       "satisfaction_score    float64\n",
       "dtype: object"
      ]
     },
     "execution_count": 55,
     "metadata": {},
     "output_type": "execute_result"
    }
   ],
   "source": [
    "myDF.age = myDF.age.astype('uint8')\n",
    "\n",
    "myDF.dtypes"
   ]
  },
  {
   "cell_type": "markdown",
   "metadata": {},
   "source": [
    "To change multiple columns at once, we can use the following syntax:"
   ]
  },
  {
   "cell_type": "code",
   "execution_count": 56,
   "metadata": {},
   "outputs": [
    {
     "data": {
      "text/plain": [
       "id                       int64\n",
       "first_name              object\n",
       "last_name               object\n",
       "job_title               object\n",
       "email                   object\n",
       "age                    float64\n",
       "num_children             int64\n",
       "shirt_size            category\n",
       "annual_salary          float64\n",
       "pay_type              category\n",
       "satisfaction_score     float64\n",
       "dtype: object"
      ]
     },
     "execution_count": 56,
     "metadata": {},
     "output_type": "execute_result"
    }
   ],
   "source": [
    "myDF = myDF.astype({\n",
    "    'age': 'float',\n",
    "    'pay_type': 'category',\n",
    "    'shirt_size': 'category'\n",
    "})\n",
    "\n",
    "myDF.dtypes"
   ]
  },
  {
   "cell_type": "markdown",
   "metadata": {},
   "source": [
    "In this example, we converted (or *cast*) age from `int64` to `float64` and set shirt_size and pay_type to `category`. The latter data type of `category` is interesting, since it works much like a *factor* in R as noted in the [documentation](https://pandas.pydata.org/pandas-docs/stable/user_guide/categorical.html). For variables such as shirt_size where there are only a fixed set of possibiltiies, treating the variable as categorical often makes the most sense, and may be necessary for conducting various analyses (e.g., ANOVAs).\n",
    "\n",
    "More generally, it is important to check the data types (i.e., using *dtypes*) when importing your data and making sure all the data are coded correctly prior to moving on with data analysis."
   ]
  },
  {
   "cell_type": "markdown",
   "metadata": {},
   "source": [
    "##### **Accessing DataFrame Elements**\n",
    "\n",
    "All of the examples thus far have focused on viewing all of the data at once. However, it's often desirable to access specific data points, such as one or more columns or a specific set of rows across particular columns. Pandas provides several approaches for accessing elements in this way. For example, to reference a particular column, you can do so by name via bracket notation:"
   ]
  },
  {
   "cell_type": "code",
   "execution_count": 57,
   "metadata": {},
   "outputs": [],
   "source": [
    "myDFShort = myDF.head() # create a shorter version of the DataFrame to avoid having to constantly call head"
   ]
  },
  {
   "cell_type": "code",
   "execution_count": 58,
   "metadata": {},
   "outputs": [
    {
     "data": {
      "text/plain": [
       "0     Cobbie\n",
       "1     Milton\n",
       "2    Coralyn\n",
       "3     Morten\n",
       "4     Norman\n",
       "Name: first_name, dtype: object"
      ]
     },
     "execution_count": 58,
     "metadata": {},
     "output_type": "execute_result"
    }
   ],
   "source": [
    "myDFShort['first_name']"
   ]
  },
  {
   "cell_type": "markdown",
   "metadata": {},
   "source": [
    "For a single column, it's also possible to use the following shorthand notation to achieve the same result:"
   ]
  },
  {
   "cell_type": "code",
   "execution_count": 59,
   "metadata": {},
   "outputs": [
    {
     "data": {
      "text/plain": [
       "0     Cobbie\n",
       "1     Milton\n",
       "2    Coralyn\n",
       "3     Morten\n",
       "4     Norman\n",
       "Name: first_name, dtype: object"
      ]
     },
     "execution_count": 59,
     "metadata": {},
     "output_type": "execute_result"
    }
   ],
   "source": [
    "myDFShort.first_name"
   ]
  },
  {
   "cell_type": "markdown",
   "metadata": {},
   "source": [
    "In both cases, pandas conveniently notes the name of the column as well as the data type (i.e., dtype) clearly in the result.\n",
    "\n",
    "To access multiple columns, stick to the bracketing approach and supply a list of named column indicies (i.e., double brackets):"
   ]
  },
  {
   "cell_type": "code",
   "execution_count": 60,
   "metadata": {},
   "outputs": [
    {
     "data": {
      "text/html": [
       "<div>\n",
       "<style scoped>\n",
       "    .dataframe tbody tr th:only-of-type {\n",
       "        vertical-align: middle;\n",
       "    }\n",
       "\n",
       "    .dataframe tbody tr th {\n",
       "        vertical-align: top;\n",
       "    }\n",
       "\n",
       "    .dataframe thead th {\n",
       "        text-align: right;\n",
       "    }\n",
       "</style>\n",
       "<table border=\"1\" class=\"dataframe\">\n",
       "  <thead>\n",
       "    <tr style=\"text-align: right;\">\n",
       "      <th></th>\n",
       "      <th>first_name</th>\n",
       "      <th>last_name</th>\n",
       "      <th>age</th>\n",
       "    </tr>\n",
       "  </thead>\n",
       "  <tbody>\n",
       "    <tr>\n",
       "      <th>0</th>\n",
       "      <td>Cobbie</td>\n",
       "      <td>Whinray</td>\n",
       "      <td>63.0</td>\n",
       "    </tr>\n",
       "    <tr>\n",
       "      <th>1</th>\n",
       "      <td>Milton</td>\n",
       "      <td>McPhaden</td>\n",
       "      <td>20.0</td>\n",
       "    </tr>\n",
       "    <tr>\n",
       "      <th>2</th>\n",
       "      <td>Coralyn</td>\n",
       "      <td>Haselhurst</td>\n",
       "      <td>41.0</td>\n",
       "    </tr>\n",
       "    <tr>\n",
       "      <th>3</th>\n",
       "      <td>Morten</td>\n",
       "      <td>Samples</td>\n",
       "      <td>43.0</td>\n",
       "    </tr>\n",
       "    <tr>\n",
       "      <th>4</th>\n",
       "      <td>Norman</td>\n",
       "      <td>Munnis</td>\n",
       "      <td>41.0</td>\n",
       "    </tr>\n",
       "  </tbody>\n",
       "</table>\n",
       "</div>"
      ],
      "text/plain": [
       "  first_name   last_name   age\n",
       "0     Cobbie     Whinray  63.0\n",
       "1     Milton    McPhaden  20.0\n",
       "2    Coralyn  Haselhurst  41.0\n",
       "3     Morten     Samples  43.0\n",
       "4     Norman      Munnis  41.0"
      ]
     },
     "execution_count": 60,
     "metadata": {},
     "output_type": "execute_result"
    }
   ],
   "source": [
    "myDFShort[['first_name', 'last_name', 'age']]"
   ]
  },
  {
   "cell_type": "markdown",
   "metadata": {},
   "source": [
    "In addition to selecting specific columns, we can also return specific rows using brackets by providing an index or slice:"
   ]
  },
  {
   "cell_type": "code",
   "execution_count": 61,
   "metadata": {},
   "outputs": [
    {
     "data": {
      "text/html": [
       "<div>\n",
       "<style scoped>\n",
       "    .dataframe tbody tr th:only-of-type {\n",
       "        vertical-align: middle;\n",
       "    }\n",
       "\n",
       "    .dataframe tbody tr th {\n",
       "        vertical-align: top;\n",
       "    }\n",
       "\n",
       "    .dataframe thead th {\n",
       "        text-align: right;\n",
       "    }\n",
       "</style>\n",
       "<table border=\"1\" class=\"dataframe\">\n",
       "  <thead>\n",
       "    <tr style=\"text-align: right;\">\n",
       "      <th></th>\n",
       "      <th>id</th>\n",
       "      <th>first_name</th>\n",
       "      <th>last_name</th>\n",
       "      <th>job_title</th>\n",
       "      <th>email</th>\n",
       "      <th>age</th>\n",
       "      <th>num_children</th>\n",
       "      <th>shirt_size</th>\n",
       "      <th>annual_salary</th>\n",
       "      <th>pay_type</th>\n",
       "      <th>satisfaction_score</th>\n",
       "    </tr>\n",
       "  </thead>\n",
       "  <tbody>\n",
       "    <tr>\n",
       "      <th>2</th>\n",
       "      <td>1003</td>\n",
       "      <td>Coralyn</td>\n",
       "      <td>Haselhurst</td>\n",
       "      <td>Account Coordinator</td>\n",
       "      <td>chaselhurst2@icio.us</td>\n",
       "      <td>41.0</td>\n",
       "      <td>2</td>\n",
       "      <td>3XL</td>\n",
       "      <td>25548.53</td>\n",
       "      <td>FullTime</td>\n",
       "      <td>4.0</td>\n",
       "    </tr>\n",
       "    <tr>\n",
       "      <th>3</th>\n",
       "      <td>1004</td>\n",
       "      <td>Morten</td>\n",
       "      <td>Samples</td>\n",
       "      <td>Account Representative IV</td>\n",
       "      <td>msamples3@toplist.cz</td>\n",
       "      <td>43.0</td>\n",
       "      <td>1</td>\n",
       "      <td>S</td>\n",
       "      <td>51447.79</td>\n",
       "      <td>PartTime</td>\n",
       "      <td>5.0</td>\n",
       "    </tr>\n",
       "  </tbody>\n",
       "</table>\n",
       "</div>"
      ],
      "text/plain": [
       "     id first_name   last_name                  job_title  \\\n",
       "2  1003    Coralyn  Haselhurst        Account Coordinator   \n",
       "3  1004     Morten     Samples  Account Representative IV   \n",
       "\n",
       "                  email   age  num_children shirt_size  annual_salary  \\\n",
       "2  chaselhurst2@icio.us  41.0             2        3XL       25548.53   \n",
       "3  msamples3@toplist.cz  43.0             1          S       51447.79   \n",
       "\n",
       "   pay_type  satisfaction_score  \n",
       "2  FullTime                 4.0  \n",
       "3  PartTime                 5.0  "
      ]
     },
     "execution_count": 61,
     "metadata": {},
     "output_type": "execute_result"
    }
   ],
   "source": [
    "myDFShort[2:4] # select the 3rd and 4th rows by position"
   ]
  },
  {
   "cell_type": "markdown",
   "metadata": {},
   "source": [
    "More formally, we can achieve this affect using the powerful *loc* method:"
   ]
  },
  {
   "cell_type": "code",
   "execution_count": 62,
   "metadata": {},
   "outputs": [
    {
     "data": {
      "text/plain": [
       "id                                    1003\n",
       "first_name                         Coralyn\n",
       "last_name                       Haselhurst\n",
       "job_title              Account Coordinator\n",
       "email                 chaselhurst2@icio.us\n",
       "age                                   41.0\n",
       "num_children                             2\n",
       "shirt_size                             3XL\n",
       "annual_salary                     25548.53\n",
       "pay_type                          FullTime\n",
       "satisfaction_score                     4.0\n",
       "Name: 2, dtype: object"
      ]
     },
     "execution_count": 62,
     "metadata": {},
     "output_type": "execute_result"
    }
   ],
   "source": [
    "myDFShort.loc[2] # select by literal row index value"
   ]
  },
  {
   "cell_type": "markdown",
   "metadata": {},
   "source": [
    "The *loc* approach offers a lot of options. For example, we can use it to reference rows using named labels instead of via index values.\n",
    "\n",
    "First, we need to set the DataFrame's index to a relevant column using the *set_index* method; in this case, we'll use `id`:"
   ]
  },
  {
   "cell_type": "code",
   "execution_count": 63,
   "metadata": {},
   "outputs": [
    {
     "data": {
      "text/html": [
       "<div>\n",
       "<style scoped>\n",
       "    .dataframe tbody tr th:only-of-type {\n",
       "        vertical-align: middle;\n",
       "    }\n",
       "\n",
       "    .dataframe tbody tr th {\n",
       "        vertical-align: top;\n",
       "    }\n",
       "\n",
       "    .dataframe thead th {\n",
       "        text-align: right;\n",
       "    }\n",
       "</style>\n",
       "<table border=\"1\" class=\"dataframe\">\n",
       "  <thead>\n",
       "    <tr style=\"text-align: right;\">\n",
       "      <th></th>\n",
       "      <th>id</th>\n",
       "      <th>first_name</th>\n",
       "      <th>last_name</th>\n",
       "      <th>job_title</th>\n",
       "      <th>email</th>\n",
       "      <th>age</th>\n",
       "      <th>num_children</th>\n",
       "      <th>shirt_size</th>\n",
       "      <th>annual_salary</th>\n",
       "      <th>pay_type</th>\n",
       "      <th>satisfaction_score</th>\n",
       "    </tr>\n",
       "    <tr>\n",
       "      <th>id</th>\n",
       "      <th></th>\n",
       "      <th></th>\n",
       "      <th></th>\n",
       "      <th></th>\n",
       "      <th></th>\n",
       "      <th></th>\n",
       "      <th></th>\n",
       "      <th></th>\n",
       "      <th></th>\n",
       "      <th></th>\n",
       "      <th></th>\n",
       "    </tr>\n",
       "  </thead>\n",
       "  <tbody>\n",
       "    <tr>\n",
       "      <th>1001</th>\n",
       "      <td>1001</td>\n",
       "      <td>Cobbie</td>\n",
       "      <td>Whinray</td>\n",
       "      <td>Account Executive</td>\n",
       "      <td>cwhinray0@icq.com</td>\n",
       "      <td>63.0</td>\n",
       "      <td>1</td>\n",
       "      <td>M</td>\n",
       "      <td>31124.56</td>\n",
       "      <td>FullTime</td>\n",
       "      <td>5.0</td>\n",
       "    </tr>\n",
       "    <tr>\n",
       "      <th>1002</th>\n",
       "      <td>1002</td>\n",
       "      <td>Milton</td>\n",
       "      <td>McPhaden</td>\n",
       "      <td>Recruiter</td>\n",
       "      <td>mmcphaden1@marriott.com</td>\n",
       "      <td>20.0</td>\n",
       "      <td>2</td>\n",
       "      <td>L</td>\n",
       "      <td>65875.74</td>\n",
       "      <td>FullTime</td>\n",
       "      <td>3.0</td>\n",
       "    </tr>\n",
       "    <tr>\n",
       "      <th>1003</th>\n",
       "      <td>1003</td>\n",
       "      <td>Coralyn</td>\n",
       "      <td>Haselhurst</td>\n",
       "      <td>Account Coordinator</td>\n",
       "      <td>chaselhurst2@icio.us</td>\n",
       "      <td>41.0</td>\n",
       "      <td>2</td>\n",
       "      <td>3XL</td>\n",
       "      <td>25548.53</td>\n",
       "      <td>FullTime</td>\n",
       "      <td>4.0</td>\n",
       "    </tr>\n",
       "    <tr>\n",
       "      <th>1004</th>\n",
       "      <td>1004</td>\n",
       "      <td>Morten</td>\n",
       "      <td>Samples</td>\n",
       "      <td>Account Representative IV</td>\n",
       "      <td>msamples3@toplist.cz</td>\n",
       "      <td>43.0</td>\n",
       "      <td>1</td>\n",
       "      <td>S</td>\n",
       "      <td>51447.79</td>\n",
       "      <td>PartTime</td>\n",
       "      <td>5.0</td>\n",
       "    </tr>\n",
       "    <tr>\n",
       "      <th>1005</th>\n",
       "      <td>1005</td>\n",
       "      <td>Norman</td>\n",
       "      <td>Munnis</td>\n",
       "      <td>Desktop Support Technician</td>\n",
       "      <td>nmunnis4@cargocollective.com</td>\n",
       "      <td>41.0</td>\n",
       "      <td>0</td>\n",
       "      <td>L</td>\n",
       "      <td>54961.71</td>\n",
       "      <td>PartTime</td>\n",
       "      <td>5.0</td>\n",
       "    </tr>\n",
       "  </tbody>\n",
       "</table>\n",
       "</div>"
      ],
      "text/plain": [
       "        id first_name   last_name                   job_title  \\\n",
       "id                                                              \n",
       "1001  1001     Cobbie     Whinray           Account Executive   \n",
       "1002  1002     Milton    McPhaden                   Recruiter   \n",
       "1003  1003    Coralyn  Haselhurst         Account Coordinator   \n",
       "1004  1004     Morten     Samples   Account Representative IV   \n",
       "1005  1005     Norman      Munnis  Desktop Support Technician   \n",
       "\n",
       "                             email   age  num_children shirt_size  \\\n",
       "id                                                                  \n",
       "1001             cwhinray0@icq.com  63.0             1          M   \n",
       "1002       mmcphaden1@marriott.com  20.0             2          L   \n",
       "1003          chaselhurst2@icio.us  41.0             2        3XL   \n",
       "1004          msamples3@toplist.cz  43.0             1          S   \n",
       "1005  nmunnis4@cargocollective.com  41.0             0          L   \n",
       "\n",
       "      annual_salary  pay_type  satisfaction_score  \n",
       "id                                                 \n",
       "1001       31124.56  FullTime                 5.0  \n",
       "1002       65875.74  FullTime                 3.0  \n",
       "1003       25548.53  FullTime                 4.0  \n",
       "1004       51447.79  PartTime                 5.0  \n",
       "1005       54961.71  PartTime                 5.0  "
      ]
     },
     "execution_count": 63,
     "metadata": {},
     "output_type": "execute_result"
    }
   ],
   "source": [
    "myDFShort.set_index('id', inplace = True, drop = False) # set id as the labelled index (in-place) without dropping the column set as the index\n",
    "myDFShort"
   ]
  },
  {
   "cell_type": "markdown",
   "metadata": {},
   "source": [
    "Note we can re-check the current index values via the *index* property discussed earlier:"
   ]
  },
  {
   "cell_type": "code",
   "execution_count": 64,
   "metadata": {},
   "outputs": [
    {
     "data": {
      "text/plain": [
       "Int64Index([1001, 1002, 1003, 1004, 1005], dtype='int64', name='id')"
      ]
     },
     "execution_count": 64,
     "metadata": {},
     "output_type": "execute_result"
    }
   ],
   "source": [
    "myDFShort.index"
   ]
  },
  {
   "cell_type": "markdown",
   "metadata": {},
   "source": [
    "The data type of the index is consistent with what it was for the column (i.e., `int64`), which will be relevant to how we use values as a row reference. For example, to pull up two specific employees by `id`, we can supply a list of integer index values to *loc* to pull up these particular results:"
   ]
  },
  {
   "cell_type": "code",
   "execution_count": 65,
   "metadata": {},
   "outputs": [
    {
     "data": {
      "text/html": [
       "<div>\n",
       "<style scoped>\n",
       "    .dataframe tbody tr th:only-of-type {\n",
       "        vertical-align: middle;\n",
       "    }\n",
       "\n",
       "    .dataframe tbody tr th {\n",
       "        vertical-align: top;\n",
       "    }\n",
       "\n",
       "    .dataframe thead th {\n",
       "        text-align: right;\n",
       "    }\n",
       "</style>\n",
       "<table border=\"1\" class=\"dataframe\">\n",
       "  <thead>\n",
       "    <tr style=\"text-align: right;\">\n",
       "      <th></th>\n",
       "      <th>id</th>\n",
       "      <th>first_name</th>\n",
       "      <th>last_name</th>\n",
       "      <th>job_title</th>\n",
       "      <th>email</th>\n",
       "      <th>age</th>\n",
       "      <th>num_children</th>\n",
       "      <th>shirt_size</th>\n",
       "      <th>annual_salary</th>\n",
       "      <th>pay_type</th>\n",
       "      <th>satisfaction_score</th>\n",
       "    </tr>\n",
       "    <tr>\n",
       "      <th>id</th>\n",
       "      <th></th>\n",
       "      <th></th>\n",
       "      <th></th>\n",
       "      <th></th>\n",
       "      <th></th>\n",
       "      <th></th>\n",
       "      <th></th>\n",
       "      <th></th>\n",
       "      <th></th>\n",
       "      <th></th>\n",
       "      <th></th>\n",
       "    </tr>\n",
       "  </thead>\n",
       "  <tbody>\n",
       "    <tr>\n",
       "      <th>1001</th>\n",
       "      <td>1001</td>\n",
       "      <td>Cobbie</td>\n",
       "      <td>Whinray</td>\n",
       "      <td>Account Executive</td>\n",
       "      <td>cwhinray0@icq.com</td>\n",
       "      <td>63.0</td>\n",
       "      <td>1</td>\n",
       "      <td>M</td>\n",
       "      <td>31124.56</td>\n",
       "      <td>FullTime</td>\n",
       "      <td>5.0</td>\n",
       "    </tr>\n",
       "    <tr>\n",
       "      <th>1005</th>\n",
       "      <td>1005</td>\n",
       "      <td>Norman</td>\n",
       "      <td>Munnis</td>\n",
       "      <td>Desktop Support Technician</td>\n",
       "      <td>nmunnis4@cargocollective.com</td>\n",
       "      <td>41.0</td>\n",
       "      <td>0</td>\n",
       "      <td>L</td>\n",
       "      <td>54961.71</td>\n",
       "      <td>PartTime</td>\n",
       "      <td>5.0</td>\n",
       "    </tr>\n",
       "  </tbody>\n",
       "</table>\n",
       "</div>"
      ],
      "text/plain": [
       "        id first_name last_name                   job_title  \\\n",
       "id                                                            \n",
       "1001  1001     Cobbie   Whinray           Account Executive   \n",
       "1005  1005     Norman    Munnis  Desktop Support Technician   \n",
       "\n",
       "                             email   age  num_children shirt_size  \\\n",
       "id                                                                  \n",
       "1001             cwhinray0@icq.com  63.0             1          M   \n",
       "1005  nmunnis4@cargocollective.com  41.0             0          L   \n",
       "\n",
       "      annual_salary  pay_type  satisfaction_score  \n",
       "id                                                 \n",
       "1001       31124.56  FullTime                 5.0  \n",
       "1005       54961.71  PartTime                 5.0  "
      ]
     },
     "execution_count": 65,
     "metadata": {},
     "output_type": "execute_result"
    }
   ],
   "source": [
    "myDFShort.loc[[1001, 1005]] # return specific people via the newly established id index"
   ]
  },
  {
   "cell_type": "markdown",
   "metadata": {},
   "source": [
    "In addition, using *loc* we can reference both rows and columns simultaneously:"
   ]
  },
  {
   "cell_type": "code",
   "execution_count": 66,
   "metadata": {},
   "outputs": [
    {
     "data": {
      "text/html": [
       "<div>\n",
       "<style scoped>\n",
       "    .dataframe tbody tr th:only-of-type {\n",
       "        vertical-align: middle;\n",
       "    }\n",
       "\n",
       "    .dataframe tbody tr th {\n",
       "        vertical-align: top;\n",
       "    }\n",
       "\n",
       "    .dataframe thead th {\n",
       "        text-align: right;\n",
       "    }\n",
       "</style>\n",
       "<table border=\"1\" class=\"dataframe\">\n",
       "  <thead>\n",
       "    <tr style=\"text-align: right;\">\n",
       "      <th></th>\n",
       "      <th>first_name</th>\n",
       "      <th>last_name</th>\n",
       "      <th>age</th>\n",
       "    </tr>\n",
       "    <tr>\n",
       "      <th>id</th>\n",
       "      <th></th>\n",
       "      <th></th>\n",
       "      <th></th>\n",
       "    </tr>\n",
       "  </thead>\n",
       "  <tbody>\n",
       "    <tr>\n",
       "      <th>1001</th>\n",
       "      <td>Cobbie</td>\n",
       "      <td>Whinray</td>\n",
       "      <td>63.0</td>\n",
       "    </tr>\n",
       "    <tr>\n",
       "      <th>1002</th>\n",
       "      <td>Milton</td>\n",
       "      <td>McPhaden</td>\n",
       "      <td>20.0</td>\n",
       "    </tr>\n",
       "    <tr>\n",
       "      <th>1003</th>\n",
       "      <td>Coralyn</td>\n",
       "      <td>Haselhurst</td>\n",
       "      <td>41.0</td>\n",
       "    </tr>\n",
       "    <tr>\n",
       "      <th>1004</th>\n",
       "      <td>Morten</td>\n",
       "      <td>Samples</td>\n",
       "      <td>43.0</td>\n",
       "    </tr>\n",
       "    <tr>\n",
       "      <th>1005</th>\n",
       "      <td>Norman</td>\n",
       "      <td>Munnis</td>\n",
       "      <td>41.0</td>\n",
       "    </tr>\n",
       "  </tbody>\n",
       "</table>\n",
       "</div>"
      ],
      "text/plain": [
       "     first_name   last_name   age\n",
       "id                               \n",
       "1001     Cobbie     Whinray  63.0\n",
       "1002     Milton    McPhaden  20.0\n",
       "1003    Coralyn  Haselhurst  41.0\n",
       "1004     Morten     Samples  43.0\n",
       "1005     Norman      Munnis  41.0"
      ]
     },
     "execution_count": 66,
     "metadata": {},
     "output_type": "execute_result"
    }
   ],
   "source": [
    "myDFShort.loc[:, ['first_name', 'last_name', 'age']] # return all rows and selected columns"
   ]
  },
  {
   "cell_type": "code",
   "execution_count": 67,
   "metadata": {},
   "outputs": [
    {
     "data": {
      "text/html": [
       "<div>\n",
       "<style scoped>\n",
       "    .dataframe tbody tr th:only-of-type {\n",
       "        vertical-align: middle;\n",
       "    }\n",
       "\n",
       "    .dataframe tbody tr th {\n",
       "        vertical-align: top;\n",
       "    }\n",
       "\n",
       "    .dataframe thead th {\n",
       "        text-align: right;\n",
       "    }\n",
       "</style>\n",
       "<table border=\"1\" class=\"dataframe\">\n",
       "  <thead>\n",
       "    <tr style=\"text-align: right;\">\n",
       "      <th></th>\n",
       "      <th>first_name</th>\n",
       "      <th>last_name</th>\n",
       "      <th>age</th>\n",
       "    </tr>\n",
       "    <tr>\n",
       "      <th>id</th>\n",
       "      <th></th>\n",
       "      <th></th>\n",
       "      <th></th>\n",
       "    </tr>\n",
       "  </thead>\n",
       "  <tbody>\n",
       "    <tr>\n",
       "      <th>1001</th>\n",
       "      <td>Cobbie</td>\n",
       "      <td>Whinray</td>\n",
       "      <td>63.0</td>\n",
       "    </tr>\n",
       "    <tr>\n",
       "      <th>1005</th>\n",
       "      <td>Norman</td>\n",
       "      <td>Munnis</td>\n",
       "      <td>41.0</td>\n",
       "    </tr>\n",
       "  </tbody>\n",
       "</table>\n",
       "</div>"
      ],
      "text/plain": [
       "     first_name last_name   age\n",
       "id                             \n",
       "1001     Cobbie   Whinray  63.0\n",
       "1005     Norman    Munnis  41.0"
      ]
     },
     "execution_count": 67,
     "metadata": {},
     "output_type": "execute_result"
    }
   ],
   "source": [
    "myDFShort.loc[[1001, 1005], ['first_name', 'last_name', 'age']] # return named index values and selected columns"
   ]
  },
  {
   "cell_type": "markdown",
   "metadata": {},
   "source": [
    "If desired, we could also reset the index and use *loc* with a mixture of `int` row index values based on a range and `str` columns labels:"
   ]
  },
  {
   "cell_type": "code",
   "execution_count": 68,
   "metadata": {},
   "outputs": [
    {
     "data": {
      "text/plain": [
       "RangeIndex(start=0, stop=5, step=1)"
      ]
     },
     "execution_count": 68,
     "metadata": {},
     "output_type": "execute_result"
    }
   ],
   "source": [
    "myDFShort.reset_index(inplace = True, drop = True) # reset the index and completely drop the existing id labels (since we kept them as a column earlier)\n",
    "myDFShort.index"
   ]
  },
  {
   "cell_type": "code",
   "execution_count": 69,
   "metadata": {},
   "outputs": [
    {
     "data": {
      "text/html": [
       "<div>\n",
       "<style scoped>\n",
       "    .dataframe tbody tr th:only-of-type {\n",
       "        vertical-align: middle;\n",
       "    }\n",
       "\n",
       "    .dataframe tbody tr th {\n",
       "        vertical-align: top;\n",
       "    }\n",
       "\n",
       "    .dataframe thead th {\n",
       "        text-align: right;\n",
       "    }\n",
       "</style>\n",
       "<table border=\"1\" class=\"dataframe\">\n",
       "  <thead>\n",
       "    <tr style=\"text-align: right;\">\n",
       "      <th></th>\n",
       "      <th>first_name</th>\n",
       "      <th>last_name</th>\n",
       "      <th>age</th>\n",
       "    </tr>\n",
       "  </thead>\n",
       "  <tbody>\n",
       "    <tr>\n",
       "      <th>2</th>\n",
       "      <td>Coralyn</td>\n",
       "      <td>Haselhurst</td>\n",
       "      <td>41.0</td>\n",
       "    </tr>\n",
       "    <tr>\n",
       "      <th>3</th>\n",
       "      <td>Morten</td>\n",
       "      <td>Samples</td>\n",
       "      <td>43.0</td>\n",
       "    </tr>\n",
       "    <tr>\n",
       "      <th>4</th>\n",
       "      <td>Norman</td>\n",
       "      <td>Munnis</td>\n",
       "      <td>41.0</td>\n",
       "    </tr>\n",
       "  </tbody>\n",
       "</table>\n",
       "</div>"
      ],
      "text/plain": [
       "  first_name   last_name   age\n",
       "2    Coralyn  Haselhurst  41.0\n",
       "3     Morten     Samples  43.0\n",
       "4     Norman      Munnis  41.0"
      ]
     },
     "execution_count": 69,
     "metadata": {},
     "output_type": "execute_result"
    }
   ],
   "source": [
    "myDFShort.loc[2:4, ['first_name', 'last_name', 'age']] # return rows 2"
   ]
  },
  {
   "cell_type": "markdown",
   "metadata": {},
   "source": [
    "Somewhat confusingly (and as shown above), it's important to note that for loc row indexing via slices, the range of values returned is **inclusive** unlike what's typical for lists when the values consist of integers. For `str` based index values, referencing via *loc* is less ambiguous (e.g., if we'd used `email` as our index via *set_index*, then we could pull up certain people via email using a list of `str` values such as `['cwhinray0@icq.com', 'nmunnis4@cargocollective.com']`, which would correspond to `id` column values `[1001, 1005]`, respectively).\n",
    "\n",
    "For positional slicing that works similar to lists, you must use the *iloc* method instead:"
   ]
  },
  {
   "cell_type": "code",
   "execution_count": 70,
   "metadata": {},
   "outputs": [
    {
     "data": {
      "text/html": [
       "<div>\n",
       "<style scoped>\n",
       "    .dataframe tbody tr th:only-of-type {\n",
       "        vertical-align: middle;\n",
       "    }\n",
       "\n",
       "    .dataframe tbody tr th {\n",
       "        vertical-align: top;\n",
       "    }\n",
       "\n",
       "    .dataframe thead th {\n",
       "        text-align: right;\n",
       "    }\n",
       "</style>\n",
       "<table border=\"1\" class=\"dataframe\">\n",
       "  <thead>\n",
       "    <tr style=\"text-align: right;\">\n",
       "      <th></th>\n",
       "      <th>first_name</th>\n",
       "      <th>last_name</th>\n",
       "    </tr>\n",
       "  </thead>\n",
       "  <tbody>\n",
       "    <tr>\n",
       "      <th>2</th>\n",
       "      <td>Coralyn</td>\n",
       "      <td>Haselhurst</td>\n",
       "    </tr>\n",
       "    <tr>\n",
       "      <th>3</th>\n",
       "      <td>Morten</td>\n",
       "      <td>Samples</td>\n",
       "    </tr>\n",
       "  </tbody>\n",
       "</table>\n",
       "</div>"
      ],
      "text/plain": [
       "  first_name   last_name\n",
       "2    Coralyn  Haselhurst\n",
       "3     Morten     Samples"
      ]
     },
     "execution_count": 70,
     "metadata": {},
     "output_type": "execute_result"
    }
   ],
   "source": [
    "myDFShort.iloc[2:4, 1:3] # return the 3rd and 4th rows and the 2nd and 3rd columns"
   ]
  },
  {
   "cell_type": "markdown",
   "metadata": {},
   "source": [
    "In general however, it's best to avoid referencing columns by position since column order is arbitrary and could easily change as part of an analysis.\n",
    "\n",
    "Finally, note that it's also possible to reference values using Boolean indexing, similar to NumPy arrays by using variations on the methods we've already covered -- a process often referred to as data *filtering* or *subsetting*. Consider the following examples:"
   ]
  },
  {
   "cell_type": "code",
   "execution_count": 71,
   "metadata": {},
   "outputs": [
    {
     "data": {
      "text/html": [
       "<div>\n",
       "<style scoped>\n",
       "    .dataframe tbody tr th:only-of-type {\n",
       "        vertical-align: middle;\n",
       "    }\n",
       "\n",
       "    .dataframe tbody tr th {\n",
       "        vertical-align: top;\n",
       "    }\n",
       "\n",
       "    .dataframe thead th {\n",
       "        text-align: right;\n",
       "    }\n",
       "</style>\n",
       "<table border=\"1\" class=\"dataframe\">\n",
       "  <thead>\n",
       "    <tr style=\"text-align: right;\">\n",
       "      <th></th>\n",
       "      <th>id</th>\n",
       "      <th>first_name</th>\n",
       "      <th>last_name</th>\n",
       "      <th>job_title</th>\n",
       "      <th>email</th>\n",
       "      <th>age</th>\n",
       "      <th>num_children</th>\n",
       "      <th>shirt_size</th>\n",
       "      <th>annual_salary</th>\n",
       "      <th>pay_type</th>\n",
       "      <th>satisfaction_score</th>\n",
       "    </tr>\n",
       "  </thead>\n",
       "  <tbody>\n",
       "    <tr>\n",
       "      <th>0</th>\n",
       "      <td>1001</td>\n",
       "      <td>Cobbie</td>\n",
       "      <td>Whinray</td>\n",
       "      <td>Account Executive</td>\n",
       "      <td>cwhinray0@icq.com</td>\n",
       "      <td>63.0</td>\n",
       "      <td>1</td>\n",
       "      <td>M</td>\n",
       "      <td>31124.56</td>\n",
       "      <td>FullTime</td>\n",
       "      <td>5.0</td>\n",
       "    </tr>\n",
       "    <tr>\n",
       "      <th>3</th>\n",
       "      <td>1004</td>\n",
       "      <td>Morten</td>\n",
       "      <td>Samples</td>\n",
       "      <td>Account Representative IV</td>\n",
       "      <td>msamples3@toplist.cz</td>\n",
       "      <td>43.0</td>\n",
       "      <td>1</td>\n",
       "      <td>S</td>\n",
       "      <td>51447.79</td>\n",
       "      <td>PartTime</td>\n",
       "      <td>5.0</td>\n",
       "    </tr>\n",
       "  </tbody>\n",
       "</table>\n",
       "</div>"
      ],
      "text/plain": [
       "     id first_name last_name                  job_title                 email  \\\n",
       "0  1001     Cobbie   Whinray          Account Executive     cwhinray0@icq.com   \n",
       "3  1004     Morten   Samples  Account Representative IV  msamples3@toplist.cz   \n",
       "\n",
       "    age  num_children shirt_size  annual_salary  pay_type  satisfaction_score  \n",
       "0  63.0             1          M       31124.56  FullTime                 5.0  \n",
       "3  43.0             1          S       51447.79  PartTime                 5.0  "
      ]
     },
     "execution_count": 71,
     "metadata": {},
     "output_type": "execute_result"
    }
   ],
   "source": [
    "myDFShort[myDFShort.age > 41] # select employees with an age > 41"
   ]
  },
  {
   "cell_type": "code",
   "execution_count": 72,
   "metadata": {},
   "outputs": [
    {
     "data": {
      "text/html": [
       "<div>\n",
       "<style scoped>\n",
       "    .dataframe tbody tr th:only-of-type {\n",
       "        vertical-align: middle;\n",
       "    }\n",
       "\n",
       "    .dataframe tbody tr th {\n",
       "        vertical-align: top;\n",
       "    }\n",
       "\n",
       "    .dataframe thead th {\n",
       "        text-align: right;\n",
       "    }\n",
       "</style>\n",
       "<table border=\"1\" class=\"dataframe\">\n",
       "  <thead>\n",
       "    <tr style=\"text-align: right;\">\n",
       "      <th></th>\n",
       "      <th>first_name</th>\n",
       "      <th>last_name</th>\n",
       "      <th>age</th>\n",
       "      <th>num_children</th>\n",
       "    </tr>\n",
       "  </thead>\n",
       "  <tbody>\n",
       "    <tr>\n",
       "      <th>0</th>\n",
       "      <td>Cobbie</td>\n",
       "      <td>Whinray</td>\n",
       "      <td>63.0</td>\n",
       "      <td>1</td>\n",
       "    </tr>\n",
       "    <tr>\n",
       "      <th>1</th>\n",
       "      <td>Milton</td>\n",
       "      <td>McPhaden</td>\n",
       "      <td>20.0</td>\n",
       "      <td>2</td>\n",
       "    </tr>\n",
       "    <tr>\n",
       "      <th>2</th>\n",
       "      <td>Coralyn</td>\n",
       "      <td>Haselhurst</td>\n",
       "      <td>41.0</td>\n",
       "      <td>2</td>\n",
       "    </tr>\n",
       "    <tr>\n",
       "      <th>3</th>\n",
       "      <td>Morten</td>\n",
       "      <td>Samples</td>\n",
       "      <td>43.0</td>\n",
       "      <td>1</td>\n",
       "    </tr>\n",
       "  </tbody>\n",
       "</table>\n",
       "</div>"
      ],
      "text/plain": [
       "  first_name   last_name   age  num_children\n",
       "0     Cobbie     Whinray  63.0             1\n",
       "1     Milton    McPhaden  20.0             2\n",
       "2    Coralyn  Haselhurst  41.0             2\n",
       "3     Morten     Samples  43.0             1"
      ]
     },
     "execution_count": 72,
     "metadata": {},
     "output_type": "execute_result"
    }
   ],
   "source": [
    "myDFShort.loc[myDFShort.num_children >= 1, ['first_name', 'last_name', 'age', 'num_children']] # select specific columns for employees with 1 or more children"
   ]
  },
  {
   "cell_type": "markdown",
   "metadata": {},
   "source": [
    "##### **Bitwise Operators and Querying**\n",
    "\n",
    "In addition to the prior examples involving Boolean indexing, note that it is possible to set up more complex filters using multiple conditions simultaneously using *logical statements*. Somewhat confusingly, rather than using Boolean operators (which were introduced in an earlier unit) to set these up, you must use *bitwise operator* equivalents:\n",
    "\n",
    "- **or**: `|`\n",
    "- **and**: `&`\n",
    "- **not**: `~`"
   ]
  },
  {
   "cell_type": "markdown",
   "metadata": {},
   "source": [
    "For instance, suppose you wanted to find employees who have at least one child **and** are older than 42. To do this, you could write the following code:"
   ]
  },
  {
   "cell_type": "code",
   "execution_count": 73,
   "metadata": {},
   "outputs": [
    {
     "data": {
      "text/html": [
       "<div>\n",
       "<style scoped>\n",
       "    .dataframe tbody tr th:only-of-type {\n",
       "        vertical-align: middle;\n",
       "    }\n",
       "\n",
       "    .dataframe tbody tr th {\n",
       "        vertical-align: top;\n",
       "    }\n",
       "\n",
       "    .dataframe thead th {\n",
       "        text-align: right;\n",
       "    }\n",
       "</style>\n",
       "<table border=\"1\" class=\"dataframe\">\n",
       "  <thead>\n",
       "    <tr style=\"text-align: right;\">\n",
       "      <th></th>\n",
       "      <th>first_name</th>\n",
       "      <th>last_name</th>\n",
       "      <th>age</th>\n",
       "      <th>num_children</th>\n",
       "      <th>satisfaction_score</th>\n",
       "    </tr>\n",
       "  </thead>\n",
       "  <tbody>\n",
       "    <tr>\n",
       "      <th>0</th>\n",
       "      <td>Cobbie</td>\n",
       "      <td>Whinray</td>\n",
       "      <td>63.0</td>\n",
       "      <td>1</td>\n",
       "      <td>5.0</td>\n",
       "    </tr>\n",
       "    <tr>\n",
       "      <th>3</th>\n",
       "      <td>Morten</td>\n",
       "      <td>Samples</td>\n",
       "      <td>43.0</td>\n",
       "      <td>1</td>\n",
       "      <td>5.0</td>\n",
       "    </tr>\n",
       "  </tbody>\n",
       "</table>\n",
       "</div>"
      ],
      "text/plain": [
       "  first_name last_name   age  num_children  satisfaction_score\n",
       "0     Cobbie   Whinray  63.0             1                 5.0\n",
       "3     Morten   Samples  43.0             1                 5.0"
      ]
     },
     "execution_count": 73,
     "metadata": {},
     "output_type": "execute_result"
    }
   ],
   "source": [
    "myDFShort.loc[(myDFShort.num_children >= 1) & (myDFShort.age > 42), ['first_name', 'last_name', 'age', 'num_children', 'satisfaction_score']]"
   ]
  },
  {
   "cell_type": "markdown",
   "metadata": {},
   "source": [
    "Alternatively, suppose you wanted to find employees who have an annual salary less than 20,000 **or** a satisfaction score not equal to five:"
   ]
  },
  {
   "cell_type": "code",
   "execution_count": 74,
   "metadata": {},
   "outputs": [
    {
     "data": {
      "text/html": [
       "<div>\n",
       "<style scoped>\n",
       "    .dataframe tbody tr th:only-of-type {\n",
       "        vertical-align: middle;\n",
       "    }\n",
       "\n",
       "    .dataframe tbody tr th {\n",
       "        vertical-align: top;\n",
       "    }\n",
       "\n",
       "    .dataframe thead th {\n",
       "        text-align: right;\n",
       "    }\n",
       "</style>\n",
       "<table border=\"1\" class=\"dataframe\">\n",
       "  <thead>\n",
       "    <tr style=\"text-align: right;\">\n",
       "      <th></th>\n",
       "      <th>first_name</th>\n",
       "      <th>last_name</th>\n",
       "      <th>age</th>\n",
       "      <th>num_children</th>\n",
       "      <th>satisfaction_score</th>\n",
       "    </tr>\n",
       "  </thead>\n",
       "  <tbody>\n",
       "    <tr>\n",
       "      <th>1</th>\n",
       "      <td>Milton</td>\n",
       "      <td>McPhaden</td>\n",
       "      <td>20.0</td>\n",
       "      <td>2</td>\n",
       "      <td>3.0</td>\n",
       "    </tr>\n",
       "    <tr>\n",
       "      <th>2</th>\n",
       "      <td>Coralyn</td>\n",
       "      <td>Haselhurst</td>\n",
       "      <td>41.0</td>\n",
       "      <td>2</td>\n",
       "      <td>4.0</td>\n",
       "    </tr>\n",
       "  </tbody>\n",
       "</table>\n",
       "</div>"
      ],
      "text/plain": [
       "  first_name   last_name   age  num_children  satisfaction_score\n",
       "1     Milton    McPhaden  20.0             2                 3.0\n",
       "2    Coralyn  Haselhurst  41.0             2                 4.0"
      ]
     },
     "execution_count": 74,
     "metadata": {},
     "output_type": "execute_result"
    }
   ],
   "source": [
    "myDFShort.loc[(myDFShort.annual_salary < 20000) | (myDFShort.satisfaction_score != 5), ['first_name', 'last_name', 'age', 'num_children', 'satisfaction_score']]"
   ]
  },
  {
   "cell_type": "markdown",
   "metadata": {},
   "source": [
    "The prior example could have been written using `~` to achieve the same result with a slightly different latter condition:"
   ]
  },
  {
   "cell_type": "code",
   "execution_count": 75,
   "metadata": {},
   "outputs": [
    {
     "data": {
      "text/html": [
       "<div>\n",
       "<style scoped>\n",
       "    .dataframe tbody tr th:only-of-type {\n",
       "        vertical-align: middle;\n",
       "    }\n",
       "\n",
       "    .dataframe tbody tr th {\n",
       "        vertical-align: top;\n",
       "    }\n",
       "\n",
       "    .dataframe thead th {\n",
       "        text-align: right;\n",
       "    }\n",
       "</style>\n",
       "<table border=\"1\" class=\"dataframe\">\n",
       "  <thead>\n",
       "    <tr style=\"text-align: right;\">\n",
       "      <th></th>\n",
       "      <th>first_name</th>\n",
       "      <th>last_name</th>\n",
       "      <th>age</th>\n",
       "      <th>num_children</th>\n",
       "      <th>satisfaction_score</th>\n",
       "    </tr>\n",
       "  </thead>\n",
       "  <tbody>\n",
       "    <tr>\n",
       "      <th>1</th>\n",
       "      <td>Milton</td>\n",
       "      <td>McPhaden</td>\n",
       "      <td>20.0</td>\n",
       "      <td>2</td>\n",
       "      <td>3.0</td>\n",
       "    </tr>\n",
       "    <tr>\n",
       "      <th>2</th>\n",
       "      <td>Coralyn</td>\n",
       "      <td>Haselhurst</td>\n",
       "      <td>41.0</td>\n",
       "      <td>2</td>\n",
       "      <td>4.0</td>\n",
       "    </tr>\n",
       "  </tbody>\n",
       "</table>\n",
       "</div>"
      ],
      "text/plain": [
       "  first_name   last_name   age  num_children  satisfaction_score\n",
       "1     Milton    McPhaden  20.0             2                 3.0\n",
       "2    Coralyn  Haselhurst  41.0             2                 4.0"
      ]
     },
     "execution_count": 75,
     "metadata": {},
     "output_type": "execute_result"
    }
   ],
   "source": [
    "myDFShort.loc[(myDFShort.annual_salary < 20000) | ~(myDFShort.satisfaction_score == 5), ['first_name', 'last_name', 'age', 'num_children', 'satisfaction_score']]"
   ]
  },
  {
   "cell_type": "markdown",
   "metadata": {},
   "source": [
    "Keep the bitwise versions of Boolean operators in mind, since attempting to use the latter will result in an error. For example:"
   ]
  },
  {
   "cell_type": "code",
   "execution_count": 76,
   "metadata": {},
   "outputs": [],
   "source": [
    "# this does not work with and in place of &:\n",
    "# myDFShort.loc[(myDFShort.num_children >= 1) and (myDFShort.age > 42), ['first_name', 'last_name', 'age', 'num_children', 'satisfaction_score']]"
   ]
  },
  {
   "cell_type": "markdown",
   "metadata": {},
   "source": [
    "Moreover, the syntax is particular, in that parantheses are also required for the call to work:"
   ]
  },
  {
   "cell_type": "code",
   "execution_count": 77,
   "metadata": {},
   "outputs": [],
   "source": [
    "# this does not work due to the lack of parentheses:\n",
    "# myDFShort.loc[myDFShort.num_children >= 1 & myDFShort.age > 42, ['first_name', 'last_name', 'age', 'num_children', 'satisfaction_score']]"
   ]
  },
  {
   "cell_type": "markdown",
   "metadata": {},
   "source": [
    "As an alternative, it is strongly recommended you use pandas' *query* method for more advanced queries since the syntax is simpler and more readable:"
   ]
  },
  {
   "cell_type": "code",
   "execution_count": 78,
   "metadata": {},
   "outputs": [
    {
     "data": {
      "text/html": [
       "<div>\n",
       "<style scoped>\n",
       "    .dataframe tbody tr th:only-of-type {\n",
       "        vertical-align: middle;\n",
       "    }\n",
       "\n",
       "    .dataframe tbody tr th {\n",
       "        vertical-align: top;\n",
       "    }\n",
       "\n",
       "    .dataframe thead th {\n",
       "        text-align: right;\n",
       "    }\n",
       "</style>\n",
       "<table border=\"1\" class=\"dataframe\">\n",
       "  <thead>\n",
       "    <tr style=\"text-align: right;\">\n",
       "      <th></th>\n",
       "      <th>first_name</th>\n",
       "      <th>last_name</th>\n",
       "      <th>age</th>\n",
       "      <th>num_children</th>\n",
       "      <th>satisfaction_score</th>\n",
       "    </tr>\n",
       "  </thead>\n",
       "  <tbody>\n",
       "    <tr>\n",
       "      <th>1</th>\n",
       "      <td>Milton</td>\n",
       "      <td>McPhaden</td>\n",
       "      <td>20.0</td>\n",
       "      <td>2</td>\n",
       "      <td>3.0</td>\n",
       "    </tr>\n",
       "    <tr>\n",
       "      <th>2</th>\n",
       "      <td>Coralyn</td>\n",
       "      <td>Haselhurst</td>\n",
       "      <td>41.0</td>\n",
       "      <td>2</td>\n",
       "      <td>4.0</td>\n",
       "    </tr>\n",
       "  </tbody>\n",
       "</table>\n",
       "</div>"
      ],
      "text/plain": [
       "  first_name   last_name   age  num_children  satisfaction_score\n",
       "1     Milton    McPhaden  20.0             2                 3.0\n",
       "2    Coralyn  Haselhurst  41.0             2                 4.0"
      ]
     },
     "execution_count": 78,
     "metadata": {},
     "output_type": "execute_result"
    }
   ],
   "source": [
    "myDFShort.query('annual_salary < 20000 | satisfaction_score != 5')[['first_name', 'last_name', 'age', 'num_children', 'satisfaction_score']]"
   ]
  },
  {
   "cell_type": "markdown",
   "metadata": {},
   "source": [
    "Finally, on the subject of bitiwse operators, note that there are a handful of additional operators that are less frequently used. These include:\n",
    "\n",
    "- **xor**: ^\n",
    "- **<<**: bitwise left shift\n",
    "- **>>**: bitwise right shift\n",
    "\n",
    "Use cases for these are generally more technical; for details, see the following [page](https://wiki.python.org/moin/BitwiseOperators) for a discussion."
   ]
  },
  {
   "cell_type": "markdown",
   "metadata": {},
   "source": [
    "##### **Updating DataFrame Elements**\n",
    "\n",
    "Similar to other data structures, updating elements involves first accessing them (e.g., via an index) and then assigning them new values. For instance, suppose we wanted to change the data for employees with a shirt size of L to M:"
   ]
  },
  {
   "cell_type": "code",
   "execution_count": 79,
   "metadata": {},
   "outputs": [
    {
     "data": {
      "text/html": [
       "<div>\n",
       "<style scoped>\n",
       "    .dataframe tbody tr th:only-of-type {\n",
       "        vertical-align: middle;\n",
       "    }\n",
       "\n",
       "    .dataframe tbody tr th {\n",
       "        vertical-align: top;\n",
       "    }\n",
       "\n",
       "    .dataframe thead th {\n",
       "        text-align: right;\n",
       "    }\n",
       "</style>\n",
       "<table border=\"1\" class=\"dataframe\">\n",
       "  <thead>\n",
       "    <tr style=\"text-align: right;\">\n",
       "      <th></th>\n",
       "      <th>id</th>\n",
       "      <th>first_name</th>\n",
       "      <th>last_name</th>\n",
       "      <th>email</th>\n",
       "      <th>shirt_size</th>\n",
       "    </tr>\n",
       "  </thead>\n",
       "  <tbody>\n",
       "    <tr>\n",
       "      <th>0</th>\n",
       "      <td>1001</td>\n",
       "      <td>Cobbie</td>\n",
       "      <td>Whinray</td>\n",
       "      <td>cwhinray0@icq.com</td>\n",
       "      <td>M</td>\n",
       "    </tr>\n",
       "    <tr>\n",
       "      <th>1</th>\n",
       "      <td>1002</td>\n",
       "      <td>Milton</td>\n",
       "      <td>McPhaden</td>\n",
       "      <td>mmcphaden1@marriott.com</td>\n",
       "      <td>L</td>\n",
       "    </tr>\n",
       "    <tr>\n",
       "      <th>2</th>\n",
       "      <td>1003</td>\n",
       "      <td>Coralyn</td>\n",
       "      <td>Haselhurst</td>\n",
       "      <td>chaselhurst2@icio.us</td>\n",
       "      <td>3XL</td>\n",
       "    </tr>\n",
       "    <tr>\n",
       "      <th>3</th>\n",
       "      <td>1004</td>\n",
       "      <td>Morten</td>\n",
       "      <td>Samples</td>\n",
       "      <td>msamples3@toplist.cz</td>\n",
       "      <td>S</td>\n",
       "    </tr>\n",
       "    <tr>\n",
       "      <th>4</th>\n",
       "      <td>1005</td>\n",
       "      <td>Norman</td>\n",
       "      <td>Munnis</td>\n",
       "      <td>nmunnis4@cargocollective.com</td>\n",
       "      <td>L</td>\n",
       "    </tr>\n",
       "  </tbody>\n",
       "</table>\n",
       "</div>"
      ],
      "text/plain": [
       "     id first_name   last_name                         email shirt_size\n",
       "0  1001     Cobbie     Whinray             cwhinray0@icq.com          M\n",
       "1  1002     Milton    McPhaden       mmcphaden1@marriott.com          L\n",
       "2  1003    Coralyn  Haselhurst          chaselhurst2@icio.us        3XL\n",
       "3  1004     Morten     Samples          msamples3@toplist.cz          S\n",
       "4  1005     Norman      Munnis  nmunnis4@cargocollective.com          L"
      ]
     },
     "execution_count": 79,
     "metadata": {},
     "output_type": "execute_result"
    }
   ],
   "source": [
    "myDFShort = myDF.head().copy() # see note below regarding the need for copy\n",
    "\n",
    "myDFShort[['id', 'first_name', 'last_name', 'email', 'shirt_size']]"
   ]
  },
  {
   "cell_type": "markdown",
   "metadata": {},
   "source": [
    "*Note:* the *copy* method is necessary in the code above to avoid a caveat with how pandas handles memory (see [here](https://pandas.pydata.org/pandas-docs/stable/user_guide/indexing.html#returning-a-view-versus-a-copy) for further details).\n",
    "\n",
    "To accomplish this, we simply need to filter the data to the relevant rows via an index using *loc* and then supply the new value(s):"
   ]
  },
  {
   "cell_type": "code",
   "execution_count": 80,
   "metadata": {},
   "outputs": [
    {
     "data": {
      "text/html": [
       "<div>\n",
       "<style scoped>\n",
       "    .dataframe tbody tr th:only-of-type {\n",
       "        vertical-align: middle;\n",
       "    }\n",
       "\n",
       "    .dataframe tbody tr th {\n",
       "        vertical-align: top;\n",
       "    }\n",
       "\n",
       "    .dataframe thead th {\n",
       "        text-align: right;\n",
       "    }\n",
       "</style>\n",
       "<table border=\"1\" class=\"dataframe\">\n",
       "  <thead>\n",
       "    <tr style=\"text-align: right;\">\n",
       "      <th></th>\n",
       "      <th>id</th>\n",
       "      <th>first_name</th>\n",
       "      <th>last_name</th>\n",
       "      <th>email</th>\n",
       "      <th>shirt_size</th>\n",
       "    </tr>\n",
       "  </thead>\n",
       "  <tbody>\n",
       "    <tr>\n",
       "      <th>0</th>\n",
       "      <td>1001</td>\n",
       "      <td>Cobbie</td>\n",
       "      <td>Whinray</td>\n",
       "      <td>cwhinray0@icq.com</td>\n",
       "      <td>M</td>\n",
       "    </tr>\n",
       "    <tr>\n",
       "      <th>1</th>\n",
       "      <td>1002</td>\n",
       "      <td>Milton</td>\n",
       "      <td>McPhaden</td>\n",
       "      <td>mmcphaden1@marriott.com</td>\n",
       "      <td>M</td>\n",
       "    </tr>\n",
       "    <tr>\n",
       "      <th>2</th>\n",
       "      <td>1003</td>\n",
       "      <td>Coralyn</td>\n",
       "      <td>Haselhurst</td>\n",
       "      <td>chaselhurst2@icio.us</td>\n",
       "      <td>3XL</td>\n",
       "    </tr>\n",
       "    <tr>\n",
       "      <th>3</th>\n",
       "      <td>1004</td>\n",
       "      <td>Morten</td>\n",
       "      <td>Samples</td>\n",
       "      <td>msamples3@toplist.cz</td>\n",
       "      <td>S</td>\n",
       "    </tr>\n",
       "    <tr>\n",
       "      <th>4</th>\n",
       "      <td>1005</td>\n",
       "      <td>Norman</td>\n",
       "      <td>Munnis</td>\n",
       "      <td>nmunnis4@cargocollective.com</td>\n",
       "      <td>M</td>\n",
       "    </tr>\n",
       "  </tbody>\n",
       "</table>\n",
       "</div>"
      ],
      "text/plain": [
       "     id first_name   last_name                         email shirt_size\n",
       "0  1001     Cobbie     Whinray             cwhinray0@icq.com          M\n",
       "1  1002     Milton    McPhaden       mmcphaden1@marriott.com          M\n",
       "2  1003    Coralyn  Haselhurst          chaselhurst2@icio.us        3XL\n",
       "3  1004     Morten     Samples          msamples3@toplist.cz          S\n",
       "4  1005     Norman      Munnis  nmunnis4@cargocollective.com          M"
      ]
     },
     "execution_count": 80,
     "metadata": {},
     "output_type": "execute_result"
    }
   ],
   "source": [
    "myDFShort.loc[myDFShort.shirt_size == 'L', 'shirt_size'] = 'M' # make the change\n",
    "myDFShort[['id', 'first_name', 'last_name', 'email', 'shirt_size']] # see the result"
   ]
  },
  {
   "cell_type": "markdown",
   "metadata": {},
   "source": [
    "##### **Adding DataFrame Elements**\n",
    "\n",
    "To add elements to a pandas DataFrame, we first need to decide the dimension we're adding to. In other words, are we adding new columns or new rows?\n",
    "\n",
    "In the case of adding a column, simply supply a name for the new column and conforming data (i.e., equal to the number of rows or broadcastable) in a sequence structure using the following approach:"
   ]
  },
  {
   "cell_type": "code",
   "execution_count": 81,
   "metadata": {},
   "outputs": [
    {
     "data": {
      "text/html": [
       "<div>\n",
       "<style scoped>\n",
       "    .dataframe tbody tr th:only-of-type {\n",
       "        vertical-align: middle;\n",
       "    }\n",
       "\n",
       "    .dataframe tbody tr th {\n",
       "        vertical-align: top;\n",
       "    }\n",
       "\n",
       "    .dataframe thead th {\n",
       "        text-align: right;\n",
       "    }\n",
       "</style>\n",
       "<table border=\"1\" class=\"dataframe\">\n",
       "  <thead>\n",
       "    <tr style=\"text-align: right;\">\n",
       "      <th></th>\n",
       "      <th>id</th>\n",
       "      <th>first_name</th>\n",
       "      <th>last_name</th>\n",
       "      <th>job_title</th>\n",
       "    </tr>\n",
       "  </thead>\n",
       "  <tbody>\n",
       "    <tr>\n",
       "      <th>0</th>\n",
       "      <td>1001</td>\n",
       "      <td>Cobbie</td>\n",
       "      <td>Whinray</td>\n",
       "      <td>Account Executive</td>\n",
       "    </tr>\n",
       "    <tr>\n",
       "      <th>1</th>\n",
       "      <td>1002</td>\n",
       "      <td>Milton</td>\n",
       "      <td>McPhaden</td>\n",
       "      <td>Recruiter</td>\n",
       "    </tr>\n",
       "    <tr>\n",
       "      <th>2</th>\n",
       "      <td>1003</td>\n",
       "      <td>Coralyn</td>\n",
       "      <td>Haselhurst</td>\n",
       "      <td>Account Coordinator</td>\n",
       "    </tr>\n",
       "    <tr>\n",
       "      <th>3</th>\n",
       "      <td>1004</td>\n",
       "      <td>Morten</td>\n",
       "      <td>Samples</td>\n",
       "      <td>Account Representative IV</td>\n",
       "    </tr>\n",
       "    <tr>\n",
       "      <th>4</th>\n",
       "      <td>1005</td>\n",
       "      <td>Norman</td>\n",
       "      <td>Munnis</td>\n",
       "      <td>Desktop Support Technician</td>\n",
       "    </tr>\n",
       "  </tbody>\n",
       "</table>\n",
       "</div>"
      ],
      "text/plain": [
       "     id first_name   last_name                   job_title\n",
       "0  1001     Cobbie     Whinray           Account Executive\n",
       "1  1002     Milton    McPhaden                   Recruiter\n",
       "2  1003    Coralyn  Haselhurst         Account Coordinator\n",
       "3  1004     Morten     Samples   Account Representative IV\n",
       "4  1005     Norman      Munnis  Desktop Support Technician"
      ]
     },
     "execution_count": 81,
     "metadata": {},
     "output_type": "execute_result"
    }
   ],
   "source": [
    "myDFSmaller = myDF.iloc[:5, :4].copy() # first we create a small subset of the data using the first 5 rows and 4 columns for this example\n",
    "\n",
    "myDFSmaller # see the data"
   ]
  },
  {
   "cell_type": "code",
   "execution_count": 82,
   "metadata": {},
   "outputs": [
    {
     "data": {
      "text/html": [
       "<div>\n",
       "<style scoped>\n",
       "    .dataframe tbody tr th:only-of-type {\n",
       "        vertical-align: middle;\n",
       "    }\n",
       "\n",
       "    .dataframe tbody tr th {\n",
       "        vertical-align: top;\n",
       "    }\n",
       "\n",
       "    .dataframe thead th {\n",
       "        text-align: right;\n",
       "    }\n",
       "</style>\n",
       "<table border=\"1\" class=\"dataframe\">\n",
       "  <thead>\n",
       "    <tr style=\"text-align: right;\">\n",
       "      <th></th>\n",
       "      <th>id</th>\n",
       "      <th>first_name</th>\n",
       "      <th>last_name</th>\n",
       "      <th>job_title</th>\n",
       "      <th>tenure</th>\n",
       "    </tr>\n",
       "  </thead>\n",
       "  <tbody>\n",
       "    <tr>\n",
       "      <th>0</th>\n",
       "      <td>1001</td>\n",
       "      <td>Cobbie</td>\n",
       "      <td>Whinray</td>\n",
       "      <td>Account Executive</td>\n",
       "      <td>0.0</td>\n",
       "    </tr>\n",
       "    <tr>\n",
       "      <th>1</th>\n",
       "      <td>1002</td>\n",
       "      <td>Milton</td>\n",
       "      <td>McPhaden</td>\n",
       "      <td>Recruiter</td>\n",
       "      <td>2.5</td>\n",
       "    </tr>\n",
       "    <tr>\n",
       "      <th>2</th>\n",
       "      <td>1003</td>\n",
       "      <td>Coralyn</td>\n",
       "      <td>Haselhurst</td>\n",
       "      <td>Account Coordinator</td>\n",
       "      <td>NaN</td>\n",
       "    </tr>\n",
       "    <tr>\n",
       "      <th>3</th>\n",
       "      <td>1004</td>\n",
       "      <td>Morten</td>\n",
       "      <td>Samples</td>\n",
       "      <td>Account Representative IV</td>\n",
       "      <td>5.5</td>\n",
       "    </tr>\n",
       "    <tr>\n",
       "      <th>4</th>\n",
       "      <td>1005</td>\n",
       "      <td>Norman</td>\n",
       "      <td>Munnis</td>\n",
       "      <td>Desktop Support Technician</td>\n",
       "      <td>2.0</td>\n",
       "    </tr>\n",
       "  </tbody>\n",
       "</table>\n",
       "</div>"
      ],
      "text/plain": [
       "     id first_name   last_name                   job_title  tenure\n",
       "0  1001     Cobbie     Whinray           Account Executive     0.0\n",
       "1  1002     Milton    McPhaden                   Recruiter     2.5\n",
       "2  1003    Coralyn  Haselhurst         Account Coordinator     NaN\n",
       "3  1004     Morten     Samples   Account Representative IV     5.5\n",
       "4  1005     Norman      Munnis  Desktop Support Technician     2.0"
      ]
     },
     "execution_count": 82,
     "metadata": {},
     "output_type": "execute_result"
    }
   ],
   "source": [
    "myDFSmaller['tenure'] = [0, 2.5, np.NaN, 5.5, 2] # 5 new values, including a missing value\n",
    "\n",
    "myDFSmaller # see the result"
   ]
  },
  {
   "cell_type": "markdown",
   "metadata": {},
   "source": [
    "Alternatively, we can use the the *assign* method to add one or more columns. To see this in action, let's first reset the data:"
   ]
  },
  {
   "cell_type": "code",
   "execution_count": 83,
   "metadata": {},
   "outputs": [
    {
     "data": {
      "text/html": [
       "<div>\n",
       "<style scoped>\n",
       "    .dataframe tbody tr th:only-of-type {\n",
       "        vertical-align: middle;\n",
       "    }\n",
       "\n",
       "    .dataframe tbody tr th {\n",
       "        vertical-align: top;\n",
       "    }\n",
       "\n",
       "    .dataframe thead th {\n",
       "        text-align: right;\n",
       "    }\n",
       "</style>\n",
       "<table border=\"1\" class=\"dataframe\">\n",
       "  <thead>\n",
       "    <tr style=\"text-align: right;\">\n",
       "      <th></th>\n",
       "      <th>id</th>\n",
       "      <th>first_name</th>\n",
       "      <th>last_name</th>\n",
       "      <th>job_title</th>\n",
       "    </tr>\n",
       "  </thead>\n",
       "  <tbody>\n",
       "    <tr>\n",
       "      <th>0</th>\n",
       "      <td>1001</td>\n",
       "      <td>Cobbie</td>\n",
       "      <td>Whinray</td>\n",
       "      <td>Account Executive</td>\n",
       "    </tr>\n",
       "    <tr>\n",
       "      <th>1</th>\n",
       "      <td>1002</td>\n",
       "      <td>Milton</td>\n",
       "      <td>McPhaden</td>\n",
       "      <td>Recruiter</td>\n",
       "    </tr>\n",
       "    <tr>\n",
       "      <th>2</th>\n",
       "      <td>1003</td>\n",
       "      <td>Coralyn</td>\n",
       "      <td>Haselhurst</td>\n",
       "      <td>Account Coordinator</td>\n",
       "    </tr>\n",
       "    <tr>\n",
       "      <th>3</th>\n",
       "      <td>1004</td>\n",
       "      <td>Morten</td>\n",
       "      <td>Samples</td>\n",
       "      <td>Account Representative IV</td>\n",
       "    </tr>\n",
       "    <tr>\n",
       "      <th>4</th>\n",
       "      <td>1005</td>\n",
       "      <td>Norman</td>\n",
       "      <td>Munnis</td>\n",
       "      <td>Desktop Support Technician</td>\n",
       "    </tr>\n",
       "  </tbody>\n",
       "</table>\n",
       "</div>"
      ],
      "text/plain": [
       "     id first_name   last_name                   job_title\n",
       "0  1001     Cobbie     Whinray           Account Executive\n",
       "1  1002     Milton    McPhaden                   Recruiter\n",
       "2  1003    Coralyn  Haselhurst         Account Coordinator\n",
       "3  1004     Morten     Samples   Account Representative IV\n",
       "4  1005     Norman      Munnis  Desktop Support Technician"
      ]
     },
     "execution_count": 83,
     "metadata": {},
     "output_type": "execute_result"
    }
   ],
   "source": [
    "myDFSmaller = myDF.iloc[:5, :4].copy()\n",
    "\n",
    "myDFSmaller # see the data"
   ]
  },
  {
   "cell_type": "markdown",
   "metadata": {},
   "source": [
    "To add a single column such as tenure, we use the following syntax:"
   ]
  },
  {
   "cell_type": "code",
   "execution_count": 84,
   "metadata": {},
   "outputs": [
    {
     "data": {
      "text/html": [
       "<div>\n",
       "<style scoped>\n",
       "    .dataframe tbody tr th:only-of-type {\n",
       "        vertical-align: middle;\n",
       "    }\n",
       "\n",
       "    .dataframe tbody tr th {\n",
       "        vertical-align: top;\n",
       "    }\n",
       "\n",
       "    .dataframe thead th {\n",
       "        text-align: right;\n",
       "    }\n",
       "</style>\n",
       "<table border=\"1\" class=\"dataframe\">\n",
       "  <thead>\n",
       "    <tr style=\"text-align: right;\">\n",
       "      <th></th>\n",
       "      <th>id</th>\n",
       "      <th>first_name</th>\n",
       "      <th>last_name</th>\n",
       "      <th>job_title</th>\n",
       "      <th>tenure</th>\n",
       "      <th>age</th>\n",
       "    </tr>\n",
       "  </thead>\n",
       "  <tbody>\n",
       "    <tr>\n",
       "      <th>0</th>\n",
       "      <td>1001</td>\n",
       "      <td>Cobbie</td>\n",
       "      <td>Whinray</td>\n",
       "      <td>Account Executive</td>\n",
       "      <td>0.0</td>\n",
       "      <td>33</td>\n",
       "    </tr>\n",
       "    <tr>\n",
       "      <th>1</th>\n",
       "      <td>1002</td>\n",
       "      <td>Milton</td>\n",
       "      <td>McPhaden</td>\n",
       "      <td>Recruiter</td>\n",
       "      <td>2.5</td>\n",
       "      <td>21</td>\n",
       "    </tr>\n",
       "    <tr>\n",
       "      <th>2</th>\n",
       "      <td>1003</td>\n",
       "      <td>Coralyn</td>\n",
       "      <td>Haselhurst</td>\n",
       "      <td>Account Coordinator</td>\n",
       "      <td>NaN</td>\n",
       "      <td>45</td>\n",
       "    </tr>\n",
       "    <tr>\n",
       "      <th>3</th>\n",
       "      <td>1004</td>\n",
       "      <td>Morten</td>\n",
       "      <td>Samples</td>\n",
       "      <td>Account Representative IV</td>\n",
       "      <td>5.5</td>\n",
       "      <td>36</td>\n",
       "    </tr>\n",
       "    <tr>\n",
       "      <th>4</th>\n",
       "      <td>1005</td>\n",
       "      <td>Norman</td>\n",
       "      <td>Munnis</td>\n",
       "      <td>Desktop Support Technician</td>\n",
       "      <td>2.0</td>\n",
       "      <td>58</td>\n",
       "    </tr>\n",
       "  </tbody>\n",
       "</table>\n",
       "</div>"
      ],
      "text/plain": [
       "     id first_name   last_name                   job_title  tenure  age\n",
       "0  1001     Cobbie     Whinray           Account Executive     0.0   33\n",
       "1  1002     Milton    McPhaden                   Recruiter     2.5   21\n",
       "2  1003    Coralyn  Haselhurst         Account Coordinator     NaN   45\n",
       "3  1004     Morten     Samples   Account Representative IV     5.5   36\n",
       "4  1005     Norman      Munnis  Desktop Support Technician     2.0   58"
      ]
     },
     "execution_count": 84,
     "metadata": {},
     "output_type": "execute_result"
    }
   ],
   "source": [
    "myDFSmaller = myDFSmaller.assign(tenure = [0, 2.5, np.NaN, 5.5, 2], \n",
    "                                 age = [33, 21, 45, 36, 58])\n",
    "\n",
    "myDFSmaller # see the result"
   ]
  },
  {
   "cell_type": "markdown",
   "metadata": {},
   "source": [
    "In the case of adding row(s), we can use the *append* method if you are combining two DataFrames. For this example, first we create two example data sets using the head and tail method:"
   ]
  },
  {
   "cell_type": "code",
   "execution_count": 85,
   "metadata": {},
   "outputs": [
    {
     "data": {
      "text/html": [
       "<div>\n",
       "<style scoped>\n",
       "    .dataframe tbody tr th:only-of-type {\n",
       "        vertical-align: middle;\n",
       "    }\n",
       "\n",
       "    .dataframe tbody tr th {\n",
       "        vertical-align: top;\n",
       "    }\n",
       "\n",
       "    .dataframe thead th {\n",
       "        text-align: right;\n",
       "    }\n",
       "</style>\n",
       "<table border=\"1\" class=\"dataframe\">\n",
       "  <thead>\n",
       "    <tr style=\"text-align: right;\">\n",
       "      <th></th>\n",
       "      <th>id</th>\n",
       "      <th>first_name</th>\n",
       "      <th>last_name</th>\n",
       "      <th>job_title</th>\n",
       "    </tr>\n",
       "  </thead>\n",
       "  <tbody>\n",
       "    <tr>\n",
       "      <th>0</th>\n",
       "      <td>1001</td>\n",
       "      <td>Cobbie</td>\n",
       "      <td>Whinray</td>\n",
       "      <td>Account Executive</td>\n",
       "    </tr>\n",
       "    <tr>\n",
       "      <th>1</th>\n",
       "      <td>1002</td>\n",
       "      <td>Milton</td>\n",
       "      <td>McPhaden</td>\n",
       "      <td>Recruiter</td>\n",
       "    </tr>\n",
       "    <tr>\n",
       "      <th>2</th>\n",
       "      <td>1003</td>\n",
       "      <td>Coralyn</td>\n",
       "      <td>Haselhurst</td>\n",
       "      <td>Account Coordinator</td>\n",
       "    </tr>\n",
       "  </tbody>\n",
       "</table>\n",
       "</div>"
      ],
      "text/plain": [
       "     id first_name   last_name            job_title\n",
       "0  1001     Cobbie     Whinray    Account Executive\n",
       "1  1002     Milton    McPhaden            Recruiter\n",
       "2  1003    Coralyn  Haselhurst  Account Coordinator"
      ]
     },
     "metadata": {},
     "output_type": "display_data"
    },
    {
     "data": {
      "text/html": [
       "<div>\n",
       "<style scoped>\n",
       "    .dataframe tbody tr th:only-of-type {\n",
       "        vertical-align: middle;\n",
       "    }\n",
       "\n",
       "    .dataframe tbody tr th {\n",
       "        vertical-align: top;\n",
       "    }\n",
       "\n",
       "    .dataframe thead th {\n",
       "        text-align: right;\n",
       "    }\n",
       "</style>\n",
       "<table border=\"1\" class=\"dataframe\">\n",
       "  <thead>\n",
       "    <tr style=\"text-align: right;\">\n",
       "      <th></th>\n",
       "      <th>id</th>\n",
       "      <th>first_name</th>\n",
       "      <th>last_name</th>\n",
       "      <th>job_title</th>\n",
       "    </tr>\n",
       "  </thead>\n",
       "  <tbody>\n",
       "    <tr>\n",
       "      <th>47</th>\n",
       "      <td>1048</td>\n",
       "      <td>Timmie</td>\n",
       "      <td>Roffey</td>\n",
       "      <td>Programmer I</td>\n",
       "    </tr>\n",
       "    <tr>\n",
       "      <th>48</th>\n",
       "      <td>1049</td>\n",
       "      <td>Shane</td>\n",
       "      <td>Lehon</td>\n",
       "      <td>Software Engineer IV</td>\n",
       "    </tr>\n",
       "    <tr>\n",
       "      <th>49</th>\n",
       "      <td>1050</td>\n",
       "      <td>Bert</td>\n",
       "      <td>Feasley</td>\n",
       "      <td>Nurse Practicioner</td>\n",
       "    </tr>\n",
       "  </tbody>\n",
       "</table>\n",
       "</div>"
      ],
      "text/plain": [
       "      id first_name last_name             job_title\n",
       "47  1048     Timmie    Roffey          Programmer I\n",
       "48  1049      Shane     Lehon  Software Engineer IV\n",
       "49  1050       Bert   Feasley    Nurse Practicioner"
      ]
     },
     "metadata": {},
     "output_type": "display_data"
    }
   ],
   "source": [
    "myDFSmallerA = myDF.head(3).iloc[:, :4].copy()\n",
    "myDFSmallerB = myDF.tail(3).iloc[:, :4].copy()\n",
    "\n",
    "display(myDFSmallerA, myDFSmallerB)"
   ]
  },
  {
   "cell_type": "markdown",
   "metadata": {},
   "source": [
    "Next, we can append the second DataFrame to the first using *append*:"
   ]
  },
  {
   "cell_type": "code",
   "execution_count": 86,
   "metadata": {},
   "outputs": [
    {
     "data": {
      "text/html": [
       "<div>\n",
       "<style scoped>\n",
       "    .dataframe tbody tr th:only-of-type {\n",
       "        vertical-align: middle;\n",
       "    }\n",
       "\n",
       "    .dataframe tbody tr th {\n",
       "        vertical-align: top;\n",
       "    }\n",
       "\n",
       "    .dataframe thead th {\n",
       "        text-align: right;\n",
       "    }\n",
       "</style>\n",
       "<table border=\"1\" class=\"dataframe\">\n",
       "  <thead>\n",
       "    <tr style=\"text-align: right;\">\n",
       "      <th></th>\n",
       "      <th>id</th>\n",
       "      <th>first_name</th>\n",
       "      <th>last_name</th>\n",
       "      <th>job_title</th>\n",
       "    </tr>\n",
       "  </thead>\n",
       "  <tbody>\n",
       "    <tr>\n",
       "      <th>0</th>\n",
       "      <td>1001</td>\n",
       "      <td>Cobbie</td>\n",
       "      <td>Whinray</td>\n",
       "      <td>Account Executive</td>\n",
       "    </tr>\n",
       "    <tr>\n",
       "      <th>1</th>\n",
       "      <td>1002</td>\n",
       "      <td>Milton</td>\n",
       "      <td>McPhaden</td>\n",
       "      <td>Recruiter</td>\n",
       "    </tr>\n",
       "    <tr>\n",
       "      <th>2</th>\n",
       "      <td>1003</td>\n",
       "      <td>Coralyn</td>\n",
       "      <td>Haselhurst</td>\n",
       "      <td>Account Coordinator</td>\n",
       "    </tr>\n",
       "    <tr>\n",
       "      <th>47</th>\n",
       "      <td>1048</td>\n",
       "      <td>Timmie</td>\n",
       "      <td>Roffey</td>\n",
       "      <td>Programmer I</td>\n",
       "    </tr>\n",
       "    <tr>\n",
       "      <th>48</th>\n",
       "      <td>1049</td>\n",
       "      <td>Shane</td>\n",
       "      <td>Lehon</td>\n",
       "      <td>Software Engineer IV</td>\n",
       "    </tr>\n",
       "    <tr>\n",
       "      <th>49</th>\n",
       "      <td>1050</td>\n",
       "      <td>Bert</td>\n",
       "      <td>Feasley</td>\n",
       "      <td>Nurse Practicioner</td>\n",
       "    </tr>\n",
       "  </tbody>\n",
       "</table>\n",
       "</div>"
      ],
      "text/plain": [
       "      id first_name   last_name             job_title\n",
       "0   1001     Cobbie     Whinray     Account Executive\n",
       "1   1002     Milton    McPhaden             Recruiter\n",
       "2   1003    Coralyn  Haselhurst   Account Coordinator\n",
       "47  1048     Timmie      Roffey          Programmer I\n",
       "48  1049      Shane       Lehon  Software Engineer IV\n",
       "49  1050       Bert     Feasley    Nurse Practicioner"
      ]
     },
     "execution_count": 86,
     "metadata": {},
     "output_type": "execute_result"
    }
   ],
   "source": [
    "myDFSmallerA.append(myDFSmallerB)"
   ]
  },
  {
   "cell_type": "markdown",
   "metadata": {},
   "source": [
    "To ignore the index, use the relevant argument:"
   ]
  },
  {
   "cell_type": "code",
   "execution_count": 87,
   "metadata": {},
   "outputs": [
    {
     "data": {
      "text/html": [
       "<div>\n",
       "<style scoped>\n",
       "    .dataframe tbody tr th:only-of-type {\n",
       "        vertical-align: middle;\n",
       "    }\n",
       "\n",
       "    .dataframe tbody tr th {\n",
       "        vertical-align: top;\n",
       "    }\n",
       "\n",
       "    .dataframe thead th {\n",
       "        text-align: right;\n",
       "    }\n",
       "</style>\n",
       "<table border=\"1\" class=\"dataframe\">\n",
       "  <thead>\n",
       "    <tr style=\"text-align: right;\">\n",
       "      <th></th>\n",
       "      <th>id</th>\n",
       "      <th>first_name</th>\n",
       "      <th>last_name</th>\n",
       "      <th>job_title</th>\n",
       "    </tr>\n",
       "  </thead>\n",
       "  <tbody>\n",
       "    <tr>\n",
       "      <th>0</th>\n",
       "      <td>1001</td>\n",
       "      <td>Cobbie</td>\n",
       "      <td>Whinray</td>\n",
       "      <td>Account Executive</td>\n",
       "    </tr>\n",
       "    <tr>\n",
       "      <th>1</th>\n",
       "      <td>1002</td>\n",
       "      <td>Milton</td>\n",
       "      <td>McPhaden</td>\n",
       "      <td>Recruiter</td>\n",
       "    </tr>\n",
       "    <tr>\n",
       "      <th>2</th>\n",
       "      <td>1003</td>\n",
       "      <td>Coralyn</td>\n",
       "      <td>Haselhurst</td>\n",
       "      <td>Account Coordinator</td>\n",
       "    </tr>\n",
       "    <tr>\n",
       "      <th>3</th>\n",
       "      <td>1048</td>\n",
       "      <td>Timmie</td>\n",
       "      <td>Roffey</td>\n",
       "      <td>Programmer I</td>\n",
       "    </tr>\n",
       "    <tr>\n",
       "      <th>4</th>\n",
       "      <td>1049</td>\n",
       "      <td>Shane</td>\n",
       "      <td>Lehon</td>\n",
       "      <td>Software Engineer IV</td>\n",
       "    </tr>\n",
       "    <tr>\n",
       "      <th>5</th>\n",
       "      <td>1050</td>\n",
       "      <td>Bert</td>\n",
       "      <td>Feasley</td>\n",
       "      <td>Nurse Practicioner</td>\n",
       "    </tr>\n",
       "  </tbody>\n",
       "</table>\n",
       "</div>"
      ],
      "text/plain": [
       "     id first_name   last_name             job_title\n",
       "0  1001     Cobbie     Whinray     Account Executive\n",
       "1  1002     Milton    McPhaden             Recruiter\n",
       "2  1003    Coralyn  Haselhurst   Account Coordinator\n",
       "3  1048     Timmie      Roffey          Programmer I\n",
       "4  1049      Shane       Lehon  Software Engineer IV\n",
       "5  1050       Bert     Feasley    Nurse Practicioner"
      ]
     },
     "execution_count": 87,
     "metadata": {},
     "output_type": "execute_result"
    }
   ],
   "source": [
    "myDFSmallerA.append(myDFSmallerB, ignore_index = True)"
   ]
  },
  {
   "cell_type": "markdown",
   "metadata": {},
   "source": [
    "Alternatively, you could also have reset the index using *reset_index* after stacking the data.\n",
    "\n",
    "Moreover, to combine more than two DataFrames, you can also use the more general *concat* method:"
   ]
  },
  {
   "cell_type": "code",
   "execution_count": 88,
   "metadata": {},
   "outputs": [
    {
     "data": {
      "text/html": [
       "<div>\n",
       "<style scoped>\n",
       "    .dataframe tbody tr th:only-of-type {\n",
       "        vertical-align: middle;\n",
       "    }\n",
       "\n",
       "    .dataframe tbody tr th {\n",
       "        vertical-align: top;\n",
       "    }\n",
       "\n",
       "    .dataframe thead th {\n",
       "        text-align: right;\n",
       "    }\n",
       "</style>\n",
       "<table border=\"1\" class=\"dataframe\">\n",
       "  <thead>\n",
       "    <tr style=\"text-align: right;\">\n",
       "      <th></th>\n",
       "      <th>id</th>\n",
       "      <th>first_name</th>\n",
       "      <th>last_name</th>\n",
       "      <th>job_title</th>\n",
       "    </tr>\n",
       "  </thead>\n",
       "  <tbody>\n",
       "    <tr>\n",
       "      <th>0</th>\n",
       "      <td>1001</td>\n",
       "      <td>Cobbie</td>\n",
       "      <td>Whinray</td>\n",
       "      <td>Account Executive</td>\n",
       "    </tr>\n",
       "    <tr>\n",
       "      <th>1</th>\n",
       "      <td>1002</td>\n",
       "      <td>Milton</td>\n",
       "      <td>McPhaden</td>\n",
       "      <td>Recruiter</td>\n",
       "    </tr>\n",
       "  </tbody>\n",
       "</table>\n",
       "</div>"
      ],
      "text/plain": [
       "     id first_name last_name          job_title\n",
       "0  1001     Cobbie   Whinray  Account Executive\n",
       "1  1002     Milton  McPhaden          Recruiter"
      ]
     },
     "metadata": {},
     "output_type": "display_data"
    },
    {
     "data": {
      "text/html": [
       "<div>\n",
       "<style scoped>\n",
       "    .dataframe tbody tr th:only-of-type {\n",
       "        vertical-align: middle;\n",
       "    }\n",
       "\n",
       "    .dataframe tbody tr th {\n",
       "        vertical-align: top;\n",
       "    }\n",
       "\n",
       "    .dataframe thead th {\n",
       "        text-align: right;\n",
       "    }\n",
       "</style>\n",
       "<table border=\"1\" class=\"dataframe\">\n",
       "  <thead>\n",
       "    <tr style=\"text-align: right;\">\n",
       "      <th></th>\n",
       "      <th>id</th>\n",
       "      <th>first_name</th>\n",
       "      <th>last_name</th>\n",
       "      <th>job_title</th>\n",
       "    </tr>\n",
       "  </thead>\n",
       "  <tbody>\n",
       "    <tr>\n",
       "      <th>10</th>\n",
       "      <td>1011</td>\n",
       "      <td>Hobard</td>\n",
       "      <td>Seyers</td>\n",
       "      <td>Executive Secretary</td>\n",
       "    </tr>\n",
       "    <tr>\n",
       "      <th>11</th>\n",
       "      <td>1012</td>\n",
       "      <td>Roselle</td>\n",
       "      <td>Rideout</td>\n",
       "      <td>Paralegal</td>\n",
       "    </tr>\n",
       "  </tbody>\n",
       "</table>\n",
       "</div>"
      ],
      "text/plain": [
       "      id first_name last_name            job_title\n",
       "10  1011     Hobard    Seyers  Executive Secretary\n",
       "11  1012    Roselle   Rideout            Paralegal"
      ]
     },
     "metadata": {},
     "output_type": "display_data"
    },
    {
     "data": {
      "text/html": [
       "<div>\n",
       "<style scoped>\n",
       "    .dataframe tbody tr th:only-of-type {\n",
       "        vertical-align: middle;\n",
       "    }\n",
       "\n",
       "    .dataframe tbody tr th {\n",
       "        vertical-align: top;\n",
       "    }\n",
       "\n",
       "    .dataframe thead th {\n",
       "        text-align: right;\n",
       "    }\n",
       "</style>\n",
       "<table border=\"1\" class=\"dataframe\">\n",
       "  <thead>\n",
       "    <tr style=\"text-align: right;\">\n",
       "      <th></th>\n",
       "      <th>id</th>\n",
       "      <th>first_name</th>\n",
       "      <th>last_name</th>\n",
       "      <th>job_title</th>\n",
       "    </tr>\n",
       "  </thead>\n",
       "  <tbody>\n",
       "    <tr>\n",
       "      <th>48</th>\n",
       "      <td>1049</td>\n",
       "      <td>Shane</td>\n",
       "      <td>Lehon</td>\n",
       "      <td>Software Engineer IV</td>\n",
       "    </tr>\n",
       "    <tr>\n",
       "      <th>49</th>\n",
       "      <td>1050</td>\n",
       "      <td>Bert</td>\n",
       "      <td>Feasley</td>\n",
       "      <td>Nurse Practicioner</td>\n",
       "    </tr>\n",
       "  </tbody>\n",
       "</table>\n",
       "</div>"
      ],
      "text/plain": [
       "      id first_name last_name             job_title\n",
       "48  1049      Shane     Lehon  Software Engineer IV\n",
       "49  1050       Bert   Feasley    Nurse Practicioner"
      ]
     },
     "metadata": {},
     "output_type": "display_data"
    }
   ],
   "source": [
    "myDF2RowsA = myDF.iloc[:2, :4].copy()\n",
    "myDF2RowsB = myDF.iloc[10:12, :4].copy()\n",
    "myDF2RowsC = myDF.iloc[-2:, :4].copy()\n",
    "\n",
    "display(myDF2RowsA, myDF2RowsB, myDF2RowsC)"
   ]
  },
  {
   "cell_type": "code",
   "execution_count": 89,
   "metadata": {},
   "outputs": [
    {
     "data": {
      "text/html": [
       "<div>\n",
       "<style scoped>\n",
       "    .dataframe tbody tr th:only-of-type {\n",
       "        vertical-align: middle;\n",
       "    }\n",
       "\n",
       "    .dataframe tbody tr th {\n",
       "        vertical-align: top;\n",
       "    }\n",
       "\n",
       "    .dataframe thead th {\n",
       "        text-align: right;\n",
       "    }\n",
       "</style>\n",
       "<table border=\"1\" class=\"dataframe\">\n",
       "  <thead>\n",
       "    <tr style=\"text-align: right;\">\n",
       "      <th></th>\n",
       "      <th>id</th>\n",
       "      <th>first_name</th>\n",
       "      <th>last_name</th>\n",
       "      <th>job_title</th>\n",
       "    </tr>\n",
       "  </thead>\n",
       "  <tbody>\n",
       "    <tr>\n",
       "      <th>0</th>\n",
       "      <td>1001</td>\n",
       "      <td>Cobbie</td>\n",
       "      <td>Whinray</td>\n",
       "      <td>Account Executive</td>\n",
       "    </tr>\n",
       "    <tr>\n",
       "      <th>1</th>\n",
       "      <td>1002</td>\n",
       "      <td>Milton</td>\n",
       "      <td>McPhaden</td>\n",
       "      <td>Recruiter</td>\n",
       "    </tr>\n",
       "    <tr>\n",
       "      <th>10</th>\n",
       "      <td>1011</td>\n",
       "      <td>Hobard</td>\n",
       "      <td>Seyers</td>\n",
       "      <td>Executive Secretary</td>\n",
       "    </tr>\n",
       "    <tr>\n",
       "      <th>11</th>\n",
       "      <td>1012</td>\n",
       "      <td>Roselle</td>\n",
       "      <td>Rideout</td>\n",
       "      <td>Paralegal</td>\n",
       "    </tr>\n",
       "    <tr>\n",
       "      <th>48</th>\n",
       "      <td>1049</td>\n",
       "      <td>Shane</td>\n",
       "      <td>Lehon</td>\n",
       "      <td>Software Engineer IV</td>\n",
       "    </tr>\n",
       "    <tr>\n",
       "      <th>49</th>\n",
       "      <td>1050</td>\n",
       "      <td>Bert</td>\n",
       "      <td>Feasley</td>\n",
       "      <td>Nurse Practicioner</td>\n",
       "    </tr>\n",
       "  </tbody>\n",
       "</table>\n",
       "</div>"
      ],
      "text/plain": [
       "      id first_name last_name             job_title\n",
       "0   1001     Cobbie   Whinray     Account Executive\n",
       "1   1002     Milton  McPhaden             Recruiter\n",
       "10  1011     Hobard    Seyers   Executive Secretary\n",
       "11  1012    Roselle   Rideout             Paralegal\n",
       "48  1049      Shane     Lehon  Software Engineer IV\n",
       "49  1050       Bert   Feasley    Nurse Practicioner"
      ]
     },
     "execution_count": 89,
     "metadata": {},
     "output_type": "execute_result"
    }
   ],
   "source": [
    "pd.concat([myDF2RowsA, myDF2RowsB, myDF2RowsC]) # note that you must supply a sequence of DataFrames to concat"
   ]
  },
  {
   "cell_type": "markdown",
   "metadata": {},
   "source": [
    "If necessary, you can also ignore the index by adjusting the *ignore_index* argument:"
   ]
  },
  {
   "cell_type": "code",
   "execution_count": 90,
   "metadata": {},
   "outputs": [
    {
     "data": {
      "text/html": [
       "<div>\n",
       "<style scoped>\n",
       "    .dataframe tbody tr th:only-of-type {\n",
       "        vertical-align: middle;\n",
       "    }\n",
       "\n",
       "    .dataframe tbody tr th {\n",
       "        vertical-align: top;\n",
       "    }\n",
       "\n",
       "    .dataframe thead th {\n",
       "        text-align: right;\n",
       "    }\n",
       "</style>\n",
       "<table border=\"1\" class=\"dataframe\">\n",
       "  <thead>\n",
       "    <tr style=\"text-align: right;\">\n",
       "      <th></th>\n",
       "      <th>id</th>\n",
       "      <th>first_name</th>\n",
       "      <th>last_name</th>\n",
       "      <th>job_title</th>\n",
       "    </tr>\n",
       "  </thead>\n",
       "  <tbody>\n",
       "    <tr>\n",
       "      <th>0</th>\n",
       "      <td>1001</td>\n",
       "      <td>Cobbie</td>\n",
       "      <td>Whinray</td>\n",
       "      <td>Account Executive</td>\n",
       "    </tr>\n",
       "    <tr>\n",
       "      <th>1</th>\n",
       "      <td>1002</td>\n",
       "      <td>Milton</td>\n",
       "      <td>McPhaden</td>\n",
       "      <td>Recruiter</td>\n",
       "    </tr>\n",
       "    <tr>\n",
       "      <th>2</th>\n",
       "      <td>1011</td>\n",
       "      <td>Hobard</td>\n",
       "      <td>Seyers</td>\n",
       "      <td>Executive Secretary</td>\n",
       "    </tr>\n",
       "    <tr>\n",
       "      <th>3</th>\n",
       "      <td>1012</td>\n",
       "      <td>Roselle</td>\n",
       "      <td>Rideout</td>\n",
       "      <td>Paralegal</td>\n",
       "    </tr>\n",
       "    <tr>\n",
       "      <th>4</th>\n",
       "      <td>1049</td>\n",
       "      <td>Shane</td>\n",
       "      <td>Lehon</td>\n",
       "      <td>Software Engineer IV</td>\n",
       "    </tr>\n",
       "    <tr>\n",
       "      <th>5</th>\n",
       "      <td>1050</td>\n",
       "      <td>Bert</td>\n",
       "      <td>Feasley</td>\n",
       "      <td>Nurse Practicioner</td>\n",
       "    </tr>\n",
       "  </tbody>\n",
       "</table>\n",
       "</div>"
      ],
      "text/plain": [
       "     id first_name last_name             job_title\n",
       "0  1001     Cobbie   Whinray     Account Executive\n",
       "1  1002     Milton  McPhaden             Recruiter\n",
       "2  1011     Hobard    Seyers   Executive Secretary\n",
       "3  1012    Roselle   Rideout             Paralegal\n",
       "4  1049      Shane     Lehon  Software Engineer IV\n",
       "5  1050       Bert   Feasley    Nurse Practicioner"
      ]
     },
     "execution_count": 90,
     "metadata": {},
     "output_type": "execute_result"
    }
   ],
   "source": [
    "pd.concat([myDF2RowsA, myDF2RowsB, myDF2RowsC], ignore_index = True)"
   ]
  },
  {
   "cell_type": "markdown",
   "metadata": {},
   "source": [
    "Finally, to add a single row stored as a sequence (e.g., a list) manually, you can do so via indexing (although note this approach may be unreliable if using a labelled index):"
   ]
  },
  {
   "cell_type": "code",
   "execution_count": 91,
   "metadata": {},
   "outputs": [
    {
     "data": {
      "text/html": [
       "<div>\n",
       "<style scoped>\n",
       "    .dataframe tbody tr th:only-of-type {\n",
       "        vertical-align: middle;\n",
       "    }\n",
       "\n",
       "    .dataframe tbody tr th {\n",
       "        vertical-align: top;\n",
       "    }\n",
       "\n",
       "    .dataframe thead th {\n",
       "        text-align: right;\n",
       "    }\n",
       "</style>\n",
       "<table border=\"1\" class=\"dataframe\">\n",
       "  <thead>\n",
       "    <tr style=\"text-align: right;\">\n",
       "      <th></th>\n",
       "      <th>id</th>\n",
       "      <th>first_name</th>\n",
       "      <th>last_name</th>\n",
       "      <th>job_title</th>\n",
       "    </tr>\n",
       "  </thead>\n",
       "  <tbody>\n",
       "    <tr>\n",
       "      <th>0</th>\n",
       "      <td>1001</td>\n",
       "      <td>Cobbie</td>\n",
       "      <td>Whinray</td>\n",
       "      <td>Account Executive</td>\n",
       "    </tr>\n",
       "    <tr>\n",
       "      <th>1</th>\n",
       "      <td>1002</td>\n",
       "      <td>Milton</td>\n",
       "      <td>McPhaden</td>\n",
       "      <td>Recruiter</td>\n",
       "    </tr>\n",
       "    <tr>\n",
       "      <th>2</th>\n",
       "      <td>1234</td>\n",
       "      <td>Example</td>\n",
       "      <td>Data</td>\n",
       "      <td>Here</td>\n",
       "    </tr>\n",
       "  </tbody>\n",
       "</table>\n",
       "</div>"
      ],
      "text/plain": [
       "     id first_name last_name          job_title\n",
       "0  1001     Cobbie   Whinray  Account Executive\n",
       "1  1002     Milton  McPhaden          Recruiter\n",
       "2  1234    Example      Data               Here"
      ]
     },
     "execution_count": 91,
     "metadata": {},
     "output_type": "execute_result"
    }
   ],
   "source": [
    "myDFAddOneRow = myDF.iloc[:2, :4].copy()\n",
    "\n",
    "myDFAddOneRow.loc[len(myDFAddOneRow)] = [1234, 'Example', 'Data', 'Here'] # add a list of new values at the end programmatically\n",
    "\n",
    "myDFAddOneRow"
   ]
  },
  {
   "cell_type": "markdown",
   "metadata": {},
   "source": [
    "More practically, you should stick to *append* or *concat* for adding additional rows."
   ]
  },
  {
   "cell_type": "markdown",
   "metadata": {},
   "source": [
    "##### **Deleting DataFrame Elements**\n",
    "\n",
    "To delete elements from a DataFrame, use the *drop* method while specifying an index and *axis* (i.e., `axis = 0` for rows and `axis = 1` for columns; alternatively, use `axis = 'index'` or `axis = 'columns'`, respectively). For instance, to delete specific columns, consider this example:"
   ]
  },
  {
   "cell_type": "code",
   "execution_count": 92,
   "metadata": {},
   "outputs": [
    {
     "data": {
      "text/html": [
       "<div>\n",
       "<style scoped>\n",
       "    .dataframe tbody tr th:only-of-type {\n",
       "        vertical-align: middle;\n",
       "    }\n",
       "\n",
       "    .dataframe tbody tr th {\n",
       "        vertical-align: top;\n",
       "    }\n",
       "\n",
       "    .dataframe thead th {\n",
       "        text-align: right;\n",
       "    }\n",
       "</style>\n",
       "<table border=\"1\" class=\"dataframe\">\n",
       "  <thead>\n",
       "    <tr style=\"text-align: right;\">\n",
       "      <th></th>\n",
       "      <th>id</th>\n",
       "      <th>first_name</th>\n",
       "      <th>last_name</th>\n",
       "      <th>job_title</th>\n",
       "    </tr>\n",
       "  </thead>\n",
       "  <tbody>\n",
       "    <tr>\n",
       "      <th>0</th>\n",
       "      <td>1001</td>\n",
       "      <td>Cobbie</td>\n",
       "      <td>Whinray</td>\n",
       "      <td>Account Executive</td>\n",
       "    </tr>\n",
       "    <tr>\n",
       "      <th>1</th>\n",
       "      <td>1002</td>\n",
       "      <td>Milton</td>\n",
       "      <td>McPhaden</td>\n",
       "      <td>Recruiter</td>\n",
       "    </tr>\n",
       "    <tr>\n",
       "      <th>2</th>\n",
       "      <td>1003</td>\n",
       "      <td>Coralyn</td>\n",
       "      <td>Haselhurst</td>\n",
       "      <td>Account Coordinator</td>\n",
       "    </tr>\n",
       "    <tr>\n",
       "      <th>3</th>\n",
       "      <td>1004</td>\n",
       "      <td>Morten</td>\n",
       "      <td>Samples</td>\n",
       "      <td>Account Representative IV</td>\n",
       "    </tr>\n",
       "    <tr>\n",
       "      <th>4</th>\n",
       "      <td>1005</td>\n",
       "      <td>Norman</td>\n",
       "      <td>Munnis</td>\n",
       "      <td>Desktop Support Technician</td>\n",
       "    </tr>\n",
       "  </tbody>\n",
       "</table>\n",
       "</div>"
      ],
      "text/plain": [
       "     id first_name   last_name                   job_title\n",
       "0  1001     Cobbie     Whinray           Account Executive\n",
       "1  1002     Milton    McPhaden                   Recruiter\n",
       "2  1003    Coralyn  Haselhurst         Account Coordinator\n",
       "3  1004     Morten     Samples   Account Representative IV\n",
       "4  1005     Norman      Munnis  Desktop Support Technician"
      ]
     },
     "execution_count": 92,
     "metadata": {},
     "output_type": "execute_result"
    }
   ],
   "source": [
    "myDFSmaller = myDF.iloc[:5, :4].copy()\n",
    "myDFSmaller"
   ]
  },
  {
   "cell_type": "code",
   "execution_count": 93,
   "metadata": {},
   "outputs": [
    {
     "data": {
      "text/html": [
       "<div>\n",
       "<style scoped>\n",
       "    .dataframe tbody tr th:only-of-type {\n",
       "        vertical-align: middle;\n",
       "    }\n",
       "\n",
       "    .dataframe tbody tr th {\n",
       "        vertical-align: top;\n",
       "    }\n",
       "\n",
       "    .dataframe thead th {\n",
       "        text-align: right;\n",
       "    }\n",
       "</style>\n",
       "<table border=\"1\" class=\"dataframe\">\n",
       "  <thead>\n",
       "    <tr style=\"text-align: right;\">\n",
       "      <th></th>\n",
       "      <th>id</th>\n",
       "      <th>job_title</th>\n",
       "    </tr>\n",
       "  </thead>\n",
       "  <tbody>\n",
       "    <tr>\n",
       "      <th>0</th>\n",
       "      <td>1001</td>\n",
       "      <td>Account Executive</td>\n",
       "    </tr>\n",
       "    <tr>\n",
       "      <th>1</th>\n",
       "      <td>1002</td>\n",
       "      <td>Recruiter</td>\n",
       "    </tr>\n",
       "    <tr>\n",
       "      <th>2</th>\n",
       "      <td>1003</td>\n",
       "      <td>Account Coordinator</td>\n",
       "    </tr>\n",
       "    <tr>\n",
       "      <th>3</th>\n",
       "      <td>1004</td>\n",
       "      <td>Account Representative IV</td>\n",
       "    </tr>\n",
       "    <tr>\n",
       "      <th>4</th>\n",
       "      <td>1005</td>\n",
       "      <td>Desktop Support Technician</td>\n",
       "    </tr>\n",
       "  </tbody>\n",
       "</table>\n",
       "</div>"
      ],
      "text/plain": [
       "     id                   job_title\n",
       "0  1001           Account Executive\n",
       "1  1002                   Recruiter\n",
       "2  1003         Account Coordinator\n",
       "3  1004   Account Representative IV\n",
       "4  1005  Desktop Support Technician"
      ]
     },
     "execution_count": 93,
     "metadata": {},
     "output_type": "execute_result"
    }
   ],
   "source": [
    "myDFSmaller.drop(['first_name', 'last_name'], axis = 1)"
   ]
  },
  {
   "cell_type": "markdown",
   "metadata": {},
   "source": [
    "Again, for deleting rows, use `axis = 0`:"
   ]
  },
  {
   "cell_type": "code",
   "execution_count": 94,
   "metadata": {},
   "outputs": [
    {
     "data": {
      "text/html": [
       "<div>\n",
       "<style scoped>\n",
       "    .dataframe tbody tr th:only-of-type {\n",
       "        vertical-align: middle;\n",
       "    }\n",
       "\n",
       "    .dataframe tbody tr th {\n",
       "        vertical-align: top;\n",
       "    }\n",
       "\n",
       "    .dataframe thead th {\n",
       "        text-align: right;\n",
       "    }\n",
       "</style>\n",
       "<table border=\"1\" class=\"dataframe\">\n",
       "  <thead>\n",
       "    <tr style=\"text-align: right;\">\n",
       "      <th></th>\n",
       "      <th>id</th>\n",
       "      <th>first_name</th>\n",
       "      <th>last_name</th>\n",
       "      <th>job_title</th>\n",
       "    </tr>\n",
       "  </thead>\n",
       "  <tbody>\n",
       "    <tr>\n",
       "      <th>1</th>\n",
       "      <td>1002</td>\n",
       "      <td>Milton</td>\n",
       "      <td>McPhaden</td>\n",
       "      <td>Recruiter</td>\n",
       "    </tr>\n",
       "    <tr>\n",
       "      <th>2</th>\n",
       "      <td>1003</td>\n",
       "      <td>Coralyn</td>\n",
       "      <td>Haselhurst</td>\n",
       "      <td>Account Coordinator</td>\n",
       "    </tr>\n",
       "    <tr>\n",
       "      <th>4</th>\n",
       "      <td>1005</td>\n",
       "      <td>Norman</td>\n",
       "      <td>Munnis</td>\n",
       "      <td>Desktop Support Technician</td>\n",
       "    </tr>\n",
       "  </tbody>\n",
       "</table>\n",
       "</div>"
      ],
      "text/plain": [
       "     id first_name   last_name                   job_title\n",
       "1  1002     Milton    McPhaden                   Recruiter\n",
       "2  1003    Coralyn  Haselhurst         Account Coordinator\n",
       "4  1005     Norman      Munnis  Desktop Support Technician"
      ]
     },
     "execution_count": 94,
     "metadata": {},
     "output_type": "execute_result"
    }
   ],
   "source": [
    "myDFSmaller.drop([0, 3], axis = 0) # delete (drop) the first and fourth rows"
   ]
  },
  {
   "cell_type": "markdown",
   "metadata": {},
   "source": [
    "##### **Renaming Indexes**\n",
    "\n",
    "To rename a row or column index, use the [*rename*](https://pandas.pydata.org/pandas-docs/stable/reference/api/pandas.DataFrame.rename.html) method. For example, to rename a column, simply supply the *column* argument with a dict object with the old and new names, respectively:"
   ]
  },
  {
   "cell_type": "code",
   "execution_count": 95,
   "metadata": {},
   "outputs": [
    {
     "data": {
      "text/html": [
       "<div>\n",
       "<style scoped>\n",
       "    .dataframe tbody tr th:only-of-type {\n",
       "        vertical-align: middle;\n",
       "    }\n",
       "\n",
       "    .dataframe tbody tr th {\n",
       "        vertical-align: top;\n",
       "    }\n",
       "\n",
       "    .dataframe thead th {\n",
       "        text-align: right;\n",
       "    }\n",
       "</style>\n",
       "<table border=\"1\" class=\"dataframe\">\n",
       "  <thead>\n",
       "    <tr style=\"text-align: right;\">\n",
       "      <th></th>\n",
       "      <th>id</th>\n",
       "      <th>first_name</th>\n",
       "      <th>last_name</th>\n",
       "      <th>job_title</th>\n",
       "    </tr>\n",
       "  </thead>\n",
       "  <tbody>\n",
       "    <tr>\n",
       "      <th>0</th>\n",
       "      <td>1001</td>\n",
       "      <td>Cobbie</td>\n",
       "      <td>Whinray</td>\n",
       "      <td>Account Executive</td>\n",
       "    </tr>\n",
       "    <tr>\n",
       "      <th>1</th>\n",
       "      <td>1002</td>\n",
       "      <td>Milton</td>\n",
       "      <td>McPhaden</td>\n",
       "      <td>Recruiter</td>\n",
       "    </tr>\n",
       "    <tr>\n",
       "      <th>2</th>\n",
       "      <td>1003</td>\n",
       "      <td>Coralyn</td>\n",
       "      <td>Haselhurst</td>\n",
       "      <td>Account Coordinator</td>\n",
       "    </tr>\n",
       "    <tr>\n",
       "      <th>3</th>\n",
       "      <td>1004</td>\n",
       "      <td>Morten</td>\n",
       "      <td>Samples</td>\n",
       "      <td>Account Representative IV</td>\n",
       "    </tr>\n",
       "    <tr>\n",
       "      <th>4</th>\n",
       "      <td>1005</td>\n",
       "      <td>Norman</td>\n",
       "      <td>Munnis</td>\n",
       "      <td>Desktop Support Technician</td>\n",
       "    </tr>\n",
       "  </tbody>\n",
       "</table>\n",
       "</div>"
      ],
      "text/plain": [
       "     id first_name   last_name                   job_title\n",
       "0  1001     Cobbie     Whinray           Account Executive\n",
       "1  1002     Milton    McPhaden                   Recruiter\n",
       "2  1003    Coralyn  Haselhurst         Account Coordinator\n",
       "3  1004     Morten     Samples   Account Representative IV\n",
       "4  1005     Norman      Munnis  Desktop Support Technician"
      ]
     },
     "execution_count": 95,
     "metadata": {},
     "output_type": "execute_result"
    }
   ],
   "source": [
    "myDFSmaller"
   ]
  },
  {
   "cell_type": "code",
   "execution_count": 96,
   "metadata": {},
   "outputs": [
    {
     "data": {
      "text/html": [
       "<div>\n",
       "<style scoped>\n",
       "    .dataframe tbody tr th:only-of-type {\n",
       "        vertical-align: middle;\n",
       "    }\n",
       "\n",
       "    .dataframe tbody tr th {\n",
       "        vertical-align: top;\n",
       "    }\n",
       "\n",
       "    .dataframe thead th {\n",
       "        text-align: right;\n",
       "    }\n",
       "</style>\n",
       "<table border=\"1\" class=\"dataframe\">\n",
       "  <thead>\n",
       "    <tr style=\"text-align: right;\">\n",
       "      <th></th>\n",
       "      <th>id</th>\n",
       "      <th>firstname</th>\n",
       "      <th>lastname</th>\n",
       "      <th>jobtitle</th>\n",
       "    </tr>\n",
       "  </thead>\n",
       "  <tbody>\n",
       "    <tr>\n",
       "      <th>0</th>\n",
       "      <td>1001</td>\n",
       "      <td>Cobbie</td>\n",
       "      <td>Whinray</td>\n",
       "      <td>Account Executive</td>\n",
       "    </tr>\n",
       "    <tr>\n",
       "      <th>1</th>\n",
       "      <td>1002</td>\n",
       "      <td>Milton</td>\n",
       "      <td>McPhaden</td>\n",
       "      <td>Recruiter</td>\n",
       "    </tr>\n",
       "    <tr>\n",
       "      <th>2</th>\n",
       "      <td>1003</td>\n",
       "      <td>Coralyn</td>\n",
       "      <td>Haselhurst</td>\n",
       "      <td>Account Coordinator</td>\n",
       "    </tr>\n",
       "    <tr>\n",
       "      <th>3</th>\n",
       "      <td>1004</td>\n",
       "      <td>Morten</td>\n",
       "      <td>Samples</td>\n",
       "      <td>Account Representative IV</td>\n",
       "    </tr>\n",
       "    <tr>\n",
       "      <th>4</th>\n",
       "      <td>1005</td>\n",
       "      <td>Norman</td>\n",
       "      <td>Munnis</td>\n",
       "      <td>Desktop Support Technician</td>\n",
       "    </tr>\n",
       "  </tbody>\n",
       "</table>\n",
       "</div>"
      ],
      "text/plain": [
       "     id firstname    lastname                    jobtitle\n",
       "0  1001    Cobbie     Whinray           Account Executive\n",
       "1  1002    Milton    McPhaden                   Recruiter\n",
       "2  1003   Coralyn  Haselhurst         Account Coordinator\n",
       "3  1004    Morten     Samples   Account Representative IV\n",
       "4  1005    Norman      Munnis  Desktop Support Technician"
      ]
     },
     "execution_count": 96,
     "metadata": {},
     "output_type": "execute_result"
    }
   ],
   "source": [
    "myDFSmaller.rename(columns = {'first_name': 'firstname', \n",
    "                              'last_name': 'lastname', \n",
    "                              'job_title': 'jobtitle'})"
   ]
  },
  {
   "cell_type": "markdown",
   "metadata": {},
   "source": [
    "To rename a row index, supply a dict to the *index* argument using the relevant data types (*casting* to a different data type is also possible as explained [here](https://pandas.pydata.org/pandas-docs/stable/reference/api/pandas.DataFrame.rename.html)):"
   ]
  },
  {
   "cell_type": "code",
   "execution_count": 97,
   "metadata": {},
   "outputs": [
    {
     "data": {
      "text/html": [
       "<div>\n",
       "<style scoped>\n",
       "    .dataframe tbody tr th:only-of-type {\n",
       "        vertical-align: middle;\n",
       "    }\n",
       "\n",
       "    .dataframe tbody tr th {\n",
       "        vertical-align: top;\n",
       "    }\n",
       "\n",
       "    .dataframe thead th {\n",
       "        text-align: right;\n",
       "    }\n",
       "</style>\n",
       "<table border=\"1\" class=\"dataframe\">\n",
       "  <thead>\n",
       "    <tr style=\"text-align: right;\">\n",
       "      <th></th>\n",
       "      <th>id</th>\n",
       "      <th>first_name</th>\n",
       "      <th>last_name</th>\n",
       "      <th>job_title</th>\n",
       "    </tr>\n",
       "  </thead>\n",
       "  <tbody>\n",
       "    <tr>\n",
       "      <th>Zero</th>\n",
       "      <td>1001</td>\n",
       "      <td>Cobbie</td>\n",
       "      <td>Whinray</td>\n",
       "      <td>Account Executive</td>\n",
       "    </tr>\n",
       "    <tr>\n",
       "      <th>1</th>\n",
       "      <td>1002</td>\n",
       "      <td>Milton</td>\n",
       "      <td>McPhaden</td>\n",
       "      <td>Recruiter</td>\n",
       "    </tr>\n",
       "    <tr>\n",
       "      <th>Two</th>\n",
       "      <td>1003</td>\n",
       "      <td>Coralyn</td>\n",
       "      <td>Haselhurst</td>\n",
       "      <td>Account Coordinator</td>\n",
       "    </tr>\n",
       "    <tr>\n",
       "      <th>3</th>\n",
       "      <td>1004</td>\n",
       "      <td>Morten</td>\n",
       "      <td>Samples</td>\n",
       "      <td>Account Representative IV</td>\n",
       "    </tr>\n",
       "    <tr>\n",
       "      <th>4</th>\n",
       "      <td>1005</td>\n",
       "      <td>Norman</td>\n",
       "      <td>Munnis</td>\n",
       "      <td>Desktop Support Technician</td>\n",
       "    </tr>\n",
       "  </tbody>\n",
       "</table>\n",
       "</div>"
      ],
      "text/plain": [
       "        id first_name   last_name                   job_title\n",
       "Zero  1001     Cobbie     Whinray           Account Executive\n",
       "1     1002     Milton    McPhaden                   Recruiter\n",
       "Two   1003    Coralyn  Haselhurst         Account Coordinator\n",
       "3     1004     Morten     Samples   Account Representative IV\n",
       "4     1005     Norman      Munnis  Desktop Support Technician"
      ]
     },
     "execution_count": 97,
     "metadata": {},
     "output_type": "execute_result"
    }
   ],
   "source": [
    "myDFSmaller.rename(index = {0: 'Zero', 2: 'Two'})"
   ]
  },
  {
   "cell_type": "markdown",
   "metadata": {},
   "source": [
    "Alternatively, you can set the row index to an existing column as well using *set_index*, which we used earlier:"
   ]
  },
  {
   "cell_type": "code",
   "execution_count": 98,
   "metadata": {},
   "outputs": [
    {
     "data": {
      "text/html": [
       "<div>\n",
       "<style scoped>\n",
       "    .dataframe tbody tr th:only-of-type {\n",
       "        vertical-align: middle;\n",
       "    }\n",
       "\n",
       "    .dataframe tbody tr th {\n",
       "        vertical-align: top;\n",
       "    }\n",
       "\n",
       "    .dataframe thead th {\n",
       "        text-align: right;\n",
       "    }\n",
       "</style>\n",
       "<table border=\"1\" class=\"dataframe\">\n",
       "  <thead>\n",
       "    <tr style=\"text-align: right;\">\n",
       "      <th></th>\n",
       "      <th>first_name</th>\n",
       "      <th>last_name</th>\n",
       "      <th>job_title</th>\n",
       "    </tr>\n",
       "    <tr>\n",
       "      <th>id</th>\n",
       "      <th></th>\n",
       "      <th></th>\n",
       "      <th></th>\n",
       "    </tr>\n",
       "  </thead>\n",
       "  <tbody>\n",
       "    <tr>\n",
       "      <th>1001</th>\n",
       "      <td>Cobbie</td>\n",
       "      <td>Whinray</td>\n",
       "      <td>Account Executive</td>\n",
       "    </tr>\n",
       "    <tr>\n",
       "      <th>1002</th>\n",
       "      <td>Milton</td>\n",
       "      <td>McPhaden</td>\n",
       "      <td>Recruiter</td>\n",
       "    </tr>\n",
       "    <tr>\n",
       "      <th>1003</th>\n",
       "      <td>Coralyn</td>\n",
       "      <td>Haselhurst</td>\n",
       "      <td>Account Coordinator</td>\n",
       "    </tr>\n",
       "    <tr>\n",
       "      <th>1004</th>\n",
       "      <td>Morten</td>\n",
       "      <td>Samples</td>\n",
       "      <td>Account Representative IV</td>\n",
       "    </tr>\n",
       "    <tr>\n",
       "      <th>1005</th>\n",
       "      <td>Norman</td>\n",
       "      <td>Munnis</td>\n",
       "      <td>Desktop Support Technician</td>\n",
       "    </tr>\n",
       "  </tbody>\n",
       "</table>\n",
       "</div>"
      ],
      "text/plain": [
       "     first_name   last_name                   job_title\n",
       "id                                                     \n",
       "1001     Cobbie     Whinray           Account Executive\n",
       "1002     Milton    McPhaden                   Recruiter\n",
       "1003    Coralyn  Haselhurst         Account Coordinator\n",
       "1004     Morten     Samples   Account Representative IV\n",
       "1005     Norman      Munnis  Desktop Support Technician"
      ]
     },
     "execution_count": 98,
     "metadata": {},
     "output_type": "execute_result"
    }
   ],
   "source": [
    "myDFSmaller.set_index('id')"
   ]
  },
  {
   "cell_type": "markdown",
   "metadata": {},
   "source": [
    "Assuming the index has been set to a column in this manner, it is also possible to revert it using *reset_index*, which converts the row index back to a column:"
   ]
  },
  {
   "cell_type": "code",
   "execution_count": 99,
   "metadata": {},
   "outputs": [
    {
     "data": {
      "text/html": [
       "<div>\n",
       "<style scoped>\n",
       "    .dataframe tbody tr th:only-of-type {\n",
       "        vertical-align: middle;\n",
       "    }\n",
       "\n",
       "    .dataframe tbody tr th {\n",
       "        vertical-align: top;\n",
       "    }\n",
       "\n",
       "    .dataframe thead th {\n",
       "        text-align: right;\n",
       "    }\n",
       "</style>\n",
       "<table border=\"1\" class=\"dataframe\">\n",
       "  <thead>\n",
       "    <tr style=\"text-align: right;\">\n",
       "      <th></th>\n",
       "      <th>id</th>\n",
       "      <th>first_name</th>\n",
       "      <th>last_name</th>\n",
       "      <th>job_title</th>\n",
       "    </tr>\n",
       "  </thead>\n",
       "  <tbody>\n",
       "    <tr>\n",
       "      <th>0</th>\n",
       "      <td>1001</td>\n",
       "      <td>Cobbie</td>\n",
       "      <td>Whinray</td>\n",
       "      <td>Account Executive</td>\n",
       "    </tr>\n",
       "    <tr>\n",
       "      <th>1</th>\n",
       "      <td>1002</td>\n",
       "      <td>Milton</td>\n",
       "      <td>McPhaden</td>\n",
       "      <td>Recruiter</td>\n",
       "    </tr>\n",
       "    <tr>\n",
       "      <th>2</th>\n",
       "      <td>1003</td>\n",
       "      <td>Coralyn</td>\n",
       "      <td>Haselhurst</td>\n",
       "      <td>Account Coordinator</td>\n",
       "    </tr>\n",
       "    <tr>\n",
       "      <th>3</th>\n",
       "      <td>1004</td>\n",
       "      <td>Morten</td>\n",
       "      <td>Samples</td>\n",
       "      <td>Account Representative IV</td>\n",
       "    </tr>\n",
       "    <tr>\n",
       "      <th>4</th>\n",
       "      <td>1005</td>\n",
       "      <td>Norman</td>\n",
       "      <td>Munnis</td>\n",
       "      <td>Desktop Support Technician</td>\n",
       "    </tr>\n",
       "  </tbody>\n",
       "</table>\n",
       "</div>"
      ],
      "text/plain": [
       "     id first_name   last_name                   job_title\n",
       "0  1001     Cobbie     Whinray           Account Executive\n",
       "1  1002     Milton    McPhaden                   Recruiter\n",
       "2  1003    Coralyn  Haselhurst         Account Coordinator\n",
       "3  1004     Morten     Samples   Account Representative IV\n",
       "4  1005     Norman      Munnis  Desktop Support Technician"
      ]
     },
     "execution_count": 99,
     "metadata": {},
     "output_type": "execute_result"
    }
   ],
   "source": [
    "myDFSmaller.set_index('id').reset_index()"
   ]
  },
  {
   "cell_type": "markdown",
   "metadata": {},
   "source": [
    "##### **Joining DataFrames**\n",
    "\n",
    "SQL-style joining is possible in pandas using *merge* as detailed in the [user guide](https://pandas.pydata.org/docs/user_guide/merging.html#merging-join). As a quick example, consider the following inner join case:"
   ]
  },
  {
   "cell_type": "code",
   "execution_count": 100,
   "metadata": {},
   "outputs": [
    {
     "data": {
      "text/html": [
       "<div>\n",
       "<style scoped>\n",
       "    .dataframe tbody tr th:only-of-type {\n",
       "        vertical-align: middle;\n",
       "    }\n",
       "\n",
       "    .dataframe tbody tr th {\n",
       "        vertical-align: top;\n",
       "    }\n",
       "\n",
       "    .dataframe thead th {\n",
       "        text-align: right;\n",
       "    }\n",
       "</style>\n",
       "<table border=\"1\" class=\"dataframe\">\n",
       "  <thead>\n",
       "    <tr style=\"text-align: right;\">\n",
       "      <th></th>\n",
       "      <th>id</th>\n",
       "      <th>first_name</th>\n",
       "      <th>last_name</th>\n",
       "    </tr>\n",
       "  </thead>\n",
       "  <tbody>\n",
       "    <tr>\n",
       "      <th>0</th>\n",
       "      <td>1001</td>\n",
       "      <td>Cobbie</td>\n",
       "      <td>Whinray</td>\n",
       "    </tr>\n",
       "    <tr>\n",
       "      <th>1</th>\n",
       "      <td>1002</td>\n",
       "      <td>Milton</td>\n",
       "      <td>McPhaden</td>\n",
       "    </tr>\n",
       "    <tr>\n",
       "      <th>2</th>\n",
       "      <td>1003</td>\n",
       "      <td>Coralyn</td>\n",
       "      <td>Haselhurst</td>\n",
       "    </tr>\n",
       "    <tr>\n",
       "      <th>3</th>\n",
       "      <td>1004</td>\n",
       "      <td>Morten</td>\n",
       "      <td>Samples</td>\n",
       "    </tr>\n",
       "    <tr>\n",
       "      <th>4</th>\n",
       "      <td>1005</td>\n",
       "      <td>Norman</td>\n",
       "      <td>Munnis</td>\n",
       "    </tr>\n",
       "  </tbody>\n",
       "</table>\n",
       "</div>"
      ],
      "text/plain": [
       "     id first_name   last_name\n",
       "0  1001     Cobbie     Whinray\n",
       "1  1002     Milton    McPhaden\n",
       "2  1003    Coralyn  Haselhurst\n",
       "3  1004     Morten     Samples\n",
       "4  1005     Norman      Munnis"
      ]
     },
     "metadata": {},
     "output_type": "display_data"
    },
    {
     "data": {
      "text/html": [
       "<div>\n",
       "<style scoped>\n",
       "    .dataframe tbody tr th:only-of-type {\n",
       "        vertical-align: middle;\n",
       "    }\n",
       "\n",
       "    .dataframe tbody tr th {\n",
       "        vertical-align: top;\n",
       "    }\n",
       "\n",
       "    .dataframe thead th {\n",
       "        text-align: right;\n",
       "    }\n",
       "</style>\n",
       "<table border=\"1\" class=\"dataframe\">\n",
       "  <thead>\n",
       "    <tr style=\"text-align: right;\">\n",
       "      <th></th>\n",
       "      <th>id</th>\n",
       "      <th>email</th>\n",
       "      <th>shirt_size</th>\n",
       "    </tr>\n",
       "  </thead>\n",
       "  <tbody>\n",
       "    <tr>\n",
       "      <th>2</th>\n",
       "      <td>1003</td>\n",
       "      <td>chaselhurst2@icio.us</td>\n",
       "      <td>3XL</td>\n",
       "    </tr>\n",
       "    <tr>\n",
       "      <th>3</th>\n",
       "      <td>1004</td>\n",
       "      <td>msamples3@toplist.cz</td>\n",
       "      <td>S</td>\n",
       "    </tr>\n",
       "    <tr>\n",
       "      <th>4</th>\n",
       "      <td>1005</td>\n",
       "      <td>nmunnis4@cargocollective.com</td>\n",
       "      <td>L</td>\n",
       "    </tr>\n",
       "    <tr>\n",
       "      <th>5</th>\n",
       "      <td>1006</td>\n",
       "      <td>cbarbary5@china.com.cn</td>\n",
       "      <td>XL</td>\n",
       "    </tr>\n",
       "    <tr>\n",
       "      <th>6</th>\n",
       "      <td>1007</td>\n",
       "      <td>soshirine6@foxnews.com</td>\n",
       "      <td>XS</td>\n",
       "    </tr>\n",
       "  </tbody>\n",
       "</table>\n",
       "</div>"
      ],
      "text/plain": [
       "     id                         email shirt_size\n",
       "2  1003          chaselhurst2@icio.us        3XL\n",
       "3  1004          msamples3@toplist.cz          S\n",
       "4  1005  nmunnis4@cargocollective.com          L\n",
       "5  1006        cbarbary5@china.com.cn         XL\n",
       "6  1007        soshirine6@foxnews.com         XS"
      ]
     },
     "metadata": {},
     "output_type": "display_data"
    }
   ],
   "source": [
    "myDFNarrowA = myDF.loc[ :4, ['id', 'first_name', 'last_name']]\n",
    "myDFNarrowB = myDF.loc[2:6, ['id', 'email', 'shirt_size']]\n",
    "\n",
    "display(myDFNarrowA, myDFNarrowB)"
   ]
  },
  {
   "cell_type": "code",
   "execution_count": 101,
   "metadata": {},
   "outputs": [
    {
     "data": {
      "text/html": [
       "<div>\n",
       "<style scoped>\n",
       "    .dataframe tbody tr th:only-of-type {\n",
       "        vertical-align: middle;\n",
       "    }\n",
       "\n",
       "    .dataframe tbody tr th {\n",
       "        vertical-align: top;\n",
       "    }\n",
       "\n",
       "    .dataframe thead th {\n",
       "        text-align: right;\n",
       "    }\n",
       "</style>\n",
       "<table border=\"1\" class=\"dataframe\">\n",
       "  <thead>\n",
       "    <tr style=\"text-align: right;\">\n",
       "      <th></th>\n",
       "      <th>id</th>\n",
       "      <th>first_name</th>\n",
       "      <th>last_name</th>\n",
       "      <th>email</th>\n",
       "      <th>shirt_size</th>\n",
       "    </tr>\n",
       "  </thead>\n",
       "  <tbody>\n",
       "    <tr>\n",
       "      <th>0</th>\n",
       "      <td>1003</td>\n",
       "      <td>Coralyn</td>\n",
       "      <td>Haselhurst</td>\n",
       "      <td>chaselhurst2@icio.us</td>\n",
       "      <td>3XL</td>\n",
       "    </tr>\n",
       "    <tr>\n",
       "      <th>1</th>\n",
       "      <td>1004</td>\n",
       "      <td>Morten</td>\n",
       "      <td>Samples</td>\n",
       "      <td>msamples3@toplist.cz</td>\n",
       "      <td>S</td>\n",
       "    </tr>\n",
       "    <tr>\n",
       "      <th>2</th>\n",
       "      <td>1005</td>\n",
       "      <td>Norman</td>\n",
       "      <td>Munnis</td>\n",
       "      <td>nmunnis4@cargocollective.com</td>\n",
       "      <td>L</td>\n",
       "    </tr>\n",
       "  </tbody>\n",
       "</table>\n",
       "</div>"
      ],
      "text/plain": [
       "     id first_name   last_name                         email shirt_size\n",
       "0  1003    Coralyn  Haselhurst          chaselhurst2@icio.us        3XL\n",
       "1  1004     Morten     Samples          msamples3@toplist.cz          S\n",
       "2  1005     Norman      Munnis  nmunnis4@cargocollective.com          L"
      ]
     },
     "execution_count": 101,
     "metadata": {},
     "output_type": "execute_result"
    }
   ],
   "source": [
    "pd.merge(myDFNarrowA, myDFNarrowB, on = 'id', how = 'inner') # an inner join on 'id'"
   ]
  },
  {
   "cell_type": "code",
   "execution_count": 102,
   "metadata": {},
   "outputs": [
    {
     "data": {
      "text/html": [
       "<div>\n",
       "<style scoped>\n",
       "    .dataframe tbody tr th:only-of-type {\n",
       "        vertical-align: middle;\n",
       "    }\n",
       "\n",
       "    .dataframe tbody tr th {\n",
       "        vertical-align: top;\n",
       "    }\n",
       "\n",
       "    .dataframe thead th {\n",
       "        text-align: right;\n",
       "    }\n",
       "</style>\n",
       "<table border=\"1\" class=\"dataframe\">\n",
       "  <thead>\n",
       "    <tr style=\"text-align: right;\">\n",
       "      <th></th>\n",
       "      <th>id</th>\n",
       "      <th>first_name</th>\n",
       "      <th>last_name</th>\n",
       "      <th>email</th>\n",
       "      <th>shirt_size</th>\n",
       "    </tr>\n",
       "  </thead>\n",
       "  <tbody>\n",
       "    <tr>\n",
       "      <th>0</th>\n",
       "      <td>1001</td>\n",
       "      <td>Cobbie</td>\n",
       "      <td>Whinray</td>\n",
       "      <td>NaN</td>\n",
       "      <td>NaN</td>\n",
       "    </tr>\n",
       "    <tr>\n",
       "      <th>1</th>\n",
       "      <td>1002</td>\n",
       "      <td>Milton</td>\n",
       "      <td>McPhaden</td>\n",
       "      <td>NaN</td>\n",
       "      <td>NaN</td>\n",
       "    </tr>\n",
       "    <tr>\n",
       "      <th>2</th>\n",
       "      <td>1003</td>\n",
       "      <td>Coralyn</td>\n",
       "      <td>Haselhurst</td>\n",
       "      <td>chaselhurst2@icio.us</td>\n",
       "      <td>3XL</td>\n",
       "    </tr>\n",
       "    <tr>\n",
       "      <th>3</th>\n",
       "      <td>1004</td>\n",
       "      <td>Morten</td>\n",
       "      <td>Samples</td>\n",
       "      <td>msamples3@toplist.cz</td>\n",
       "      <td>S</td>\n",
       "    </tr>\n",
       "    <tr>\n",
       "      <th>4</th>\n",
       "      <td>1005</td>\n",
       "      <td>Norman</td>\n",
       "      <td>Munnis</td>\n",
       "      <td>nmunnis4@cargocollective.com</td>\n",
       "      <td>L</td>\n",
       "    </tr>\n",
       "    <tr>\n",
       "      <th>5</th>\n",
       "      <td>1006</td>\n",
       "      <td>NaN</td>\n",
       "      <td>NaN</td>\n",
       "      <td>cbarbary5@china.com.cn</td>\n",
       "      <td>XL</td>\n",
       "    </tr>\n",
       "    <tr>\n",
       "      <th>6</th>\n",
       "      <td>1007</td>\n",
       "      <td>NaN</td>\n",
       "      <td>NaN</td>\n",
       "      <td>soshirine6@foxnews.com</td>\n",
       "      <td>XS</td>\n",
       "    </tr>\n",
       "  </tbody>\n",
       "</table>\n",
       "</div>"
      ],
      "text/plain": [
       "     id first_name   last_name                         email shirt_size\n",
       "0  1001     Cobbie     Whinray                           NaN        NaN\n",
       "1  1002     Milton    McPhaden                           NaN        NaN\n",
       "2  1003    Coralyn  Haselhurst          chaselhurst2@icio.us        3XL\n",
       "3  1004     Morten     Samples          msamples3@toplist.cz          S\n",
       "4  1005     Norman      Munnis  nmunnis4@cargocollective.com          L\n",
       "5  1006        NaN         NaN        cbarbary5@china.com.cn         XL\n",
       "6  1007        NaN         NaN        soshirine6@foxnews.com         XS"
      ]
     },
     "execution_count": 102,
     "metadata": {},
     "output_type": "execute_result"
    }
   ],
   "source": [
    "pd.merge(myDFNarrowA, myDFNarrowB, on = 'id', how = 'outer') # an outer join on 'id'"
   ]
  },
  {
   "cell_type": "code",
   "execution_count": 103,
   "metadata": {},
   "outputs": [
    {
     "data": {
      "text/html": [
       "<div>\n",
       "<style scoped>\n",
       "    .dataframe tbody tr th:only-of-type {\n",
       "        vertical-align: middle;\n",
       "    }\n",
       "\n",
       "    .dataframe tbody tr th {\n",
       "        vertical-align: top;\n",
       "    }\n",
       "\n",
       "    .dataframe thead th {\n",
       "        text-align: right;\n",
       "    }\n",
       "</style>\n",
       "<table border=\"1\" class=\"dataframe\">\n",
       "  <thead>\n",
       "    <tr style=\"text-align: right;\">\n",
       "      <th></th>\n",
       "      <th>id</th>\n",
       "      <th>first_name</th>\n",
       "      <th>last_name</th>\n",
       "      <th>email</th>\n",
       "      <th>shirt_size</th>\n",
       "    </tr>\n",
       "  </thead>\n",
       "  <tbody>\n",
       "    <tr>\n",
       "      <th>0</th>\n",
       "      <td>1001</td>\n",
       "      <td>Cobbie</td>\n",
       "      <td>Whinray</td>\n",
       "      <td>NaN</td>\n",
       "      <td>NaN</td>\n",
       "    </tr>\n",
       "    <tr>\n",
       "      <th>1</th>\n",
       "      <td>1002</td>\n",
       "      <td>Milton</td>\n",
       "      <td>McPhaden</td>\n",
       "      <td>NaN</td>\n",
       "      <td>NaN</td>\n",
       "    </tr>\n",
       "    <tr>\n",
       "      <th>2</th>\n",
       "      <td>1003</td>\n",
       "      <td>Coralyn</td>\n",
       "      <td>Haselhurst</td>\n",
       "      <td>chaselhurst2@icio.us</td>\n",
       "      <td>3XL</td>\n",
       "    </tr>\n",
       "    <tr>\n",
       "      <th>3</th>\n",
       "      <td>1004</td>\n",
       "      <td>Morten</td>\n",
       "      <td>Samples</td>\n",
       "      <td>msamples3@toplist.cz</td>\n",
       "      <td>S</td>\n",
       "    </tr>\n",
       "    <tr>\n",
       "      <th>4</th>\n",
       "      <td>1005</td>\n",
       "      <td>Norman</td>\n",
       "      <td>Munnis</td>\n",
       "      <td>nmunnis4@cargocollective.com</td>\n",
       "      <td>L</td>\n",
       "    </tr>\n",
       "  </tbody>\n",
       "</table>\n",
       "</div>"
      ],
      "text/plain": [
       "     id first_name   last_name                         email shirt_size\n",
       "0  1001     Cobbie     Whinray                           NaN        NaN\n",
       "1  1002     Milton    McPhaden                           NaN        NaN\n",
       "2  1003    Coralyn  Haselhurst          chaselhurst2@icio.us        3XL\n",
       "3  1004     Morten     Samples          msamples3@toplist.cz          S\n",
       "4  1005     Norman      Munnis  nmunnis4@cargocollective.com          L"
      ]
     },
     "execution_count": 103,
     "metadata": {},
     "output_type": "execute_result"
    }
   ],
   "source": [
    "pd.merge(myDFNarrowA, myDFNarrowB, on = 'id', how = 'left') # a left join on 'id'"
   ]
  },
  {
   "cell_type": "markdown",
   "metadata": {},
   "source": [
    "Again, see the documentation for a full set of arguments for setting up your particular join."
   ]
  },
  {
   "cell_type": "markdown",
   "metadata": {},
   "source": [
    "##### <a name = \"pandasGroupingAggregateFunctions\">**Grouping and Aggregate Functions**</a>\n",
    "\n",
    "Much in the same way pandas supports SQL-style joining, it also affords the power of grouping (e.g., GROUP BY in SQL) and aggregate operations (e.g., SUM, COUNT).\n",
    "\n",
    "To perform grouping, use the [*groupby*](https://pandas.pydata.org/pandas-docs/stable/user_guide/groupby.html) method while supplying one or more grouping columns, which are typically categorical (although not necessarily):"
   ]
  },
  {
   "cell_type": "code",
   "execution_count": 104,
   "metadata": {},
   "outputs": [
    {
     "data": {
      "text/html": [
       "<div>\n",
       "<style scoped>\n",
       "    .dataframe tbody tr th:only-of-type {\n",
       "        vertical-align: middle;\n",
       "    }\n",
       "\n",
       "    .dataframe tbody tr th {\n",
       "        vertical-align: top;\n",
       "    }\n",
       "\n",
       "    .dataframe thead th {\n",
       "        text-align: right;\n",
       "    }\n",
       "</style>\n",
       "<table border=\"1\" class=\"dataframe\">\n",
       "  <thead>\n",
       "    <tr style=\"text-align: right;\">\n",
       "      <th></th>\n",
       "      <th>id</th>\n",
       "      <th>first_name</th>\n",
       "      <th>last_name</th>\n",
       "      <th>job_title</th>\n",
       "      <th>email</th>\n",
       "      <th>age</th>\n",
       "      <th>num_children</th>\n",
       "      <th>shirt_size</th>\n",
       "      <th>annual_salary</th>\n",
       "      <th>pay_type</th>\n",
       "      <th>satisfaction_score</th>\n",
       "    </tr>\n",
       "  </thead>\n",
       "  <tbody>\n",
       "    <tr>\n",
       "      <th>0</th>\n",
       "      <td>1001</td>\n",
       "      <td>Cobbie</td>\n",
       "      <td>Whinray</td>\n",
       "      <td>Account Executive</td>\n",
       "      <td>cwhinray0@icq.com</td>\n",
       "      <td>63.0</td>\n",
       "      <td>1</td>\n",
       "      <td>M</td>\n",
       "      <td>31124.56</td>\n",
       "      <td>FullTime</td>\n",
       "      <td>5.0</td>\n",
       "    </tr>\n",
       "    <tr>\n",
       "      <th>1</th>\n",
       "      <td>1002</td>\n",
       "      <td>Milton</td>\n",
       "      <td>McPhaden</td>\n",
       "      <td>Recruiter</td>\n",
       "      <td>mmcphaden1@marriott.com</td>\n",
       "      <td>20.0</td>\n",
       "      <td>2</td>\n",
       "      <td>L</td>\n",
       "      <td>65875.74</td>\n",
       "      <td>FullTime</td>\n",
       "      <td>3.0</td>\n",
       "    </tr>\n",
       "    <tr>\n",
       "      <th>2</th>\n",
       "      <td>1003</td>\n",
       "      <td>Coralyn</td>\n",
       "      <td>Haselhurst</td>\n",
       "      <td>Account Coordinator</td>\n",
       "      <td>chaselhurst2@icio.us</td>\n",
       "      <td>41.0</td>\n",
       "      <td>2</td>\n",
       "      <td>3XL</td>\n",
       "      <td>25548.53</td>\n",
       "      <td>FullTime</td>\n",
       "      <td>4.0</td>\n",
       "    </tr>\n",
       "    <tr>\n",
       "      <th>3</th>\n",
       "      <td>1004</td>\n",
       "      <td>Morten</td>\n",
       "      <td>Samples</td>\n",
       "      <td>Account Representative IV</td>\n",
       "      <td>msamples3@toplist.cz</td>\n",
       "      <td>43.0</td>\n",
       "      <td>1</td>\n",
       "      <td>S</td>\n",
       "      <td>51447.79</td>\n",
       "      <td>PartTime</td>\n",
       "      <td>5.0</td>\n",
       "    </tr>\n",
       "    <tr>\n",
       "      <th>4</th>\n",
       "      <td>1005</td>\n",
       "      <td>Norman</td>\n",
       "      <td>Munnis</td>\n",
       "      <td>Desktop Support Technician</td>\n",
       "      <td>nmunnis4@cargocollective.com</td>\n",
       "      <td>41.0</td>\n",
       "      <td>0</td>\n",
       "      <td>L</td>\n",
       "      <td>54961.71</td>\n",
       "      <td>PartTime</td>\n",
       "      <td>5.0</td>\n",
       "    </tr>\n",
       "  </tbody>\n",
       "</table>\n",
       "</div>"
      ],
      "text/plain": [
       "     id first_name   last_name                   job_title  \\\n",
       "0  1001     Cobbie     Whinray           Account Executive   \n",
       "1  1002     Milton    McPhaden                   Recruiter   \n",
       "2  1003    Coralyn  Haselhurst         Account Coordinator   \n",
       "3  1004     Morten     Samples   Account Representative IV   \n",
       "4  1005     Norman      Munnis  Desktop Support Technician   \n",
       "\n",
       "                          email   age  num_children shirt_size  annual_salary  \\\n",
       "0             cwhinray0@icq.com  63.0             1          M       31124.56   \n",
       "1       mmcphaden1@marriott.com  20.0             2          L       65875.74   \n",
       "2          chaselhurst2@icio.us  41.0             2        3XL       25548.53   \n",
       "3          msamples3@toplist.cz  43.0             1          S       51447.79   \n",
       "4  nmunnis4@cargocollective.com  41.0             0          L       54961.71   \n",
       "\n",
       "   pay_type  satisfaction_score  \n",
       "0  FullTime                 5.0  \n",
       "1  FullTime                 3.0  \n",
       "2  FullTime                 4.0  \n",
       "3  PartTime                 5.0  \n",
       "4  PartTime                 5.0  "
      ]
     },
     "execution_count": 104,
     "metadata": {},
     "output_type": "execute_result"
    }
   ],
   "source": [
    "myDF.head()"
   ]
  },
  {
   "cell_type": "code",
   "execution_count": 105,
   "metadata": {},
   "outputs": [],
   "source": [
    "myDFGrouped = myDF.groupby(['pay_type'])"
   ]
  },
  {
   "cell_type": "markdown",
   "metadata": {},
   "source": [
    "To see the resulting groups, use the *groups* property, which returns a `dict` object of relevant indices within groups:"
   ]
  },
  {
   "cell_type": "code",
   "execution_count": 106,
   "metadata": {},
   "outputs": [
    {
     "data": {
      "text/plain": [
       "{'FullTime': [0, 1, 2, 6, 9, 11, 12, 14, 16, 19, 21, 23, 24, 27, 29, 30, 31, 34, 36, 45, 49], 'PartTime': [3, 4, 5, 7, 8, 10, 13, 17, 18, 20, 22, 25, 26, 28, 32, 33, 35, 37, 38, 40, 41, 42, 43, 44, 46, 47, 48]}"
      ]
     },
     "execution_count": 106,
     "metadata": {},
     "output_type": "execute_result"
    }
   ],
   "source": [
    "myDFGrouped.groups"
   ]
  },
  {
   "cell_type": "markdown",
   "metadata": {},
   "source": [
    "Once grouped, you can do any number of operations such as computing *mean* (i.e., average) values for all numeric data columns:"
   ]
  },
  {
   "cell_type": "code",
   "execution_count": 107,
   "metadata": {},
   "outputs": [
    {
     "data": {
      "text/html": [
       "<div>\n",
       "<style scoped>\n",
       "    .dataframe tbody tr th:only-of-type {\n",
       "        vertical-align: middle;\n",
       "    }\n",
       "\n",
       "    .dataframe tbody tr th {\n",
       "        vertical-align: top;\n",
       "    }\n",
       "\n",
       "    .dataframe thead th {\n",
       "        text-align: right;\n",
       "    }\n",
       "</style>\n",
       "<table border=\"1\" class=\"dataframe\">\n",
       "  <thead>\n",
       "    <tr style=\"text-align: right;\">\n",
       "      <th></th>\n",
       "      <th>id</th>\n",
       "      <th>age</th>\n",
       "      <th>num_children</th>\n",
       "      <th>annual_salary</th>\n",
       "      <th>satisfaction_score</th>\n",
       "    </tr>\n",
       "    <tr>\n",
       "      <th>pay_type</th>\n",
       "      <th></th>\n",
       "      <th></th>\n",
       "      <th></th>\n",
       "      <th></th>\n",
       "      <th></th>\n",
       "    </tr>\n",
       "  </thead>\n",
       "  <tbody>\n",
       "    <tr>\n",
       "      <th>FullTime</th>\n",
       "      <td>1021.904762</td>\n",
       "      <td>40.476190</td>\n",
       "      <td>1.142857</td>\n",
       "      <td>55300.392857</td>\n",
       "      <td>2.666667</td>\n",
       "    </tr>\n",
       "    <tr>\n",
       "      <th>PartTime</th>\n",
       "      <td>1028.111111</td>\n",
       "      <td>42.333333</td>\n",
       "      <td>1.592593</td>\n",
       "      <td>50148.096296</td>\n",
       "      <td>3.708333</td>\n",
       "    </tr>\n",
       "  </tbody>\n",
       "</table>\n",
       "</div>"
      ],
      "text/plain": [
       "                   id        age  num_children  annual_salary  \\\n",
       "pay_type                                                        \n",
       "FullTime  1021.904762  40.476190      1.142857   55300.392857   \n",
       "PartTime  1028.111111  42.333333      1.592593   50148.096296   \n",
       "\n",
       "          satisfaction_score  \n",
       "pay_type                      \n",
       "FullTime            2.666667  \n",
       "PartTime            3.708333  "
      ]
     },
     "execution_count": 107,
     "metadata": {},
     "output_type": "execute_result"
    }
   ],
   "source": [
    "myDFGrouped.mean()"
   ]
  },
  {
   "cell_type": "markdown",
   "metadata": {},
   "source": [
    "Other aggregate functions include *count* (which counts up frequencies in each column and can help identify missing data at the column-level) and a streamlined version, *size*, which applies only to the grouping variable(s):"
   ]
  },
  {
   "cell_type": "code",
   "execution_count": 108,
   "metadata": {},
   "outputs": [
    {
     "data": {
      "text/html": [
       "<div>\n",
       "<style scoped>\n",
       "    .dataframe tbody tr th:only-of-type {\n",
       "        vertical-align: middle;\n",
       "    }\n",
       "\n",
       "    .dataframe tbody tr th {\n",
       "        vertical-align: top;\n",
       "    }\n",
       "\n",
       "    .dataframe thead th {\n",
       "        text-align: right;\n",
       "    }\n",
       "</style>\n",
       "<table border=\"1\" class=\"dataframe\">\n",
       "  <thead>\n",
       "    <tr style=\"text-align: right;\">\n",
       "      <th></th>\n",
       "      <th>id</th>\n",
       "      <th>first_name</th>\n",
       "      <th>last_name</th>\n",
       "      <th>job_title</th>\n",
       "      <th>email</th>\n",
       "      <th>age</th>\n",
       "      <th>num_children</th>\n",
       "      <th>shirt_size</th>\n",
       "      <th>annual_salary</th>\n",
       "      <th>satisfaction_score</th>\n",
       "    </tr>\n",
       "    <tr>\n",
       "      <th>pay_type</th>\n",
       "      <th></th>\n",
       "      <th></th>\n",
       "      <th></th>\n",
       "      <th></th>\n",
       "      <th></th>\n",
       "      <th></th>\n",
       "      <th></th>\n",
       "      <th></th>\n",
       "      <th></th>\n",
       "      <th></th>\n",
       "    </tr>\n",
       "  </thead>\n",
       "  <tbody>\n",
       "    <tr>\n",
       "      <th>FullTime</th>\n",
       "      <td>21</td>\n",
       "      <td>21</td>\n",
       "      <td>21</td>\n",
       "      <td>21</td>\n",
       "      <td>18</td>\n",
       "      <td>21</td>\n",
       "      <td>21</td>\n",
       "      <td>21</td>\n",
       "      <td>21</td>\n",
       "      <td>21</td>\n",
       "    </tr>\n",
       "    <tr>\n",
       "      <th>PartTime</th>\n",
       "      <td>27</td>\n",
       "      <td>27</td>\n",
       "      <td>27</td>\n",
       "      <td>27</td>\n",
       "      <td>25</td>\n",
       "      <td>27</td>\n",
       "      <td>27</td>\n",
       "      <td>27</td>\n",
       "      <td>27</td>\n",
       "      <td>24</td>\n",
       "    </tr>\n",
       "  </tbody>\n",
       "</table>\n",
       "</div>"
      ],
      "text/plain": [
       "          id  first_name  last_name  job_title  email  age  num_children  \\\n",
       "pay_type                                                                   \n",
       "FullTime  21          21         21         21     18   21            21   \n",
       "PartTime  27          27         27         27     25   27            27   \n",
       "\n",
       "          shirt_size  annual_salary  satisfaction_score  \n",
       "pay_type                                                 \n",
       "FullTime          21             21                  21  \n",
       "PartTime          27             27                  24  "
      ]
     },
     "execution_count": 108,
     "metadata": {},
     "output_type": "execute_result"
    }
   ],
   "source": [
    "myDFGrouped.count()"
   ]
  },
  {
   "cell_type": "code",
   "execution_count": 109,
   "metadata": {},
   "outputs": [
    {
     "data": {
      "text/plain": [
       "pay_type\n",
       "FullTime    21\n",
       "PartTime    27\n",
       "dtype: int64"
      ]
     },
     "execution_count": 109,
     "metadata": {},
     "output_type": "execute_result"
    }
   ],
   "source": [
    "myDFGrouped.size()"
   ]
  },
  {
   "cell_type": "markdown",
   "metadata": {},
   "source": [
    "In addition, *agg* can be used to summarise data using one or more specified functions in a list:"
   ]
  },
  {
   "cell_type": "code",
   "execution_count": 110,
   "metadata": {},
   "outputs": [
    {
     "data": {
      "text/html": [
       "<div>\n",
       "<style scoped>\n",
       "    .dataframe tbody tr th:only-of-type {\n",
       "        vertical-align: middle;\n",
       "    }\n",
       "\n",
       "    .dataframe tbody tr th {\n",
       "        vertical-align: top;\n",
       "    }\n",
       "\n",
       "    .dataframe thead tr th {\n",
       "        text-align: left;\n",
       "    }\n",
       "\n",
       "    .dataframe thead tr:last-of-type th {\n",
       "        text-align: right;\n",
       "    }\n",
       "</style>\n",
       "<table border=\"1\" class=\"dataframe\">\n",
       "  <thead>\n",
       "    <tr>\n",
       "      <th></th>\n",
       "      <th colspan=\"2\" halign=\"left\">id</th>\n",
       "      <th colspan=\"2\" halign=\"left\">age</th>\n",
       "      <th colspan=\"2\" halign=\"left\">num_children</th>\n",
       "      <th colspan=\"2\" halign=\"left\">annual_salary</th>\n",
       "      <th colspan=\"2\" halign=\"left\">satisfaction_score</th>\n",
       "    </tr>\n",
       "    <tr>\n",
       "      <th></th>\n",
       "      <th>mean</th>\n",
       "      <th>sum</th>\n",
       "      <th>mean</th>\n",
       "      <th>sum</th>\n",
       "      <th>mean</th>\n",
       "      <th>sum</th>\n",
       "      <th>mean</th>\n",
       "      <th>sum</th>\n",
       "      <th>mean</th>\n",
       "      <th>sum</th>\n",
       "    </tr>\n",
       "    <tr>\n",
       "      <th>pay_type</th>\n",
       "      <th></th>\n",
       "      <th></th>\n",
       "      <th></th>\n",
       "      <th></th>\n",
       "      <th></th>\n",
       "      <th></th>\n",
       "      <th></th>\n",
       "      <th></th>\n",
       "      <th></th>\n",
       "      <th></th>\n",
       "    </tr>\n",
       "  </thead>\n",
       "  <tbody>\n",
       "    <tr>\n",
       "      <th>FullTime</th>\n",
       "      <td>1021.904762</td>\n",
       "      <td>21460</td>\n",
       "      <td>40.476190</td>\n",
       "      <td>850.0</td>\n",
       "      <td>1.142857</td>\n",
       "      <td>24</td>\n",
       "      <td>55300.392857</td>\n",
       "      <td>1161308.25</td>\n",
       "      <td>2.666667</td>\n",
       "      <td>56.0</td>\n",
       "    </tr>\n",
       "    <tr>\n",
       "      <th>PartTime</th>\n",
       "      <td>1028.111111</td>\n",
       "      <td>27759</td>\n",
       "      <td>42.333333</td>\n",
       "      <td>1143.0</td>\n",
       "      <td>1.592593</td>\n",
       "      <td>43</td>\n",
       "      <td>50148.096296</td>\n",
       "      <td>1353998.60</td>\n",
       "      <td>3.708333</td>\n",
       "      <td>89.0</td>\n",
       "    </tr>\n",
       "  </tbody>\n",
       "</table>\n",
       "</div>"
      ],
      "text/plain": [
       "                   id               age         num_children      \\\n",
       "                 mean    sum       mean     sum         mean sum   \n",
       "pay_type                                                           \n",
       "FullTime  1021.904762  21460  40.476190   850.0     1.142857  24   \n",
       "PartTime  1028.111111  27759  42.333333  1143.0     1.592593  43   \n",
       "\n",
       "         annual_salary             satisfaction_score        \n",
       "                  mean         sum               mean   sum  \n",
       "pay_type                                                     \n",
       "FullTime  55300.392857  1161308.25           2.666667  56.0  \n",
       "PartTime  50148.096296  1353998.60           3.708333  89.0  "
      ]
     },
     "execution_count": 110,
     "metadata": {},
     "output_type": "execute_result"
    }
   ],
   "source": [
    "myDFGrouped.agg(['mean', 'sum'])"
   ]
  },
  {
   "cell_type": "markdown",
   "metadata": {},
   "source": [
    "For a full list of pandas' aggregate functions, see this [page](https://pandas.pydata.org/pandas-docs/stable/user_guide/groupby.html#aggregation). Moreover, note that the *apply* method allows you to use functions from other packages as well, including NumPy's [statistics functions](https://numpy.org/devdocs/reference/routines.statistics.html):"
   ]
  },
  {
   "cell_type": "code",
   "execution_count": 111,
   "metadata": {},
   "outputs": [
    {
     "data": {
      "text/html": [
       "<div>\n",
       "<style scoped>\n",
       "    .dataframe tbody tr th:only-of-type {\n",
       "        vertical-align: middle;\n",
       "    }\n",
       "\n",
       "    .dataframe tbody tr th {\n",
       "        vertical-align: top;\n",
       "    }\n",
       "\n",
       "    .dataframe thead th {\n",
       "        text-align: right;\n",
       "    }\n",
       "</style>\n",
       "<table border=\"1\" class=\"dataframe\">\n",
       "  <thead>\n",
       "    <tr style=\"text-align: right;\">\n",
       "      <th></th>\n",
       "      <th>id</th>\n",
       "      <th>age</th>\n",
       "      <th>num_children</th>\n",
       "      <th>annual_salary</th>\n",
       "      <th>satisfaction_score</th>\n",
       "    </tr>\n",
       "    <tr>\n",
       "      <th>pay_type</th>\n",
       "      <th></th>\n",
       "      <th></th>\n",
       "      <th></th>\n",
       "      <th></th>\n",
       "      <th></th>\n",
       "    </tr>\n",
       "  </thead>\n",
       "  <tbody>\n",
       "    <tr>\n",
       "      <th>FullTime</th>\n",
       "      <td>184.657596</td>\n",
       "      <td>226.535147</td>\n",
       "      <td>0.979592</td>\n",
       "      <td>5.952649e+08</td>\n",
       "      <td>1.269841</td>\n",
       "    </tr>\n",
       "    <tr>\n",
       "      <th>PartTime</th>\n",
       "      <td>214.024691</td>\n",
       "      <td>187.185185</td>\n",
       "      <td>1.426612</td>\n",
       "      <td>3.720820e+08</td>\n",
       "      <td>1.789931</td>\n",
       "    </tr>\n",
       "  </tbody>\n",
       "</table>\n",
       "</div>"
      ],
      "text/plain": [
       "                  id         age  num_children  annual_salary  \\\n",
       "pay_type                                                        \n",
       "FullTime  184.657596  226.535147      0.979592   5.952649e+08   \n",
       "PartTime  214.024691  187.185185      1.426612   3.720820e+08   \n",
       "\n",
       "          satisfaction_score  \n",
       "pay_type                      \n",
       "FullTime            1.269841  \n",
       "PartTime            1.789931  "
      ]
     },
     "execution_count": 111,
     "metadata": {},
     "output_type": "execute_result"
    }
   ],
   "source": [
    "# note: newer versions of numpy require explicitly selecting numeric columns beforehand to avoid a warning\n",
    "myDF.groupby('pay_type')[myDF.select_dtypes('number').columns].apply(np.var) # apply NumPy's variance function"
   ]
  },
  {
   "cell_type": "markdown",
   "metadata": {},
   "source": [
    "Finally, as mentioned earlier, note that grouping can be nested using multiple columns simultaneously:"
   ]
  },
  {
   "cell_type": "code",
   "execution_count": 112,
   "metadata": {},
   "outputs": [
    {
     "data": {
      "text/plain": [
       "pay_type  num_children\n",
       "FullTime  0               7\n",
       "          1               6\n",
       "          2               6\n",
       "          3               2\n",
       "PartTime  0               7\n",
       "          1               6\n",
       "          2               5\n",
       "          3               9\n",
       "dtype: int64"
      ]
     },
     "execution_count": 112,
     "metadata": {},
     "output_type": "execute_result"
    }
   ],
   "source": [
    "myDF.groupby(['pay_type', 'num_children']).size()"
   ]
  },
  {
   "cell_type": "markdown",
   "metadata": {},
   "source": [
    "Note that missing values (i.e, `NaN`s) can cause some confusion when considering frequency counts across one or more grouping levels. See the *dropna* argument of [*groupby*](https://pandas.pydata.org/pandas-docs/stable/reference/api/pandas.DataFrame.groupby.html) for one potential solution, although note that this approach requires care when dealing with categorical (i.e., `category`) data (see [here](https://pandas.pydata.org/pandas-docs/stable/user_guide/categorical.html#missing-data) and [here](https://pandas.pydata.org/pandas-docs/stable/user_guide/categorical.html#differences-to-r-s-factor) for more details). Converting to a different data type may resolve the issue."
   ]
  },
  {
   "cell_type": "markdown",
   "metadata": {},
   "source": [
    "##### **Writing Data**\n",
    "\n",
    "To finish up with pandas DataFrames, let's quickly discuss writing data. Similar to the discussion above regarding reading data, writing data works very similarly, with many different output formats supported (for details, see the following discussion of [input/output [IO]](https://pandas.pydata.org/pandas-docs/stable/user_guide/io.html).\n",
    "\n",
    "For example, to write to a CSV file, use the aptly named [*to_csv*](https://pandas.pydata.org/pandas-docs/stable/reference/api/pandas.DataFrame.to_csv.html) method with your DataFrame object:"
   ]
  },
  {
   "cell_type": "code",
   "execution_count": 113,
   "metadata": {},
   "outputs": [],
   "source": [
    "myDFNarrowA.to_csv('output/myDFNarrowA.csv', index = False) # note: be sure to check your path (i.e., the first argument) if you run into an error"
   ]
  },
  {
   "cell_type": "markdown",
   "metadata": {},
   "source": [
    "Similarly, to write an Excel file, use [*to_excel*](https://pandas.pydata.org/pandas-docs/stable/reference/api/pandas.DataFrame.to_excel.html#pandas.DataFrame.to_excel):"
   ]
  },
  {
   "cell_type": "code",
   "execution_count": 114,
   "metadata": {},
   "outputs": [],
   "source": [
    "# you may need to install openpyxl first; for example:\n",
    "# !conda install openpyxl --y\n",
    "# or\n",
    "# !pip install openpyxl"
   ]
  },
  {
   "cell_type": "code",
   "execution_count": 115,
   "metadata": {},
   "outputs": [],
   "source": [
    "myDFNarrowA.to_excel('output/myDFNarrowA.xlsx', index = False) # note: again, be sure to check your path (i.e., the first argument) if you run into an error"
   ]
  },
  {
   "cell_type": "markdown",
   "metadata": {},
   "source": [
    "To see the output of this data, use a file manager (e.g., Finder on Mac or File Explorer on Windows) to browse to the path you specified for the output."
   ]
  },
  {
   "cell_type": "markdown",
   "metadata": {},
   "source": [
    "##### **Other DataFrame Methods**\n",
    "\n",
    "As noted in the introduction, this bootcamp is meant to provide an overview of the core functionality when it comes to pandas DataFrames. Nevertheless, the package supports a wide range of additional, highly valuable functions, methods, etc. Again, consult the various forms of documentation provided on the [official homepage](https://pandas.pydata.org/pandas-docs/stable/index.html) for further details.\n",
    "\n",
    "In addition, see the following pages comparing pandas to [R](https://pandas.pydata.org/docs/getting_started/comparison/comparison_with_r.html) and [SQL](https://pandas.pydata.org/docs/getting_started/comparison/comparison_with_sql.html) to see how functions and methods in those languages can be achieved using pandas' syntax."
   ]
  },
  {
   "cell_type": "markdown",
   "metadata": {},
   "source": [
    "#### pandas Series\n",
    "\n",
    "In addition to DataFrames, pandas also provides an additional structure known as *Series*, which can be described as a variation of NumPy arrays. The key differentiator for Series versus arrays is that the former provides a labelled index whereas the latter can only be referenced by an integer index.\n",
    "\n",
    "To create a Series, simply use pd.Series with the following syntax:"
   ]
  },
  {
   "cell_type": "code",
   "execution_count": 116,
   "metadata": {},
   "outputs": [
    {
     "data": {
      "text/plain": [
       "A     5\n",
       "B    10\n",
       "C    15\n",
       "D    20\n",
       "E    25\n",
       "dtype: int64"
      ]
     },
     "metadata": {},
     "output_type": "display_data"
    },
    {
     "data": {
      "text/plain": [
       "pandas.core.series.Series"
      ]
     },
     "metadata": {},
     "output_type": "display_data"
    }
   ],
   "source": [
    "mySeries = pd.Series([5, 10, 15, 20, 25], index = ['A', 'B', 'C', 'D', 'E'])\n",
    "display(mySeries, type(mySeries))"
   ]
  },
  {
   "cell_type": "markdown",
   "metadata": {},
   "source": [
    "This series can be indexed by position, similar to an array using various indexing approaches, including slices:"
   ]
  },
  {
   "cell_type": "code",
   "execution_count": 117,
   "metadata": {},
   "outputs": [
    {
     "data": {
      "text/plain": [
       "15"
      ]
     },
     "execution_count": 117,
     "metadata": {},
     "output_type": "execute_result"
    }
   ],
   "source": [
    "mySeries[2] # return the 3rd value"
   ]
  },
  {
   "cell_type": "code",
   "execution_count": 118,
   "metadata": {},
   "outputs": [
    {
     "data": {
      "text/plain": [
       "A     5\n",
       "B    10\n",
       "C    15\n",
       "dtype: int64"
      ]
     },
     "execution_count": 118,
     "metadata": {},
     "output_type": "execute_result"
    }
   ],
   "source": [
    "mySeries[:3] # return the first 3 values"
   ]
  },
  {
   "cell_type": "code",
   "execution_count": 119,
   "metadata": {},
   "outputs": [
    {
     "data": {
      "text/plain": [
       "C    15\n",
       "E    25\n",
       "dtype: int64"
      ]
     },
     "execution_count": 119,
     "metadata": {},
     "output_type": "execute_result"
    }
   ],
   "source": [
    "mySeries[[2, 4]] # return the 3rd and 5th values"
   ]
  },
  {
   "cell_type": "markdown",
   "metadata": {},
   "source": [
    "Alternatively, we can index by the labelled indicies we provided while creating the Series:"
   ]
  },
  {
   "cell_type": "code",
   "execution_count": 120,
   "metadata": {},
   "outputs": [
    {
     "data": {
      "text/plain": [
       "15"
      ]
     },
     "execution_count": 120,
     "metadata": {},
     "output_type": "execute_result"
    }
   ],
   "source": [
    "mySeries['C']"
   ]
  },
  {
   "cell_type": "code",
   "execution_count": 121,
   "metadata": {},
   "outputs": [
    {
     "data": {
      "text/plain": [
       "C    15\n",
       "E    25\n",
       "dtype: int64"
      ]
     },
     "execution_count": 121,
     "metadata": {},
     "output_type": "execute_result"
    }
   ],
   "source": [
    "mySeries[['C', 'E']]"
   ]
  },
  {
   "cell_type": "markdown",
   "metadata": {},
   "source": [
    "Otherwise, series are essentially interchangeable with NumPy arrays, which can also often be substituted with other built-in sequence types such as lists and tuples. It's ultimately up to you to decide what to use, although be aware that columns within pandas DataFrames are actually series:"
   ]
  },
  {
   "cell_type": "code",
   "execution_count": 122,
   "metadata": {},
   "outputs": [
    {
     "data": {
      "text/html": [
       "<div>\n",
       "<style scoped>\n",
       "    .dataframe tbody tr th:only-of-type {\n",
       "        vertical-align: middle;\n",
       "    }\n",
       "\n",
       "    .dataframe tbody tr th {\n",
       "        vertical-align: top;\n",
       "    }\n",
       "\n",
       "    .dataframe thead th {\n",
       "        text-align: right;\n",
       "    }\n",
       "</style>\n",
       "<table border=\"1\" class=\"dataframe\">\n",
       "  <thead>\n",
       "    <tr style=\"text-align: right;\">\n",
       "      <th></th>\n",
       "      <th>id</th>\n",
       "      <th>first_name</th>\n",
       "      <th>last_name</th>\n",
       "      <th>job_title</th>\n",
       "    </tr>\n",
       "  </thead>\n",
       "  <tbody>\n",
       "    <tr>\n",
       "      <th>0</th>\n",
       "      <td>1001</td>\n",
       "      <td>Cobbie</td>\n",
       "      <td>Whinray</td>\n",
       "      <td>Account Executive</td>\n",
       "    </tr>\n",
       "    <tr>\n",
       "      <th>1</th>\n",
       "      <td>1002</td>\n",
       "      <td>Milton</td>\n",
       "      <td>McPhaden</td>\n",
       "      <td>Recruiter</td>\n",
       "    </tr>\n",
       "    <tr>\n",
       "      <th>2</th>\n",
       "      <td>1003</td>\n",
       "      <td>Coralyn</td>\n",
       "      <td>Haselhurst</td>\n",
       "      <td>Account Coordinator</td>\n",
       "    </tr>\n",
       "    <tr>\n",
       "      <th>3</th>\n",
       "      <td>1004</td>\n",
       "      <td>Morten</td>\n",
       "      <td>Samples</td>\n",
       "      <td>Account Representative IV</td>\n",
       "    </tr>\n",
       "    <tr>\n",
       "      <th>4</th>\n",
       "      <td>1005</td>\n",
       "      <td>Norman</td>\n",
       "      <td>Munnis</td>\n",
       "      <td>Desktop Support Technician</td>\n",
       "    </tr>\n",
       "  </tbody>\n",
       "</table>\n",
       "</div>"
      ],
      "text/plain": [
       "     id first_name   last_name                   job_title\n",
       "0  1001     Cobbie     Whinray           Account Executive\n",
       "1  1002     Milton    McPhaden                   Recruiter\n",
       "2  1003    Coralyn  Haselhurst         Account Coordinator\n",
       "3  1004     Morten     Samples   Account Representative IV\n",
       "4  1005     Norman      Munnis  Desktop Support Technician"
      ]
     },
     "execution_count": 122,
     "metadata": {},
     "output_type": "execute_result"
    }
   ],
   "source": [
    "myDFSmaller = myDF.iloc[:5, :4].copy()\n",
    "myDFSmaller"
   ]
  },
  {
   "cell_type": "code",
   "execution_count": 123,
   "metadata": {},
   "outputs": [
    {
     "data": {
      "text/plain": [
       "pandas.core.series.Series"
      ]
     },
     "execution_count": 123,
     "metadata": {},
     "output_type": "execute_result"
    }
   ],
   "source": [
    "type(myDFSmaller['id'])"
   ]
  }
 ],
 "metadata": {
  "kernelspec": {
   "display_name": "Python 3 (ipykernel)",
   "language": "python",
   "name": "python3"
  },
  "language_info": {
   "codemirror_mode": {
    "name": "ipython",
    "version": 3
   },
   "file_extension": ".py",
   "mimetype": "text/x-python",
   "name": "python",
   "nbconvert_exporter": "python",
   "pygments_lexer": "ipython3",
   "version": "3.9.7"
  }
 },
 "nbformat": 4,
 "nbformat_minor": 4
}
