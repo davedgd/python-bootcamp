{
 "cells": [
  {
   "cell_type": "markdown",
   "metadata": {},
   "source": [
    "## **Python Bootcamp - Unit 5 Exercises**\n",
    "---\n",
    "**Author:** David Dobolyi\n",
    "\n",
    "**Contents**\n",
    "- [Exercise 1](#Exercise-1)\n",
    "- [Exercise 2](#Exercise-2)\n",
    "- [Exercise 3](#Exercise-3)\n",
    "- [Exercise 4](#Exercise-4)\n",
    "- [Exercise 5](#Exercise-5)\n",
    "- [Exercise 6](#Exercise-6)\n",
    "- [Exercise 7](#Exercise-7)\n",
    "- [Exercise 8](#Exercise-8)\n",
    "- [Exercise 9](#Exercise-9)"
   ]
  },
  {
   "cell_type": "markdown",
   "metadata": {},
   "source": [
    "---\n",
    "### Exercise 1\n",
    "\n",
    "Create the following NumPy arrays and use the display function to show their contents:\n",
    "\n",
    "1. **exVec1** containing the following numbers: 3, 10, -5, 4, 8\n",
    "2. **exVec2** containing the following numbers: 5, -6, NA, 3, 11\n",
    "3. **exVec3** containing a sequence from -5 to 5 by steps of 0.5 (e.g., -5.0, -4.5, -4.0, and so on to positive 5.0)\n",
    "\n",
    "*Hint*: for creating the third array, see the NumPy [*arange*](https://numpy.org/doc/stable/reference/generated/numpy.arange.html) method."
   ]
  },
  {
   "cell_type": "markdown",
   "metadata": {},
   "source": [
    "---\n",
    "### Exercise 2\n",
    "\n",
    "Add together exVec1 and exVec2 and store these in a new object called exVecResult using a single command. Show the result."
   ]
  },
  {
   "cell_type": "markdown",
   "metadata": {},
   "source": [
    "---\n",
    "### Exercise 3\n",
    "\n",
    "Use bracket notation to: \n",
    "\n",
    "1. return the 3rd value inside  exVec1\n",
    "2. return all but the 2nd and 3rd values in exVec2"
   ]
  },
  {
   "cell_type": "markdown",
   "metadata": {},
   "source": [
    "---\n",
    "### Exercise 4\n",
    "\n",
    "Use functions and/or relational operators to:\n",
    "\n",
    "1. show the length of each of the three arrays created above\n",
    "2. find the sum of the exVec1\n",
    "3. find the mean of the exVec2\n",
    "4. calculate the mean of exVec2 again, but this time using algebra (e.g., by summing up and dividing)\n",
    "5. show that the calculations in C and D are equivalent/identical"
   ]
  },
  {
   "cell_type": "markdown",
   "metadata": {},
   "source": [
    "---\n",
    "### Exercise 5\n",
    "\n",
    "Read in the data file \"ExerciseData1.txt\" in Python-Bootcamp-Unit5-Data.zip (under the exercise-data folder) and store it in a pandas DataFrame called exDat1. To verify you imported the data correctly, show the following for exDat1:\n",
    "\n",
    "- the head of the data (e.g., the first five rows)\n",
    "- the shape of the data (i.e., the number of rows and columns)\n",
    "- the data types for each column\n",
    "\n",
    "*Hint*: the correct dimensions are six rows by five columns."
   ]
  },
  {
   "cell_type": "markdown",
   "metadata": {},
   "source": [
    "---\n",
    "### Exercise 6\n",
    "\n",
    "Read in the data file \"ExerciseData2.txt\" in Python-Bootcamp-Unit5-Data.zip (under the exercise-data folder) and store it in a pandas DataFrame called exDat2. To verify you imported the data correctly, show the following for exDat2:\n",
    "\n",
    "- the head of the data (e.g., the first five rows)\n",
    "- the shape of the data (i.e., the number of rows and columns)\n",
    "- the data types for each column\n",
    "\n",
    "*Hint*: make sure you have accounted for the correct separator in this data file."
   ]
  },
  {
   "cell_type": "markdown",
   "metadata": {},
   "source": [
    "---\n",
    "### Exercise 7\n",
    "\n",
    "Use the pandas [*equals*](https://pandas.pydata.org/docs/reference/api/pandas.DataFrame.equals.html) method to show ExDat1 and ExDat2 are identical (if they are not, amend your data import code accordingly)."
   ]
  },
  {
   "cell_type": "markdown",
   "metadata": {},
   "source": [
    "---\n",
    "### Exercise 8\n",
    "\n",
    "Read in the data file \"ExerciseData3.txt\" in Python-Bootcamp-Unit5-Data.zip (under the exercise-data folder) and store it in a pandas DataFrame called exDat3. To verify you imported the data correctly, show the following for exDat2:\n",
    "\n",
    "- the head of the data (e.g., the first five rows)\n",
    "- the shape of the data (i.e., the number of rows and columns)\n",
    "- the data types for each column\n",
    "\n",
    "*Hint*: make sure you have accounted for the quoting characters in this data file; in addition, you may want to open the file in a text editor to see if there is something else wrong with it."
   ]
  },
  {
   "cell_type": "markdown",
   "metadata": {},
   "source": [
    "---\n",
    "### Exercise 9\n",
    "\n",
    "Use the pandas [*equals*](https://pandas.pydata.org/docs/reference/api/pandas.DataFrame.equals.html) method to show ExDat2 and ExDat3 are identical (if they are not, amend your data import code accordingly)."
   ]
  }
 ],
 "metadata": {
  "kernelspec": {
   "display_name": "Python 3 (ipykernel)",
   "language": "python",
   "name": "python3"
  },
  "language_info": {
   "codemirror_mode": {
    "name": "ipython",
    "version": 3
   },
   "file_extension": ".py",
   "mimetype": "text/x-python",
   "name": "python",
   "nbconvert_exporter": "python",
   "pygments_lexer": "ipython3",
   "version": "3.9.6"
  }
 },
 "nbformat": 4,
 "nbformat_minor": 4
}
